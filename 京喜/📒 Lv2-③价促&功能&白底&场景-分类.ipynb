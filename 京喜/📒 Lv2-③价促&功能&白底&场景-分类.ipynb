{
 "cells": [
  {
   "cell_type": "code",
   "execution_count": null,
   "metadata": {},
   "outputs": [],
   "source": [
    "# import os\n",
    "# import shutil\n",
    "# from PIL import Image\n",
    "# from paddleocr import PaddleOCR\n",
    "# from tqdm import tqdm\n",
    "# from datetime import datetime\n",
    "# import math\n",
    "# import time\n",
    "# import numpy as np\n",
    "# import pandas as pd\n",
    "\n",
    "# # 定义基础路径\n",
    "# base_path = 'D://code//data//Lv2期结论//京喜_from_0501//筛选'\n",
    "\n",
    "# # 初始化 PaddleOCR\n",
    "# ocr = PaddleOCR(use_angle_cls=True, lang=\"ch\", show_log=False)\n",
    "\n",
    "# def move_images_with_white_pixels(source_folder, white_folder, threshold=0.40):\n",
    "#     image_files = [f for f in os.listdir(source_folder) if f.endswith(('.jpg', '.png'))]\n",
    "    \n",
    "#     with tqdm(total=len(image_files), desc=f\"Moving images from {source_folder}\") as pbar:\n",
    "#         for filename in image_files:\n",
    "#             img_path = os.path.join(source_folder, filename)\n",
    "            \n",
    "#             with Image.open(img_path) as img:\n",
    "#                 if img.mode != 'RGB':\n",
    "#                     img = img.convert('RGB')\n",
    "#                 width, height = img.size\n",
    "            \n",
    "#                 white_pixels = sum(1 for x in range(width) for y in range(height) \n",
    "#                                    if all(v > 230 for v in img.getpixel((x, y))[:3]))\n",
    "                \n",
    "#                 white_ratio = white_pixels / (width * height)\n",
    "                \n",
    "#                 if white_ratio > threshold:\n",
    "#                     target_path = os.path.join(white_folder, filename)\n",
    "#                     try:\n",
    "#                         shutil.move(img_path, white_folder)\n",
    "#                         pbar.write(f\"Image '{filename}' moved to white folder.\")\n",
    "#                     except Exception as e:\n",
    "#                         pbar.write(f\"Error moving image '{filename}': {e}\")\n",
    "                        \n",
    "#             pbar.update(1)\n",
    "\n",
    "# def process_subfolder(subfolder_path):\n",
    "#     grounding_output_path = os.path.join(subfolder_path, 'grounding_output')\n",
    "#     if not os.path.exists(grounding_output_path):\n",
    "#         # print(f\"No grounding_output folder in {subfolder_path}\")\n",
    "#         return\n",
    "\n",
    "#     # 创建分类文件夹\n",
    "#     price_folder = os.path.join(grounding_output_path, 'price')\n",
    "#     txt_folder = os.path.join(grounding_output_path, 'txt')\n",
    "#     scene_folder = os.path.join(grounding_output_path, 'scene')\n",
    "#     white_folder = os.path.join(grounding_output_path, 'white')\n",
    "\n",
    "#     for folder in [price_folder, txt_folder, scene_folder, white_folder]:\n",
    "#         if not os.path.exists(folder):\n",
    "#             os.makedirs(folder)\n",
    "\n",
    "#     # 获取所有图片文件\n",
    "#     image_files = [f for f in os.listdir(grounding_output_path) if f.endswith(('.jpg', '.png'))]\n",
    "\n",
    "#     # Step 1: 筛选价促卖点图\n",
    "#     print('Step 1: 筛选价促卖点图')\n",
    "#     with tqdm(total=len(image_files), desc=\"Processing images\") as pbar:\n",
    "#         for filename in image_files:\n",
    "#             img_path = os.path.join(grounding_output_path, filename)\n",
    "            \n",
    "#             result = ocr.ocr(img_path, cls=True)\n",
    "            \n",
    "#             if not result:\n",
    "#                 pbar.update(1)\n",
    "#                 continue\n",
    "            \n",
    "#             data_list = result[0]\n",
    "            \n",
    "#             keywords = ['满', '减', '折', '到手价', '送', '免息', '活动价', '包邮价', '参考价', \n",
    "#                         r'.*满.*减.*', r'.*满.*-.*', r'.*满.*赠.*',r'.*满.*送.*', r'.*价.*', \n",
    "#                         '券', '优惠', '用券', '领券', '券', '送', '低至', '立减', '直降', '免息',\n",
    "#                         '¥', '夫', '￥','分钱']\n",
    "            \n",
    "#             contains_keyword = any(any(keyword in data[1][0] for keyword in keywords) for data in data_list)\n",
    "            \n",
    "#             if contains_keyword:\n",
    "#                 try:\n",
    "#                     shutil.move(img_path, price_folder)\n",
    "#                     pbar.write(f\"Image '{filename}' moved to price_folder.\")\n",
    "#                 except Exception as e:\n",
    "#                     pbar.write(f\"Failed to move image '{filename}': {e}\")\n",
    "            \n",
    "#             pbar.update(1)\n",
    "\n",
    "#     # 更新图片文件列表，排除已移动的文件\n",
    "#     image_files = [f for f in os.listdir(grounding_output_path) if f.endswith(('.jpg', '.png'))]\n",
    "\n",
    "#     # Step 2: 筛选白底图\n",
    "#     print('Step 2: 筛选白底图')\n",
    "#     move_images_with_white_pixels(grounding_output_path, white_folder, threshold=0.40)\n",
    "\n",
    "#     # 更新图片文件列表，排除已移动的文件\n",
    "#     image_files = [f for f in os.listdir(grounding_output_path) if f.endswith(('.jpg', '.png'))]\n",
    "\n",
    "#     # Step 3: 筛选功能卖点图\n",
    "#     print('Step 3: 筛选功能卖点图')\n",
    "#     for filename in image_files:\n",
    "#         img_path = os.path.join(grounding_output_path, filename)\n",
    "        \n",
    "#         img = Image.open(img_path)\n",
    "#         width, height = img.size\n",
    "        \n",
    "#         cropped_img = img.crop((0, height // 6, width, height))\n",
    "#         img_np = np.array(cropped_img)\n",
    "        \n",
    "#         result = ocr.ocr(img_np, cls=True)\n",
    "        \n",
    "#         if result is None or result[0] is None:\n",
    "#             continue\n",
    "            \n",
    "#         rectangles_with_text = result[0]\n",
    "#         line_count = len(rectangles_with_text)\n",
    "        \n",
    "#         if line_count >= 2:\n",
    "#             shutil.move(img_path, txt_folder)\n",
    "#             # print(f\"'{filename}' moved to txt folder.\")\n",
    "#         else:\n",
    "#             # print(f\"'{filename}' remains in source folder.\")\n",
    "#             continue\n",
    "\n",
    "#     # Step 4: 将剩余图片归类到scene\n",
    "#     print('Step 4: 归类图片到scene')\n",
    "#     image_files = [f for f in os.listdir(grounding_output_path) if f.endswith(('.jpg', '.png'))]\n",
    "#     for filename in image_files:\n",
    "#         img_path = os.path.join(grounding_output_path, filename)\n",
    "#         shutil.move(img_path, scene_folder)\n",
    "#         # print(f\"Image '{filename}' moved to scene_folder.\")\n",
    "\n",
    "#     # Step 5: 将white中有文本的图片移到txt_folder\n",
    "#     print('Step 5: 将white中有文本的图片移到txt_folder')\n",
    "#     image_files = [f for f in os.listdir(white_folder) if f.endswith(('.jpg', '.png'))]\n",
    "#     with tqdm(total=len(image_files), desc=\"Processing images\") as pbar:\n",
    "#         for filename in image_files:\n",
    "#             img_path = os.path.join(white_folder, filename)\n",
    "#             img = Image.open(img_path)\n",
    "#             width, height = img.size\n",
    "#             cropped_img = img.crop((0, height // 6, width, height))\n",
    "#             img_np = np.array(cropped_img)\n",
    "#             result = ocr.ocr(img_np, cls=True)\n",
    "            \n",
    "#             if result is None or result[0] is None:\n",
    "#                 pbar.update(1)\n",
    "#                 continue\n",
    "                \n",
    "#             rectangles_with_text = result[0]\n",
    "#             lines_above_30_count = sum(1 for rectangle in rectangles_with_text if min(math.sqrt((x - rectangle[0][0][0])**2 + (y - rectangle[0][0][1])**2) for x, y in rectangle[0][1:]) > 30)\n",
    "                \n",
    "#             if lines_above_30_count >= 2:\n",
    "#                 shutil.move(img_path, txt_folder)\n",
    "#                 pbar.write(f\"Image '{filename}' moved to txt_folder.\")\n",
    "#             else:\n",
    "#                 pbar.write(f\"Image '{filename}' remains in white folder.\")\n",
    "            \n",
    "#             pbar.update(1)\n",
    "\n",
    "# # 主程序\n",
    "# subfolders = [f.path for f in os.scandir(base_path) if f.is_dir()]\n",
    "\n",
    "# for subfolder in subfolders:\n",
    "#     print(f\"Processing subfolder: {subfolder}\")\n",
    "#     process_subfolder(subfolder)\n",
    "\n",
    "# print('All processing completed.')\n",
    "\n",
    "# # 获取当前时间\n",
    "# current_time = datetime.now()\n",
    "# print(\"完成时间:\", current_time)\n",
    "\n"
   ]
  },
  {
   "cell_type": "code",
   "execution_count": 1,
   "metadata": {},
   "outputs": [
    {
     "name": "stdout",
     "output_type": "stream",
     "text": [
      "Processing subfolder: D://code//data//Lv2期结论//京喜_from_0501//筛选\\1047\n",
      "Step 1: 筛选价促卖点图\n"
     ]
    },
    {
     "name": "stderr",
     "output_type": "stream",
     "text": [
      "Processing images: 100%|██████████| 35/35 [00:07<00:00,  4.91it/s]\n"
     ]
    },
    {
     "name": "stdout",
     "output_type": "stream",
     "text": [
      "Step 2: 筛选白底图\n"
     ]
    },
    {
     "name": "stderr",
     "output_type": "stream",
     "text": [
      "Processing images: 100%|██████████| 35/35 [00:07<00:00,  4.82it/s]\n"
     ]
    },
    {
     "name": "stdout",
     "output_type": "stream",
     "text": [
      "Step 3: 筛选功能卖点图\n"
     ]
    },
    {
     "name": "stderr",
     "output_type": "stream",
     "text": [
      "Processing images:   0%|          | 0/35 [00:07<?, ?it/s]\n"
     ]
    },
    {
     "name": "stdout",
     "output_type": "stream",
     "text": [
      "Step 4: 归类图片到scene\n",
      "Step 5: 将white中有文本的图片移到txt_folder\n"
     ]
    },
    {
     "name": "stderr",
     "output_type": "stream",
     "text": [
      "Processing images: 0it [00:00, ?it/s]\n"
     ]
    },
    {
     "name": "stdout",
     "output_type": "stream",
     "text": [
      "Processing subfolder: D://code//data//Lv2期结论//京喜_from_0501//筛选\\12010\n",
      "Step 1: 筛选价促卖点图\n"
     ]
    },
    {
     "name": "stderr",
     "output_type": "stream",
     "text": [
      "Processing images:   9%|▉         | 8/85 [00:02<00:22,  3.46it/s]"
     ]
    },
    {
     "name": "stdout",
     "output_type": "stream",
     "text": [
      "Image '6674ef7dFa3a4ee08_662a3a67befb0b56.jpg' moved to price_folder.\n"
     ]
    },
    {
     "name": "stderr",
     "output_type": "stream",
     "text": [
      "Processing images:  66%|██████▌   | 56/85 [00:13<00:07,  4.14it/s]"
     ]
    },
    {
     "name": "stdout",
     "output_type": "stream",
     "text": [
      "Image '66dab88bF609ed4b8_b31f1b323254bb6a.jpg' moved to price_folder.\n"
     ]
    },
    {
     "name": "stderr",
     "output_type": "stream",
     "text": [
      "Processing images:  88%|████████▊ | 75/85 [00:18<00:01,  5.40it/s]"
     ]
    },
    {
     "name": "stdout",
     "output_type": "stream",
     "text": [
      "Image '66f19ab9F5a90dbf8_efce31ec62620322.jpg' moved to price_folder.\n"
     ]
    },
    {
     "name": "stderr",
     "output_type": "stream",
     "text": [
      "Processing images: 100%|██████████| 85/85 [00:21<00:00,  3.98it/s]\n"
     ]
    },
    {
     "name": "stdout",
     "output_type": "stream",
     "text": [
      "Step 2: 筛选白底图\n"
     ]
    },
    {
     "name": "stderr",
     "output_type": "stream",
     "text": [
      "Processing images: 100%|██████████| 82/82 [00:20<00:00,  3.92it/s]\n"
     ]
    },
    {
     "name": "stdout",
     "output_type": "stream",
     "text": [
      "Step 3: 筛选功能卖点图\n"
     ]
    },
    {
     "name": "stderr",
     "output_type": "stream",
     "text": [
      "Processing images:   0%|          | 0/82 [00:20<?, ?it/s]\n"
     ]
    },
    {
     "name": "stdout",
     "output_type": "stream",
     "text": [
      "Step 4: 归类图片到scene\n",
      "Step 5: 将white中有文本的图片移到txt_folder\n"
     ]
    },
    {
     "name": "stderr",
     "output_type": "stream",
     "text": [
      "Processing images: 0it [00:00, ?it/s]\n"
     ]
    },
    {
     "name": "stdout",
     "output_type": "stream",
     "text": [
      "Processing subfolder: D://code//data//Lv2期结论//京喜_from_0501//筛选\\12811\n",
      "Step 1: 筛选价促卖点图\n"
     ]
    },
    {
     "name": "stderr",
     "output_type": "stream",
     "text": [
      "Processing images: 100%|██████████| 36/36 [00:08<00:00,  4.16it/s]\n"
     ]
    },
    {
     "name": "stdout",
     "output_type": "stream",
     "text": [
      "Step 2: 筛选白底图\n"
     ]
    },
    {
     "name": "stderr",
     "output_type": "stream",
     "text": [
      "Processing images: 100%|██████████| 36/36 [00:09<00:00,  3.84it/s]\n"
     ]
    },
    {
     "name": "stdout",
     "output_type": "stream",
     "text": [
      "Step 3: 筛选功能卖点图\n"
     ]
    },
    {
     "name": "stderr",
     "output_type": "stream",
     "text": [
      "Processing images:   0%|          | 0/36 [00:08<?, ?it/s]\n"
     ]
    },
    {
     "name": "stdout",
     "output_type": "stream",
     "text": [
      "Step 4: 归类图片到scene\n",
      "Step 5: 将white中有文本的图片移到txt_folder\n"
     ]
    },
    {
     "name": "stderr",
     "output_type": "stream",
     "text": [
      "Processing images: 0it [00:00, ?it/s]\n"
     ]
    },
    {
     "name": "stdout",
     "output_type": "stream",
     "text": [
      "Processing subfolder: D://code//data//Lv2期结论//京喜_from_0501//筛选\\1349\n",
      "Step 1: 筛选价促卖点图\n"
     ]
    },
    {
     "name": "stderr",
     "output_type": "stream",
     "text": [
      "Processing images:  12%|█▏        | 31/264 [00:06<00:46,  5.04it/s]"
     ]
    },
    {
     "name": "stdout",
     "output_type": "stream",
     "text": [
      "Image '667e8b10F35bb0157_f1012e98fa0ef6b6.jpg' moved to price_folder.\n"
     ]
    },
    {
     "name": "stderr",
     "output_type": "stream",
     "text": [
      "Processing images:  14%|█▎        | 36/264 [00:08<01:00,  3.76it/s]"
     ]
    },
    {
     "name": "stdout",
     "output_type": "stream",
     "text": [
      "Image '667e8cb2F91d2892c_42321eb6a31e1763.jpg' moved to price_folder.\n"
     ]
    },
    {
     "name": "stderr",
     "output_type": "stream",
     "text": [
      "Processing images:  16%|█▋        | 43/264 [00:09<00:48,  4.57it/s]"
     ]
    },
    {
     "name": "stdout",
     "output_type": "stream",
     "text": [
      "Image '66829c9dFded8d0c9_d6fbce6ed01087ac.jpg' moved to price_folder.\n"
     ]
    },
    {
     "name": "stderr",
     "output_type": "stream",
     "text": [
      "Processing images:  22%|██▏       | 59/264 [00:12<00:24,  8.29it/s]"
     ]
    },
    {
     "name": "stdout",
     "output_type": "stream",
     "text": [
      "Image '668f47d0F53d981a8_678e1a3621d60a85.jpg' moved to price_folder.\n"
     ]
    },
    {
     "name": "stderr",
     "output_type": "stream",
     "text": [
      "Processing images:  43%|████▎     | 113/264 [00:21<00:22,  6.84it/s]"
     ]
    },
    {
     "name": "stdout",
     "output_type": "stream",
     "text": [
      "Image '66b5c462Fd411f347_94024c6c7b31fa72.jpg' moved to price_folder.\n"
     ]
    },
    {
     "name": "stderr",
     "output_type": "stream",
     "text": [
      "Processing images:  57%|█████▋    | 151/264 [00:29<00:20,  5.65it/s]"
     ]
    },
    {
     "name": "stdout",
     "output_type": "stream",
     "text": [
      "Image '66c80963F91c51f1b_c83904bf5bcb583c.jpg' moved to price_folder.\n"
     ]
    },
    {
     "name": "stderr",
     "output_type": "stream",
     "text": [
      "Processing images:  61%|██████▏   | 162/264 [00:31<00:24,  4.22it/s]"
     ]
    },
    {
     "name": "stdout",
     "output_type": "stream",
     "text": [
      "Image '66ceb6adFddefc2d8_9ce0760a3a4fb1cf.jpg' moved to price_folder.\n"
     ]
    },
    {
     "name": "stderr",
     "output_type": "stream",
     "text": [
      "Processing images:  69%|██████▉   | 182/264 [00:35<00:20,  4.10it/s]"
     ]
    },
    {
     "name": "stdout",
     "output_type": "stream",
     "text": [
      "Image '66dab7c2Fa1211b2b_87c0cc89405e73db.jpg' moved to price_folder.\n"
     ]
    },
    {
     "name": "stderr",
     "output_type": "stream",
     "text": [
      "Processing images:  76%|███████▌  | 200/264 [00:40<00:17,  3.72it/s]"
     ]
    },
    {
     "name": "stdout",
     "output_type": "stream",
     "text": [
      "Image '66ea3580F6caabca7_6bbcd3602abae859.jpg' moved to price_folder.\n"
     ]
    },
    {
     "name": "stderr",
     "output_type": "stream",
     "text": [
      "Processing images: 100%|██████████| 264/264 [00:50<00:00,  5.27it/s]\n"
     ]
    },
    {
     "name": "stdout",
     "output_type": "stream",
     "text": [
      "Step 2: 筛选白底图\n"
     ]
    },
    {
     "name": "stderr",
     "output_type": "stream",
     "text": [
      "Processing images:  90%|█████████ | 230/255 [00:51<00:02,  8.59it/s]"
     ]
    },
    {
     "name": "stdout",
     "output_type": "stream",
     "text": [
      "Image 'txt_667c0710Fbbbbba85_1fec84336abab2c1.jpg' moved to white_folder.\n",
      "Image 'txt_667c0713F9359b984_2da465eead0795f5.jpg' moved to white_folder.\n"
     ]
    },
    {
     "name": "stderr",
     "output_type": "stream",
     "text": [
      "Processing images:  91%|█████████ | 232/255 [00:51<00:02,  8.44it/s]"
     ]
    },
    {
     "name": "stdout",
     "output_type": "stream",
     "text": [
      "Image 'txt_667e8d8eFbc8a0cef_7e76c935d9d502f9.jpg' moved to white_folder.\n",
      "Image 'txt_66877cf9Fc904209e_4845e56b1b4e565d.jpg' moved to white_folder.\n"
     ]
    },
    {
     "name": "stderr",
     "output_type": "stream",
     "text": [
      "Processing images:  91%|█████████▏| 233/255 [00:51<00:02,  8.62it/s]"
     ]
    },
    {
     "name": "stdout",
     "output_type": "stream",
     "text": [
      "Image 'txt_66877d90F5964f1ec_e51ea7acafe462fe.jpg' moved to white_folder.\n",
      "Image 'txt_66877d98Fad55a207_c6c819f985df43b1.jpg' moved to white_folder.\n"
     ]
    },
    {
     "name": "stderr",
     "output_type": "stream",
     "text": [
      "Processing images:  93%|█████████▎| 236/255 [00:51<00:02,  8.89it/s]"
     ]
    },
    {
     "name": "stdout",
     "output_type": "stream",
     "text": [
      "Image 'txt_66877d98Fd6b13a6a_75b617924252d2b5.jpg' moved to white_folder.\n",
      "Image 'txt_66877d99F7e520b6d_f6525dbabf946e89.jpg' moved to white_folder.\n"
     ]
    },
    {
     "name": "stderr",
     "output_type": "stream",
     "text": [
      "Processing images:  93%|█████████▎| 238/255 [00:51<00:01,  8.90it/s]"
     ]
    },
    {
     "name": "stdout",
     "output_type": "stream",
     "text": [
      "Image 'txt_66910455Fe1da4e7a_1ca5b778e86cd7d6.jpg' moved to white_folder.\n",
      "Image 'txt_66910456F83238335_bfbf5b4f4c0770b8.jpg' moved to white_folder.\n"
     ]
    },
    {
     "name": "stderr",
     "output_type": "stream",
     "text": [
      "Processing images:  94%|█████████▍| 240/255 [00:52<00:01,  8.63it/s]"
     ]
    },
    {
     "name": "stdout",
     "output_type": "stream",
     "text": [
      "Image 'txt_6698f21cF47547fbd_e2a874a74f88182e.jpg' moved to white_folder.\n",
      "Image 'txt_669a8294F0441250a_ae692ddc8d1f07b0.jpg' moved to white_folder.\n"
     ]
    },
    {
     "name": "stderr",
     "output_type": "stream",
     "text": [
      "Processing images:  95%|█████████▍| 242/255 [00:52<00:01,  8.53it/s]"
     ]
    },
    {
     "name": "stdout",
     "output_type": "stream",
     "text": [
      "Image 'txt_66a3110dFa09c1fa5_77b77b01716656c5.jpg' moved to white_folder.\n",
      "Image 'txt_66a31253F81306bd7_478d51d9a2dae9fc.jpg' moved to white_folder.\n"
     ]
    },
    {
     "name": "stderr",
     "output_type": "stream",
     "text": [
      "Processing images:  96%|█████████▌| 244/255 [00:52<00:01,  8.46it/s]"
     ]
    },
    {
     "name": "stdout",
     "output_type": "stream",
     "text": [
      "Image 'txt_66a31253Fd023e0ab_59c5db7bee3f6bb9.jpg' moved to white_folder.\n",
      "Image 'txt_66ab77d2F24047a3b_9e5cdf5068b6e0f7.jpg' moved to white_folder.\n"
     ]
    },
    {
     "name": "stderr",
     "output_type": "stream",
     "text": [
      "Processing images:  96%|█████████▋| 246/255 [00:52<00:01,  8.45it/s]"
     ]
    },
    {
     "name": "stdout",
     "output_type": "stream",
     "text": [
      "Image 'txt_66b30cd4F55198744_fa1f88409313c526.jpg' moved to white_folder.\n",
      "Image 'txt_66b5c489Fb3ff0aeb_a443fb6b8a6d64d5.jpg' moved to white_folder.\n"
     ]
    },
    {
     "name": "stderr",
     "output_type": "stream",
     "text": [
      "Processing images:  97%|█████████▋| 248/255 [00:53<00:00,  8.49it/s]"
     ]
    },
    {
     "name": "stdout",
     "output_type": "stream",
     "text": [
      "Image 'txt_66b5c494Fd36fcdda_1ba76f822ae41ad4.jpg' moved to white_folder.\n",
      "Image 'txt_66bc11faF388252cb_a4e3dfcf988e30cb.jpg' moved to white_folder.\n"
     ]
    },
    {
     "name": "stderr",
     "output_type": "stream",
     "text": [
      "Processing images:  98%|█████████▊| 250/255 [00:53<00:00,  8.81it/s]"
     ]
    },
    {
     "name": "stdout",
     "output_type": "stream",
     "text": [
      "Image 'txt_66c0bde7Ffeefc659_655fe163dda44fa2.jpg' moved to white_folder.\n",
      "Image 'txt_66c2bee0Fe82fa22c_2cbce2fcf53dcb85.jpg' moved to white_folder.\n"
     ]
    },
    {
     "name": "stderr",
     "output_type": "stream",
     "text": [
      "Processing images:  99%|█████████▉| 252/255 [00:53<00:00,  8.28it/s]"
     ]
    },
    {
     "name": "stdout",
     "output_type": "stream",
     "text": [
      "Image 'txt_66c2bee7Fe4866163_0dc79f5ef8500f97.jpg' moved to white_folder.\n"
     ]
    },
    {
     "name": "stderr",
     "output_type": "stream",
     "text": [
      "Processing images: 100%|█████████▉| 254/255 [00:53<00:00,  8.68it/s]"
     ]
    },
    {
     "name": "stdout",
     "output_type": "stream",
     "text": [
      "Image 'txt_66dab956F7c668d77_381063f1b3d91946.jpg' moved to white_folder.\n",
      "Image 'txt_66f1791aF77ee5d45_94f2132b6ce4dc7a.jpg' moved to white_folder.\n"
     ]
    },
    {
     "name": "stderr",
     "output_type": "stream",
     "text": [
      "Processing images: 100%|██████████| 255/255 [00:53<00:00,  4.73it/s]\n"
     ]
    },
    {
     "name": "stdout",
     "output_type": "stream",
     "text": [
      "Image 'txt_66f60d2dF728df935_9365d929a912a9ae.jpg' moved to white_folder.\n",
      "Step 3: 筛选功能卖点图\n"
     ]
    },
    {
     "name": "stderr",
     "output_type": "stream",
     "text": [
      "Processing images:   0%|          | 0/229 [00:48<?, ?it/s]\n"
     ]
    },
    {
     "name": "stdout",
     "output_type": "stream",
     "text": [
      "Step 4: 归类图片到scene\n",
      "Step 5: 将white中有文本的图片移到txt_folder\n"
     ]
    },
    {
     "name": "stderr",
     "output_type": "stream",
     "text": [
      "Processing images:   4%|▍         | 1/26 [00:00<00:03,  8.00it/s]"
     ]
    },
    {
     "name": "stdout",
     "output_type": "stream",
     "text": [
      "Image 'txt_667c0710Fbbbbba85_1fec84336abab2c1.jpg' remains in white folder.\n"
     ]
    },
    {
     "name": "stderr",
     "output_type": "stream",
     "text": [
      "Processing images:   8%|▊         | 2/26 [00:00<00:02,  8.63it/s]"
     ]
    },
    {
     "name": "stdout",
     "output_type": "stream",
     "text": [
      "Image 'txt_667c0713F9359b984_2da465eead0795f5.jpg' remains in white folder.\n"
     ]
    },
    {
     "name": "stderr",
     "output_type": "stream",
     "text": [
      "Processing images:   8%|▊         | 2/26 [00:00<00:02,  8.63it/s]"
     ]
    },
    {
     "name": "stdout",
     "output_type": "stream",
     "text": [
      "Image 'txt_667e8d8eFbc8a0cef_7e76c935d9d502f9.jpg' remains in white folder.\n"
     ]
    },
    {
     "name": "stderr",
     "output_type": "stream",
     "text": [
      "Processing images:  15%|█▌        | 4/26 [00:00<00:02,  9.81it/s]"
     ]
    },
    {
     "name": "stdout",
     "output_type": "stream",
     "text": [
      "Image 'txt_66877cf9Fc904209e_4845e56b1b4e565d.jpg' remains in white folder.\n"
     ]
    },
    {
     "name": "stderr",
     "output_type": "stream",
     "text": [
      "Processing images:  15%|█▌        | 4/26 [00:00<00:02,  9.81it/s]"
     ]
    },
    {
     "name": "stdout",
     "output_type": "stream",
     "text": [
      "Image 'txt_66877d90F5964f1ec_e51ea7acafe462fe.jpg' remains in white folder.\n"
     ]
    },
    {
     "name": "stderr",
     "output_type": "stream",
     "text": [
      "Processing images:  23%|██▎       | 6/26 [00:00<00:02,  9.80it/s]"
     ]
    },
    {
     "name": "stdout",
     "output_type": "stream",
     "text": [
      "Image 'txt_66877d98Fad55a207_c6c819f985df43b1.jpg' remains in white folder.\n"
     ]
    },
    {
     "name": "stderr",
     "output_type": "stream",
     "text": [
      "Processing images:  27%|██▋       | 7/26 [00:00<00:01,  9.62it/s]"
     ]
    },
    {
     "name": "stdout",
     "output_type": "stream",
     "text": [
      "Image 'txt_66877d98Fd6b13a6a_75b617924252d2b5.jpg' remains in white folder.\n"
     ]
    },
    {
     "name": "stderr",
     "output_type": "stream",
     "text": [
      "Processing images:  31%|███       | 8/26 [00:00<00:01,  9.59it/s]"
     ]
    },
    {
     "name": "stdout",
     "output_type": "stream",
     "text": [
      "Image 'txt_66877d99F7e520b6d_f6525dbabf946e89.jpg' remains in white folder.\n"
     ]
    },
    {
     "name": "stderr",
     "output_type": "stream",
     "text": [
      "Processing images:  31%|███       | 8/26 [00:00<00:01,  9.59it/s]"
     ]
    },
    {
     "name": "stdout",
     "output_type": "stream",
     "text": [
      "Image 'txt_66910455Fe1da4e7a_1ca5b778e86cd7d6.jpg' remains in white folder.\n"
     ]
    },
    {
     "name": "stderr",
     "output_type": "stream",
     "text": [
      "Processing images:  38%|███▊      | 10/26 [00:01<00:01,  9.95it/s]"
     ]
    },
    {
     "name": "stdout",
     "output_type": "stream",
     "text": [
      "Image 'txt_66910456F83238335_bfbf5b4f4c0770b8.jpg' remains in white folder.\n"
     ]
    },
    {
     "name": "stderr",
     "output_type": "stream",
     "text": [
      "Processing images:  42%|████▏     | 11/26 [00:01<00:01,  9.41it/s]"
     ]
    },
    {
     "name": "stdout",
     "output_type": "stream",
     "text": [
      "Image 'txt_6698f21cF47547fbd_e2a874a74f88182e.jpg' remains in white folder.\n"
     ]
    },
    {
     "name": "stderr",
     "output_type": "stream",
     "text": [
      "Processing images:  46%|████▌     | 12/26 [00:01<00:01,  9.34it/s]"
     ]
    },
    {
     "name": "stdout",
     "output_type": "stream",
     "text": [
      "Image 'txt_669a8294F0441250a_ae692ddc8d1f07b0.jpg' remains in white folder.\n"
     ]
    },
    {
     "name": "stderr",
     "output_type": "stream",
     "text": [
      "Processing images:  50%|█████     | 13/26 [00:01<00:01,  9.29it/s]"
     ]
    },
    {
     "name": "stdout",
     "output_type": "stream",
     "text": [
      "Image 'txt_66a3110dFa09c1fa5_77b77b01716656c5.jpg' remains in white folder.\n"
     ]
    },
    {
     "name": "stderr",
     "output_type": "stream",
     "text": [
      "Processing images:  50%|█████     | 13/26 [00:01<00:01,  9.29it/s]"
     ]
    },
    {
     "name": "stdout",
     "output_type": "stream",
     "text": [
      "Image 'txt_66a31253F81306bd7_478d51d9a2dae9fc.jpg' remains in white folder.\n"
     ]
    },
    {
     "name": "stderr",
     "output_type": "stream",
     "text": [
      "Processing images:  58%|█████▊    | 15/26 [00:01<00:01,  9.51it/s]"
     ]
    },
    {
     "name": "stdout",
     "output_type": "stream",
     "text": [
      "Image 'txt_66a31253Fd023e0ab_59c5db7bee3f6bb9.jpg' remains in white folder.\n"
     ]
    },
    {
     "name": "stderr",
     "output_type": "stream",
     "text": [
      "Processing images:  58%|█████▊    | 15/26 [00:01<00:01,  9.51it/s]"
     ]
    },
    {
     "name": "stdout",
     "output_type": "stream",
     "text": [
      "Image 'txt_66ab77d2F24047a3b_9e5cdf5068b6e0f7.jpg' remains in white folder.\n"
     ]
    },
    {
     "name": "stderr",
     "output_type": "stream",
     "text": [
      "Processing images:  65%|██████▌   | 17/26 [00:01<00:00,  9.62it/s]"
     ]
    },
    {
     "name": "stdout",
     "output_type": "stream",
     "text": [
      "Image 'txt_66b30cd4F55198744_fa1f88409313c526.jpg' remains in white folder.\n"
     ]
    },
    {
     "name": "stderr",
     "output_type": "stream",
     "text": [
      "Processing images:  69%|██████▉   | 18/26 [00:01<00:00,  9.22it/s]"
     ]
    },
    {
     "name": "stdout",
     "output_type": "stream",
     "text": [
      "Image 'txt_66b5c489Fb3ff0aeb_a443fb6b8a6d64d5.jpg' remains in white folder.\n"
     ]
    },
    {
     "name": "stderr",
     "output_type": "stream",
     "text": [
      "Processing images:  73%|███████▎  | 19/26 [00:02<00:00,  9.19it/s]"
     ]
    },
    {
     "name": "stdout",
     "output_type": "stream",
     "text": [
      "Image 'txt_66b5c494Fd36fcdda_1ba76f822ae41ad4.jpg' remains in white folder.\n"
     ]
    },
    {
     "name": "stderr",
     "output_type": "stream",
     "text": [
      "Processing images:  73%|███████▎  | 19/26 [00:02<00:00,  9.19it/s]"
     ]
    },
    {
     "name": "stdout",
     "output_type": "stream",
     "text": [
      "Image 'txt_66bc11faF388252cb_a4e3dfcf988e30cb.jpg' remains in white folder.\n"
     ]
    },
    {
     "name": "stderr",
     "output_type": "stream",
     "text": [
      "Processing images:  81%|████████  | 21/26 [00:02<00:00,  9.73it/s]"
     ]
    },
    {
     "name": "stdout",
     "output_type": "stream",
     "text": [
      "Image 'txt_66c0bde7Ffeefc659_655fe163dda44fa2.jpg' remains in white folder.\n"
     ]
    },
    {
     "name": "stderr",
     "output_type": "stream",
     "text": [
      "Processing images:  85%|████████▍ | 22/26 [00:02<00:00,  9.58it/s]"
     ]
    },
    {
     "name": "stdout",
     "output_type": "stream",
     "text": [
      "Image 'txt_66c2bee0Fe82fa22c_2cbce2fcf53dcb85.jpg' remains in white folder.\n"
     ]
    },
    {
     "name": "stderr",
     "output_type": "stream",
     "text": [
      "Processing images:  88%|████████▊ | 23/26 [00:02<00:00,  9.47it/s]"
     ]
    },
    {
     "name": "stdout",
     "output_type": "stream",
     "text": [
      "Image 'txt_66c2bee7Fe4866163_0dc79f5ef8500f97.jpg' remains in white folder.\n"
     ]
    },
    {
     "name": "stderr",
     "output_type": "stream",
     "text": [
      "Processing images:  92%|█████████▏| 24/26 [00:02<00:00,  9.39it/s]"
     ]
    },
    {
     "name": "stdout",
     "output_type": "stream",
     "text": [
      "Image 'txt_66dab956F7c668d77_381063f1b3d91946.jpg' remains in white folder.\n"
     ]
    },
    {
     "name": "stderr",
     "output_type": "stream",
     "text": [
      "Processing images:  96%|█████████▌| 25/26 [00:02<00:00,  9.19it/s]"
     ]
    },
    {
     "name": "stdout",
     "output_type": "stream",
     "text": [
      "Image 'txt_66f1791aF77ee5d45_94f2132b6ce4dc7a.jpg' remains in white folder.\n"
     ]
    },
    {
     "name": "stderr",
     "output_type": "stream",
     "text": [
      "Processing images: 100%|██████████| 26/26 [00:02<00:00,  9.42it/s]\n"
     ]
    },
    {
     "name": "stdout",
     "output_type": "stream",
     "text": [
      "Image 'txt_66f60d2dF728df935_9365d929a912a9ae.jpg' remains in white folder.\n",
      "Processing subfolder: D://code//data//Lv2期结论//京喜_from_0501//筛选\\1355\n",
      "Step 1: 筛选价促卖点图\n"
     ]
    },
    {
     "name": "stderr",
     "output_type": "stream",
     "text": [
      "Processing images: 100%|██████████| 304/304 [00:44<00:00,  6.89it/s]\n"
     ]
    },
    {
     "name": "stdout",
     "output_type": "stream",
     "text": [
      "Step 2: 筛选白底图\n"
     ]
    },
    {
     "name": "stderr",
     "output_type": "stream",
     "text": [
      "Processing images:  94%|█████████▍| 285/304 [00:47<00:03,  5.46it/s]"
     ]
    },
    {
     "name": "stdout",
     "output_type": "stream",
     "text": [
      "Image 'txt_667aac13Fae9efff5_7f8a97994619ade0.jpg' moved to white_folder.\n",
      "Image 'txt_667e8d95F8a17f180_77a9b9f3ad63d736.jpg' moved to white_folder.\n"
     ]
    },
    {
     "name": "stderr",
     "output_type": "stream",
     "text": [
      "Processing images:  94%|█████████▍| 287/304 [00:48<00:02,  6.69it/s]"
     ]
    },
    {
     "name": "stdout",
     "output_type": "stream",
     "text": [
      "Image 'txt_667e8d95Ff11a0d7b_7f72d57e5532722e.jpg' moved to white_folder.\n"
     ]
    },
    {
     "name": "stderr",
     "output_type": "stream",
     "text": [
      "Processing images:  95%|█████████▌| 289/304 [00:48<00:01,  7.51it/s]"
     ]
    },
    {
     "name": "stdout",
     "output_type": "stream",
     "text": [
      "Image 'txt_667e8d96Fbb71bc55_0a05afbee66e373c.jpg' moved to white_folder.\n",
      "Image 'txt_667e8d97Ffb547e4d_90bd0782aed03315.jpg' moved to white_folder.\n"
     ]
    },
    {
     "name": "stderr",
     "output_type": "stream",
     "text": [
      "Processing images:  96%|█████████▌| 291/304 [00:48<00:01,  7.80it/s]"
     ]
    },
    {
     "name": "stdout",
     "output_type": "stream",
     "text": [
      "Image 'txt_667e8d9aFc9e39e6b_065d024438db42fd.jpg' moved to white_folder.\n",
      "Image 'txt_668f4879Fd977018a_ab62e7f394895e07.jpg' moved to white_folder.\n"
     ]
    },
    {
     "name": "stderr",
     "output_type": "stream",
     "text": [
      "Processing images:  97%|█████████▋| 294/304 [00:49<00:02,  4.92it/s]"
     ]
    },
    {
     "name": "stdout",
     "output_type": "stream",
     "text": [
      "Image 'txt_669a8315F61256f82_6efb90121ef57e97.jpg' moved to white_folder.\n",
      "Image 'txt_66a3118cF0a7a9c82_d0d6ed3ae3f6c0ce.jpg' moved to white_folder.\n"
     ]
    },
    {
     "name": "stderr",
     "output_type": "stream",
     "text": [
      "Processing images:  97%|█████████▋| 295/304 [00:49<00:01,  5.56it/s]"
     ]
    },
    {
     "name": "stdout",
     "output_type": "stream",
     "text": [
      "Image 'txt_66ab7853Fb8c3031c_0939d1cefdb43714.jpg' moved to white_folder.\n"
     ]
    },
    {
     "name": "stderr",
     "output_type": "stream",
     "text": [
      "Processing images:  98%|█████████▊| 298/304 [00:50<00:01,  3.85it/s]"
     ]
    },
    {
     "name": "stdout",
     "output_type": "stream",
     "text": [
      "Image 'txt_66c80a13F738591e5_febb87dd0302224c.jpg' moved to white_folder.\n"
     ]
    },
    {
     "name": "stderr",
     "output_type": "stream",
     "text": [
      "Processing images:  99%|█████████▉| 301/304 [00:51<00:00,  5.20it/s]"
     ]
    },
    {
     "name": "stdout",
     "output_type": "stream",
     "text": [
      "Image 'txt_66d11b1cF45a16c0b_648829ff44c7ac01.jpg' moved to white_folder.\n",
      "Image 'txt_66e4e961F42186a43_83eeb008ad9a63a1.jpg' moved to white_folder.\n"
     ]
    },
    {
     "name": "stderr",
     "output_type": "stream",
     "text": [
      "Processing images: 100%|██████████| 304/304 [00:51<00:00,  5.88it/s]\n"
     ]
    },
    {
     "name": "stdout",
     "output_type": "stream",
     "text": [
      "Step 3: 筛选功能卖点图\n"
     ]
    },
    {
     "name": "stderr",
     "output_type": "stream",
     "text": [
      "Processing images:   0%|          | 0/291 [00:44<?, ?it/s]\n"
     ]
    },
    {
     "name": "stdout",
     "output_type": "stream",
     "text": [
      "Step 4: 归类图片到scene\n",
      "Step 5: 将white中有文本的图片移到txt_folder\n"
     ]
    },
    {
     "name": "stderr",
     "output_type": "stream",
     "text": [
      "Processing images:  15%|█▌        | 2/13 [00:00<00:02,  4.78it/s]"
     ]
    },
    {
     "name": "stdout",
     "output_type": "stream",
     "text": [
      "Image 'txt_667aac13Fae9efff5_7f8a97994619ade0.jpg' remains in white folder.\n",
      "Image 'txt_667e8d95F8a17f180_77a9b9f3ad63d736.jpg' remains in white folder.\n"
     ]
    },
    {
     "name": "stderr",
     "output_type": "stream",
     "text": [
      "Processing images:  31%|███       | 4/13 [00:00<00:01,  6.28it/s]"
     ]
    },
    {
     "name": "stdout",
     "output_type": "stream",
     "text": [
      "Image 'txt_667e8d95Ff11a0d7b_7f72d57e5532722e.jpg' remains in white folder.\n",
      "Image 'txt_667e8d96Fbb71bc55_0a05afbee66e373c.jpg' remains in white folder.\n"
     ]
    },
    {
     "name": "stderr",
     "output_type": "stream",
     "text": [
      "Processing images:  46%|████▌     | 6/13 [00:00<00:00,  7.37it/s]"
     ]
    },
    {
     "name": "stdout",
     "output_type": "stream",
     "text": [
      "Image 'txt_667e8d97Ffb547e4d_90bd0782aed03315.jpg' remains in white folder.\n",
      "Image 'txt_667e8d9aFc9e39e6b_065d024438db42fd.jpg' remains in white folder.\n"
     ]
    },
    {
     "name": "stderr",
     "output_type": "stream",
     "text": [
      "Processing images:  62%|██████▏   | 8/13 [00:01<00:00,  7.82it/s]"
     ]
    },
    {
     "name": "stdout",
     "output_type": "stream",
     "text": [
      "Image 'txt_668f4879Fd977018a_ab62e7f394895e07.jpg' remains in white folder.\n",
      "Image 'txt_669a8315F61256f82_6efb90121ef57e97.jpg' remains in white folder.\n"
     ]
    },
    {
     "name": "stderr",
     "output_type": "stream",
     "text": [
      "Processing images:  77%|███████▋  | 10/13 [00:01<00:00,  7.93it/s]"
     ]
    },
    {
     "name": "stdout",
     "output_type": "stream",
     "text": [
      "Image 'txt_66a3118cF0a7a9c82_d0d6ed3ae3f6c0ce.jpg' remains in white folder.\n",
      "Image 'txt_66ab7853Fb8c3031c_0939d1cefdb43714.jpg' remains in white folder.\n"
     ]
    },
    {
     "name": "stderr",
     "output_type": "stream",
     "text": [
      "Processing images:  92%|█████████▏| 12/13 [00:01<00:00,  7.58it/s]"
     ]
    },
    {
     "name": "stdout",
     "output_type": "stream",
     "text": [
      "Image 'txt_66c80a13F738591e5_febb87dd0302224c.jpg' remains in white folder.\n",
      "Image 'txt_66d11b1cF45a16c0b_648829ff44c7ac01.jpg' remains in white folder.\n"
     ]
    },
    {
     "name": "stderr",
     "output_type": "stream",
     "text": [
      "Processing images: 100%|██████████| 13/13 [00:01<00:00,  7.07it/s]\n"
     ]
    },
    {
     "name": "stdout",
     "output_type": "stream",
     "text": [
      "Image 'txt_66e4e961F42186a43_83eeb008ad9a63a1.jpg' remains in white folder.\n",
      "Processing subfolder: D://code//data//Lv2期结论//京喜_from_0501//筛选\\13661\n",
      "Step 1: 筛选价促卖点图\n"
     ]
    },
    {
     "name": "stderr",
     "output_type": "stream",
     "text": [
      "Processing images:  11%|█▏        | 7/61 [00:03<00:26,  2.01it/s]"
     ]
    },
    {
     "name": "stdout",
     "output_type": "stream",
     "text": [
      "Image '669103d8Facc0bbce_10c9d74d2adf9f00.jpg' moved to price_folder.\n"
     ]
    },
    {
     "name": "stderr",
     "output_type": "stream",
     "text": [
      "Processing images:  18%|█▊        | 11/61 [00:05<00:20,  2.46it/s]"
     ]
    },
    {
     "name": "stdout",
     "output_type": "stream",
     "text": [
      "Image '66a9a53cFdd82298c_c80a99f6276e0887.jpg' moved to price_folder.\n"
     ]
    },
    {
     "name": "stderr",
     "output_type": "stream",
     "text": [
      "Processing images:  20%|█▉        | 12/61 [00:05<00:22,  2.15it/s]"
     ]
    },
    {
     "name": "stdout",
     "output_type": "stream",
     "text": [
      "Image '66ab788bF1cc41ca3_4e299af8de3d190f.jpg' moved to price_folder.\n"
     ]
    },
    {
     "name": "stderr",
     "output_type": "stream",
     "text": [
      "Processing images:  25%|██▍       | 15/61 [00:07<00:20,  2.28it/s]"
     ]
    },
    {
     "name": "stdout",
     "output_type": "stream",
     "text": [
      "Image '66b5c55eF40c9384f_cf52cc6db1512bd6.jpg' moved to price_folder.\n"
     ]
    },
    {
     "name": "stderr",
     "output_type": "stream",
     "text": [
      "Processing images:  44%|████▍     | 27/61 [00:12<00:13,  2.60it/s]"
     ]
    },
    {
     "name": "stdout",
     "output_type": "stream",
     "text": [
      "Image '66c2bf14Fcd5d290e_eb631b535728c205.jpg' moved to price_folder.\n"
     ]
    },
    {
     "name": "stderr",
     "output_type": "stream",
     "text": [
      "Processing images:  52%|█████▏    | 32/61 [00:15<00:18,  1.58it/s]"
     ]
    },
    {
     "name": "stdout",
     "output_type": "stream",
     "text": [
      "Image '66d11993Ff2edf74d_9ae4314f31240523.jpg' moved to price_folder.\n"
     ]
    },
    {
     "name": "stderr",
     "output_type": "stream",
     "text": [
      "Processing images:  54%|█████▍    | 33/61 [00:16<00:17,  1.61it/s]"
     ]
    },
    {
     "name": "stdout",
     "output_type": "stream",
     "text": [
      "Image '66d11ab3F315c38f5_54b410f33b03e7b4.jpg' moved to price_folder.\n"
     ]
    },
    {
     "name": "stderr",
     "output_type": "stream",
     "text": [
      "Processing images:  66%|██████▌   | 40/61 [00:21<00:15,  1.32it/s]"
     ]
    },
    {
     "name": "stdout",
     "output_type": "stream",
     "text": [
      "Image '66e4e8ffFd1a94cec_4844c0a083ca1daa.jpg' moved to price_folder.\n"
     ]
    },
    {
     "name": "stderr",
     "output_type": "stream",
     "text": [
      "Processing images:  72%|███████▏  | 44/61 [00:23<00:09,  1.83it/s]"
     ]
    },
    {
     "name": "stdout",
     "output_type": "stream",
     "text": [
      "Image '66f60c8cF8d5909b4_a5f24e32581f7ffc.jpg' moved to price_folder.\n"
     ]
    },
    {
     "name": "stderr",
     "output_type": "stream",
     "text": [
      "Processing images: 100%|██████████| 61/61 [00:31<00:00,  1.96it/s]\n"
     ]
    },
    {
     "name": "stdout",
     "output_type": "stream",
     "text": [
      "Step 2: 筛选白底图\n"
     ]
    },
    {
     "name": "stderr",
     "output_type": "stream",
     "text": [
      "Processing images:  94%|█████████▍| 49/52 [00:24<00:00,  3.16it/s]"
     ]
    },
    {
     "name": "stdout",
     "output_type": "stream",
     "text": [
      "Image 'txt_66c0c210F30db9c37_7c08e2ebce0784a9.jpg' moved to white_folder.\n"
     ]
    },
    {
     "name": "stderr",
     "output_type": "stream",
     "text": [
      "Processing images:  98%|█████████▊| 51/52 [00:26<00:00,  2.58it/s]"
     ]
    },
    {
     "name": "stdout",
     "output_type": "stream",
     "text": [
      "Image 'txt_66d11b5fFa25f5b3a_6a4041ef43f34acd.jpg' moved to white_folder.\n"
     ]
    },
    {
     "name": "stderr",
     "output_type": "stream",
     "text": [
      "Processing images: 100%|██████████| 52/52 [00:26<00:00,  1.96it/s]\n"
     ]
    },
    {
     "name": "stdout",
     "output_type": "stream",
     "text": [
      "Step 3: 筛选功能卖点图\n"
     ]
    },
    {
     "name": "stderr",
     "output_type": "stream",
     "text": [
      "Processing images:   0%|          | 0/50 [00:25<?, ?it/s]\n"
     ]
    },
    {
     "name": "stdout",
     "output_type": "stream",
     "text": [
      "Step 4: 归类图片到scene\n",
      "Step 5: 将white中有文本的图片移到txt_folder\n"
     ]
    },
    {
     "name": "stderr",
     "output_type": "stream",
     "text": [
      "Processing images: 100%|██████████| 2/2 [00:00<00:00,  4.00it/s]\n"
     ]
    },
    {
     "name": "stdout",
     "output_type": "stream",
     "text": [
      "Image 'txt_66c0c210F30db9c37_7c08e2ebce0784a9.jpg' remains in white folder.\n",
      "Image 'txt_66d11b5fFa25f5b3a_6a4041ef43f34acd.jpg' remains in white folder.\n",
      "Processing subfolder: D://code//data//Lv2期结论//京喜_from_0501//筛选\\1476\n",
      "Step 1: 筛选价促卖点图\n"
     ]
    },
    {
     "name": "stderr",
     "output_type": "stream",
     "text": [
      "Processing images: 100%|██████████| 19/19 [00:08<00:00,  2.20it/s]\n"
     ]
    },
    {
     "name": "stdout",
     "output_type": "stream",
     "text": [
      "Step 2: 筛选白底图\n"
     ]
    },
    {
     "name": "stderr",
     "output_type": "stream",
     "text": [
      "Processing images: 100%|██████████| 19/19 [00:08<00:00,  2.34it/s]\n"
     ]
    },
    {
     "name": "stdout",
     "output_type": "stream",
     "text": [
      "Image 'txt_667e8bf8Fa2139b7a_b37cff14b3c38148.jpg' moved to white_folder.\n",
      "Image 'txt_66852bc7Fed3b0bf4_a5e6a9d80fdcb2fd.jpg' moved to white_folder.\n",
      "Step 3: 筛选功能卖点图\n"
     ]
    },
    {
     "name": "stderr",
     "output_type": "stream",
     "text": [
      "Processing images:   0%|          | 0/17 [00:08<?, ?it/s]\n"
     ]
    },
    {
     "name": "stdout",
     "output_type": "stream",
     "text": [
      "Step 4: 归类图片到scene\n",
      "Step 5: 将white中有文本的图片移到txt_folder\n"
     ]
    },
    {
     "name": "stderr",
     "output_type": "stream",
     "text": [
      "Processing images:  50%|█████     | 1/2 [00:00<00:00,  2.29it/s]"
     ]
    },
    {
     "name": "stdout",
     "output_type": "stream",
     "text": [
      "Image 'txt_667e8bf8Fa2139b7a_b37cff14b3c38148.jpg' remains in white folder.\n"
     ]
    },
    {
     "name": "stderr",
     "output_type": "stream",
     "text": [
      "Processing images: 100%|██████████| 2/2 [00:00<00:00,  2.24it/s]\n"
     ]
    },
    {
     "name": "stdout",
     "output_type": "stream",
     "text": [
      "Image 'txt_66852bc7Fed3b0bf4_a5e6a9d80fdcb2fd.jpg' remains in white folder.\n",
      "Processing subfolder: D://code//data//Lv2期结论//京喜_from_0501//筛选\\15908\n",
      "Step 1: 筛选价促卖点图\n"
     ]
    },
    {
     "name": "stderr",
     "output_type": "stream",
     "text": [
      "Processing images:   2%|▏         | 2/104 [00:01<01:34,  1.07it/s]"
     ]
    },
    {
     "name": "stdout",
     "output_type": "stream",
     "text": [
      "Image '667e8cf6F7e18c312_29b58b1c03046e6e.jpg' moved to price_folder.\n"
     ]
    },
    {
     "name": "stderr",
     "output_type": "stream",
     "text": [
      "Processing images:  19%|█▉        | 20/104 [00:17<01:33,  1.11s/it]"
     ]
    },
    {
     "name": "stdout",
     "output_type": "stream",
     "text": [
      "Image '66b30c73Fdd7e47cc_ef87aa1fe33f1653.jpg' moved to price_folder.\n"
     ]
    },
    {
     "name": "stderr",
     "output_type": "stream",
     "text": [
      "Processing images:  38%|███▊      | 39/104 [00:33<00:51,  1.25it/s]"
     ]
    },
    {
     "name": "stdout",
     "output_type": "stream",
     "text": [
      "Image '66c0be61F374dab7c_15249f3245de5cc5.jpg' moved to price_folder.\n"
     ]
    },
    {
     "name": "stderr",
     "output_type": "stream",
     "text": [
      "Processing images:  38%|███▊      | 40/104 [00:34<00:53,  1.19it/s]"
     ]
    },
    {
     "name": "stdout",
     "output_type": "stream",
     "text": [
      "Image '66c0bf17Fc26f484d_2aac8756f14909dd.jpg' moved to price_folder.\n"
     ]
    },
    {
     "name": "stderr",
     "output_type": "stream",
     "text": [
      "Processing images:  56%|█████▌    | 58/104 [00:50<00:38,  1.21it/s]"
     ]
    },
    {
     "name": "stdout",
     "output_type": "stream",
     "text": [
      "Image '66d55853F93dbda5e_fb32ba882a10d3db.jpg' moved to price_folder.\n"
     ]
    },
    {
     "name": "stderr",
     "output_type": "stream",
     "text": [
      "Processing images:  57%|█████▋    | 59/104 [00:51<00:38,  1.17it/s]"
     ]
    },
    {
     "name": "stdout",
     "output_type": "stream",
     "text": [
      "Image '66d55980F65a316d5_061062735076ee7f.jpg' moved to price_folder.\n"
     ]
    },
    {
     "name": "stderr",
     "output_type": "stream",
     "text": [
      "Processing images:  59%|█████▊    | 61/104 [00:54<00:46,  1.09s/it]"
     ]
    },
    {
     "name": "stdout",
     "output_type": "stream",
     "text": [
      "Image '66dab605F6bdf6062_2017f6a336d205e4.jpg' moved to price_folder.\n"
     ]
    },
    {
     "name": "stderr",
     "output_type": "stream",
     "text": [
      "Processing images:  69%|██████▉   | 72/104 [01:04<00:32,  1.02s/it]"
     ]
    },
    {
     "name": "stdout",
     "output_type": "stream",
     "text": [
      "Image '66e4ef3eFc3e54916_84ccdb9b3ee249fc.jpg' moved to price_folder.\n"
     ]
    },
    {
     "name": "stderr",
     "output_type": "stream",
     "text": [
      "Processing images:  78%|███████▊  | 81/104 [01:12<00:20,  1.12it/s]"
     ]
    },
    {
     "name": "stdout",
     "output_type": "stream",
     "text": [
      "Image '66f186a5Fd59020b4_66a81bf0e8ed4bbf.jpg' moved to price_folder.\n"
     ]
    },
    {
     "name": "stderr",
     "output_type": "stream",
     "text": [
      "Processing images:  88%|████████▊ | 92/104 [01:19<00:07,  1.59it/s]"
     ]
    },
    {
     "name": "stdout",
     "output_type": "stream",
     "text": [
      "Image '66f60cfcFd7d2e22c_9411d53d5db63475.jpg' moved to price_folder.\n"
     ]
    },
    {
     "name": "stderr",
     "output_type": "stream",
     "text": [
      "Processing images:  94%|█████████▍| 98/104 [01:24<00:04,  1.31it/s]"
     ]
    },
    {
     "name": "stdout",
     "output_type": "stream",
     "text": [
      "Image '66fc1b79F78cc0f24_27601b401c441e6f.jpg' moved to price_folder.\n"
     ]
    },
    {
     "name": "stderr",
     "output_type": "stream",
     "text": [
      "Processing images: 100%|██████████| 104/104 [01:30<00:00,  1.14it/s]\n"
     ]
    },
    {
     "name": "stdout",
     "output_type": "stream",
     "text": [
      "Step 2: 筛选白底图\n"
     ]
    },
    {
     "name": "stderr",
     "output_type": "stream",
     "text": [
      "Processing images: 100%|██████████| 93/93 [01:23<00:00,  1.11it/s]\n"
     ]
    },
    {
     "name": "stdout",
     "output_type": "stream",
     "text": [
      "Step 3: 筛选功能卖点图\n"
     ]
    },
    {
     "name": "stderr",
     "output_type": "stream",
     "text": [
      "Processing images:   0%|          | 0/93 [01:24<?, ?it/s]\n"
     ]
    },
    {
     "name": "stdout",
     "output_type": "stream",
     "text": [
      "Step 4: 归类图片到scene\n",
      "Step 5: 将white中有文本的图片移到txt_folder\n"
     ]
    },
    {
     "name": "stderr",
     "output_type": "stream",
     "text": [
      "Processing images: 0it [00:00, ?it/s]\n"
     ]
    },
    {
     "name": "stdout",
     "output_type": "stream",
     "text": [
      "Processing subfolder: D://code//data//Lv2期结论//京喜_from_0501//筛选\\1656\n",
      "Step 1: 筛选价促卖点图\n"
     ]
    },
    {
     "name": "stderr",
     "output_type": "stream",
     "text": [
      "Processing images: 100%|██████████| 68/68 [00:46<00:00,  1.47it/s]\n"
     ]
    },
    {
     "name": "stdout",
     "output_type": "stream",
     "text": [
      "Step 2: 筛选白底图\n"
     ]
    },
    {
     "name": "stderr",
     "output_type": "stream",
     "text": [
      "Processing images: 100%|██████████| 68/68 [00:49<00:00,  1.36it/s]\n"
     ]
    },
    {
     "name": "stdout",
     "output_type": "stream",
     "text": [
      "Step 3: 筛选功能卖点图\n"
     ]
    },
    {
     "name": "stderr",
     "output_type": "stream",
     "text": [
      "Processing images:   0%|          | 0/68 [00:45<?, ?it/s]\n"
     ]
    },
    {
     "name": "stdout",
     "output_type": "stream",
     "text": [
      "Step 4: 归类图片到scene\n",
      "Step 5: 将white中有文本的图片移到txt_folder\n"
     ]
    },
    {
     "name": "stderr",
     "output_type": "stream",
     "text": [
      "Processing images: 0it [00:00, ?it/s]\n"
     ]
    },
    {
     "name": "stdout",
     "output_type": "stream",
     "text": [
      "Processing subfolder: D://code//data//Lv2期结论//京喜_from_0501//筛选\\1657\n",
      "Step 1: 筛选价促卖点图\n"
     ]
    },
    {
     "name": "stderr",
     "output_type": "stream",
     "text": [
      "Processing images:  17%|█▋        | 21/125 [00:16<01:23,  1.24it/s]"
     ]
    },
    {
     "name": "stdout",
     "output_type": "stream",
     "text": [
      "Image '66a30f5eF883fcbc4_e9fcbfe4ad37bf03.jpg' moved to price_folder.\n"
     ]
    },
    {
     "name": "stderr",
     "output_type": "stream",
     "text": [
      "Processing images:  22%|██▏       | 27/125 [00:23<01:48,  1.10s/it]"
     ]
    },
    {
     "name": "stdout",
     "output_type": "stream",
     "text": [
      "Image '66ab784eF40a6be83_f21dfc02655503bc.jpg' moved to price_folder.\n"
     ]
    },
    {
     "name": "stderr",
     "output_type": "stream",
     "text": [
      "Processing images:  74%|███████▍  | 93/125 [01:16<00:26,  1.21it/s]\n"
     ]
    },
    {
     "ename": "KeyboardInterrupt",
     "evalue": "",
     "output_type": "error",
     "traceback": [
      "\u001b[1;31m---------------------------------------------------------------------------\u001b[0m",
      "\u001b[1;31mKeyboardInterrupt\u001b[0m                         Traceback (most recent call last)",
      "Cell \u001b[1;32mIn[1], line 190\u001b[0m\n\u001b[0;32m    188\u001b[0m \u001b[38;5;28;01mfor\u001b[39;00m subfolder \u001b[38;5;129;01min\u001b[39;00m subfolders:\n\u001b[0;32m    189\u001b[0m     \u001b[38;5;28mprint\u001b[39m(\u001b[38;5;124mf\u001b[39m\u001b[38;5;124m\"\u001b[39m\u001b[38;5;124mProcessing subfolder: \u001b[39m\u001b[38;5;132;01m{\u001b[39;00msubfolder\u001b[38;5;132;01m}\u001b[39;00m\u001b[38;5;124m\"\u001b[39m)\n\u001b[1;32m--> 190\u001b[0m     \u001b[43mprocess_subfolder\u001b[49m\u001b[43m(\u001b[49m\u001b[43msubfolder\u001b[49m\u001b[43m)\u001b[49m\n\u001b[0;32m    192\u001b[0m \u001b[38;5;28mprint\u001b[39m(\u001b[38;5;124m'\u001b[39m\u001b[38;5;124mAll processing completed.\u001b[39m\u001b[38;5;124m'\u001b[39m)\n\u001b[0;32m    194\u001b[0m \u001b[38;5;66;03m# 获取当前时间\u001b[39;00m\n",
      "Cell \u001b[1;32mIn[1], line 76\u001b[0m, in \u001b[0;36mprocess_subfolder\u001b[1;34m(subfolder_path)\u001b[0m\n\u001b[0;32m     73\u001b[0m \u001b[38;5;28;01mfor\u001b[39;00m filename \u001b[38;5;129;01min\u001b[39;00m image_files:\n\u001b[0;32m     74\u001b[0m     img_path \u001b[38;5;241m=\u001b[39m os\u001b[38;5;241m.\u001b[39mpath\u001b[38;5;241m.\u001b[39mjoin(grounding_output_path, filename)\n\u001b[1;32m---> 76\u001b[0m     result \u001b[38;5;241m=\u001b[39m \u001b[43mocr\u001b[49m\u001b[38;5;241;43m.\u001b[39;49m\u001b[43mocr\u001b[49m\u001b[43m(\u001b[49m\u001b[43mimg_path\u001b[49m\u001b[43m,\u001b[49m\u001b[43m \u001b[49m\u001b[38;5;28;43mcls\u001b[39;49m\u001b[38;5;241;43m=\u001b[39;49m\u001b[38;5;28;43;01mTrue\u001b[39;49;00m\u001b[43m)\u001b[49m\n\u001b[0;32m     78\u001b[0m     \u001b[38;5;28;01mif\u001b[39;00m \u001b[38;5;129;01mnot\u001b[39;00m result:\n\u001b[0;32m     79\u001b[0m         pbar\u001b[38;5;241m.\u001b[39mupdate(\u001b[38;5;241m1\u001b[39m)\n",
      "File \u001b[1;32mc:\\ProgramData\\miniconda3\\lib\\site-packages\\paddleocr\\paddleocr.py:729\u001b[0m, in \u001b[0;36mPaddleOCR.ocr\u001b[1;34m(self, img, det, rec, cls, bin, inv, alpha_color, slice)\u001b[0m\n\u001b[0;32m    727\u001b[0m \u001b[38;5;28;01mfor\u001b[39;00m idx, img \u001b[38;5;129;01min\u001b[39;00m \u001b[38;5;28menumerate\u001b[39m(imgs):\n\u001b[0;32m    728\u001b[0m     img \u001b[38;5;241m=\u001b[39m preprocess_image(img)\n\u001b[1;32m--> 729\u001b[0m     dt_boxes, rec_res, _ \u001b[38;5;241m=\u001b[39m \u001b[38;5;28;43mself\u001b[39;49m\u001b[38;5;241;43m.\u001b[39;49m\u001b[38;5;21;43m__call__\u001b[39;49m\u001b[43m(\u001b[49m\u001b[43mimg\u001b[49m\u001b[43m,\u001b[49m\u001b[43m \u001b[49m\u001b[38;5;28;43mcls\u001b[39;49m\u001b[43m,\u001b[49m\u001b[43m \u001b[49m\u001b[38;5;28;43mslice\u001b[39;49m\u001b[43m)\u001b[49m\n\u001b[0;32m    730\u001b[0m     \u001b[38;5;28;01mif\u001b[39;00m \u001b[38;5;129;01mnot\u001b[39;00m dt_boxes \u001b[38;5;129;01mand\u001b[39;00m \u001b[38;5;129;01mnot\u001b[39;00m rec_res:\n\u001b[0;32m    731\u001b[0m         ocr_res\u001b[38;5;241m.\u001b[39mappend(\u001b[38;5;28;01mNone\u001b[39;00m)\n",
      "File \u001b[1;32mc:\\ProgramData\\miniconda3\\lib\\site-packages\\paddleocr\\tools\\infer\\predict_system.py:144\u001b[0m, in \u001b[0;36mTextSystem.__call__\u001b[1;34m(self, img, cls, slice)\u001b[0m\n\u001b[0;32m    139\u001b[0m \u001b[38;5;28;01mif\u001b[39;00m \u001b[38;5;28mlen\u001b[39m(img_crop_list) \u001b[38;5;241m>\u001b[39m \u001b[38;5;241m1000\u001b[39m:\n\u001b[0;32m    140\u001b[0m     logger\u001b[38;5;241m.\u001b[39mdebug(\n\u001b[0;32m    141\u001b[0m         \u001b[38;5;124mf\u001b[39m\u001b[38;5;124m\"\u001b[39m\u001b[38;5;124mrec crops num: \u001b[39m\u001b[38;5;132;01m{\u001b[39;00m\u001b[38;5;28mlen\u001b[39m(img_crop_list)\u001b[38;5;132;01m}\u001b[39;00m\u001b[38;5;124m, time and memory cost may be large.\u001b[39m\u001b[38;5;124m\"\u001b[39m\n\u001b[0;32m    142\u001b[0m     )\n\u001b[1;32m--> 144\u001b[0m rec_res, elapse \u001b[38;5;241m=\u001b[39m \u001b[38;5;28;43mself\u001b[39;49m\u001b[38;5;241;43m.\u001b[39;49m\u001b[43mtext_recognizer\u001b[49m\u001b[43m(\u001b[49m\u001b[43mimg_crop_list\u001b[49m\u001b[43m)\u001b[49m\n\u001b[0;32m    145\u001b[0m time_dict[\u001b[38;5;124m\"\u001b[39m\u001b[38;5;124mrec\u001b[39m\u001b[38;5;124m\"\u001b[39m] \u001b[38;5;241m=\u001b[39m elapse\n\u001b[0;32m    146\u001b[0m logger\u001b[38;5;241m.\u001b[39mdebug(\u001b[38;5;124m\"\u001b[39m\u001b[38;5;124mrec_res num  : \u001b[39m\u001b[38;5;132;01m{}\u001b[39;00m\u001b[38;5;124m, elapsed : \u001b[39m\u001b[38;5;132;01m{}\u001b[39;00m\u001b[38;5;124m\"\u001b[39m\u001b[38;5;241m.\u001b[39mformat(\u001b[38;5;28mlen\u001b[39m(rec_res), elapse))\n",
      "File \u001b[1;32mc:\\ProgramData\\miniconda3\\lib\\site-packages\\paddleocr\\tools\\infer\\predict_rec.py:680\u001b[0m, in \u001b[0;36mTextRecognizer.__call__\u001b[1;34m(self, img_list)\u001b[0m\n\u001b[0;32m    678\u001b[0m outputs \u001b[38;5;241m=\u001b[39m []\n\u001b[0;32m    679\u001b[0m \u001b[38;5;28;01mfor\u001b[39;00m output_tensor \u001b[38;5;129;01min\u001b[39;00m \u001b[38;5;28mself\u001b[39m\u001b[38;5;241m.\u001b[39moutput_tensors:\n\u001b[1;32m--> 680\u001b[0m     output \u001b[38;5;241m=\u001b[39m \u001b[43moutput_tensor\u001b[49m\u001b[38;5;241;43m.\u001b[39;49m\u001b[43mcopy_to_cpu\u001b[49m\u001b[43m(\u001b[49m\u001b[43m)\u001b[49m\n\u001b[0;32m    681\u001b[0m     outputs\u001b[38;5;241m.\u001b[39mappend(output)\n\u001b[0;32m    682\u001b[0m \u001b[38;5;28;01mif\u001b[39;00m \u001b[38;5;28mself\u001b[39m\u001b[38;5;241m.\u001b[39mbenchmark:\n",
      "\u001b[1;31mKeyboardInterrupt\u001b[0m: "
     ]
    }
   ],
   "source": [
    "import os\n",
    "import shutil\n",
    "from PIL import Image\n",
    "from paddleocr import PaddleOCR\n",
    "from tqdm import tqdm\n",
    "from datetime import datetime\n",
    "import math\n",
    "import time\n",
    "import numpy as np\n",
    "import pandas as pd\n",
    "\n",
    "# 定义基础路径\n",
    "base_path = 'D://code//data//Lv2期结论//京喜_from_0501//筛选'\n",
    "\n",
    "# 初始化 PaddleOCR\n",
    "ocr = PaddleOCR(use_angle_cls=True, lang=\"ch\", show_log=False)\n",
    "\n",
    "def move_images_with_white_pixels(source_folder, white_folder, threshold=0.40):\n",
    "    image_files = [f for f in os.listdir(source_folder) if f.endswith(('.jpg', '.png'))]\n",
    "    \n",
    "    with tqdm(total=len(image_files), desc=\"Processing images\") as pbar:\n",
    "        for filename in image_files:\n",
    "            img_path = os.path.join(source_folder, filename)\n",
    "            img = Image.open(img_path)\n",
    "            img_np = np.array(img)\n",
    "\n",
    "            # 如果图片中有文本，则不移动到 white_folder\n",
    "            result = ocr.ocr(img_np, cls=True)\n",
    "            if result is not None and result[0] is not None:\n",
    "                ignored_keywords = ['京喜自营', '包邮']\n",
    "                filtered_data_list = [data for data in result[0] if all(keyword not in data[1][0] for keyword in ignored_keywords)]\n",
    "                if filtered_data_list:\n",
    "                    pbar.update(1)\n",
    "                    continue\n",
    "\n",
    "            # 计算图片中白色像素的比例\n",
    "            white_pixels = np.sum(np.all(img_np >= [240, 240, 240], axis=2))\n",
    "            total_pixels = img_np.shape[0] * img_np.shape[1]\n",
    "            white_pixels_ratio = white_pixels / total_pixels\n",
    "\n",
    "            if white_pixels_ratio >= threshold:\n",
    "                try:\n",
    "                    shutil.move(img_path, white_folder)\n",
    "                    pbar.write(f\"Image '{filename}' moved to white_folder.\")\n",
    "                except Exception as e:\n",
    "                    pbar.write(f\"Failed to move image '{filename}': {e}\")\n",
    "            \n",
    "            pbar.update(1)\n",
    "\n",
    "\n",
    "def process_subfolder(subfolder_path):\n",
    "    grounding_output_path = os.path.join(subfolder_path, 'grounding_output')\n",
    "    if not os.path.exists(grounding_output_path):\n",
    "        # print(f\"No grounding_output folder in {subfolder_path}\")\n",
    "        return\n",
    "\n",
    "    # 创建分类文件夹\n",
    "    price_folder = os.path.join(grounding_output_path, 'price')\n",
    "    txt_folder = os.path.join(grounding_output_path, 'txt')\n",
    "    scene_folder = os.path.join(grounding_output_path, 'scene')\n",
    "    white_folder = os.path.join(grounding_output_path, 'white')\n",
    "\n",
    "    for folder in [price_folder, txt_folder, scene_folder, white_folder]:\n",
    "        if not os.path.exists(folder):\n",
    "            os.makedirs(folder)\n",
    "\n",
    "    # 获取所有图片文件\n",
    "    image_files = [f for f in os.listdir(grounding_output_path) if f.endswith(('.jpg', '.png'))]\n",
    "\n",
    "    # Step 1: 筛选价促卖点图\n",
    "    print('Step 1: 筛选价促卖点图')\n",
    "    with tqdm(total=len(image_files), desc=\"Processing images\") as pbar:\n",
    "        for filename in image_files:\n",
    "            img_path = os.path.join(grounding_output_path, filename)\n",
    "            \n",
    "            result = ocr.ocr(img_path, cls=True)\n",
    "            \n",
    "            if not result:\n",
    "                pbar.update(1)\n",
    "                continue\n",
    "            \n",
    "            data_list = result[0]\n",
    "            \n",
    "            keywords = ['满', '减', '到手价', '送', '免息', '活动价', '包邮价', '参考价', \n",
    "                        r'.*满.*减.*', r'.*满.*-.*', r'.*满.*赠.*',r'.*满.*送.*', r'.*价.*', \n",
    "                        '券', '优惠', '用券', '领券', '券', '送', '低至', '立减', '直降', '免息',\n",
    "                        '¥', '夫', '￥','分钱']\n",
    "            \n",
    "            # 忽略“京喜自营”和“包邮”\n",
    "            ignored_keywords = ['京喜自营', '包邮']\n",
    "            filtered_data_list = [data for data in data_list if all(keyword not in data[1][0] for keyword in ignored_keywords)]\n",
    "            \n",
    "            contains_keyword = any(any(keyword in data[1][0] for keyword in keywords) for data in filtered_data_list)\n",
    "            \n",
    "            if contains_keyword:\n",
    "                try:\n",
    "                    shutil.move(img_path, price_folder)\n",
    "                    pbar.write(f\"Image '{filename}' moved to price_folder.\")\n",
    "                except Exception as e:\n",
    "                    pbar.write(f\"Failed to move image '{filename}': {e}\")\n",
    "            \n",
    "            pbar.update(1)\n",
    "\n",
    "    # 更新图片文件列表，排除已移动的文件\n",
    "    image_files = [f for f in os.listdir(grounding_output_path) if f.endswith(('.jpg', '.png'))]\n",
    "\n",
    "    # Step 2: 筛选白底图\n",
    "    print('Step 2: 筛选白底图')\n",
    "    move_images_with_white_pixels(grounding_output_path, white_folder, threshold=0.40)\n",
    "\n",
    "    # 更新图片文件列表，排除已移动的文件\n",
    "    image_files = [f for f in os.listdir(grounding_output_path) if f.endswith(('.jpg', '.png'))]\n",
    "\n",
    "    # Step 3: 筛选功能卖点图\n",
    "    print('Step 3: 筛选功能卖点图')\n",
    "    with tqdm(total=len(image_files), desc=\"Processing images\") as pbar:\n",
    "        for filename in image_files:\n",
    "            img_path = os.path.join(grounding_output_path, filename)\n",
    "            \n",
    "            img = Image.open(img_path)\n",
    "            width, height = img.size\n",
    "            \n",
    "            cropped_img = img.crop((0, height // 6, width, height))\n",
    "            img_np = np.array(cropped_img)\n",
    "            \n",
    "            result = ocr.ocr(img_np, cls=True)\n",
    "            \n",
    "            if result is None or result[0] is None:\n",
    "                pbar.update(1)\n",
    "                continue\n",
    "                \n",
    "            # 忽略“京喜自营”和“包邮”\n",
    "            ignored_keywords = ['京喜自营', '包邮']\n",
    "            filtered_data_list = [data for data in result[0] if any(keyword not in data[1][0] for keyword in ignored_keywords)]\n",
    "            \n",
    "            rectangles_with_text = filtered_data_list\n",
    "            line_count = len(rectangles_with_text)\n",
    "            \n",
    "            if line_count > 0:\n",
    "                shutil.move(img_path, txt_folder)\n",
    "                # print(f\"'{filename}' moved to txt folder.\")\n",
    "            else:\n",
    "                # print(f\"'{filename}' remains in source folder.\")\n",
    "                pbar.update(1)\n",
    "\n",
    "    # Step 4: 将剩余图片归类到scene\n",
    "    print('Step 4: 归类图片到scene')\n",
    "    image_files = [f for f in os.listdir(grounding_output_path) if f.endswith(('.jpg', '.png'))]\n",
    "    for filename in image_files:\n",
    "        img_path = os.path.join(grounding_output_path, filename)\n",
    "        shutil.move(img_path, scene_folder)\n",
    "        # print(f\"Image '{filename}' moved to scene_folder.\")\n",
    "\n",
    "    # Step 5: 将white中有文本的图片移到txt_folder\n",
    "    print('Step 5: 将white中有文本的图片移到txt_folder')\n",
    "    image_files = [f for f in os.listdir(white_folder) if f.endswith(('.jpg', '.png'))]\n",
    "    with tqdm(total=len(image_files), desc=\"Processing images\") as pbar:\n",
    "        for filename in image_files:\n",
    "            img_path = os.path.join(white_folder, filename)\n",
    "            img = Image.open(img_path)\n",
    "            width, height = img.size\n",
    "            cropped_img = img.crop((0, height // 6, width, height))\n",
    "            img_np = np.array(cropped_img)\n",
    "            result = ocr.ocr(img_np, cls=True)\n",
    "            \n",
    "            if result is None or result[0] is None:\n",
    "                pbar.update(1)\n",
    "                continue\n",
    "                \n",
    "            # 忽略“京喜自营”和“包邮”\n",
    "            ignored_keywords = ['京喜自营', '包邮']\n",
    "            filtered_data_list = [data for data in result[0] if all(keyword not in data[1][0] for keyword in ignored_keywords)]\n",
    "            \n",
    "            rectangles_with_text = filtered_data_list\n",
    "            lines_above_30_count = sum(1 for rectangle in rectangles_with_text if min(math.sqrt((x - rectangle[0][0][0])**2 + (y - rectangle[0][0][1])**2) for x, y in rectangle[0][1:]) > 30)\n",
    "                \n",
    "            if lines_above_30_count >= 2:\n",
    "                shutil.move(img_path, txt_folder)\n",
    "                pbar.write(f\"Image '{filename}' moved to txt_folder.\")\n",
    "            else:\n",
    "                pbar.write(f\"Image '{filename}' remains in white folder.\")\n",
    "            \n",
    "            pbar.update(1)\n",
    "\n",
    "# 主程序\n",
    "subfolders = [f.path for f in os.scandir(base_path) if f.is_dir()]\n",
    "\n",
    "for subfolder in subfolders:\n",
    "    print(f\"Processing subfolder: {subfolder}\")\n",
    "    process_subfolder(subfolder)\n",
    "\n",
    "print('All processing completed.')\n",
    "\n",
    "# 获取当前时间\n",
    "current_time = datetime.now()\n",
    "print(\"完成时间:\", current_time)\n",
    "\n",
    "\n",
    "\n"
   ]
  },
  {
   "cell_type": "code",
   "execution_count": 3,
   "metadata": {},
   "outputs": [
    {
     "name": "stdout",
     "output_type": "stream",
     "text": [
      "Processing subfolder: D://code//data//Lv2期结论//京喜_from_0501//筛选\\1047\n",
      "Step 1: 筛选价促卖点图\n"
     ]
    },
    {
     "name": "stderr",
     "output_type": "stream",
     "text": [
      "Processing images: 100%|██████████| 33/33 [00:06<00:00,  5.04it/s]\n"
     ]
    },
    {
     "name": "stdout",
     "output_type": "stream",
     "text": [
      "Step 2: 筛选白底图\n"
     ]
    },
    {
     "name": "stderr",
     "output_type": "stream",
     "text": [
      "Processing images: 100%|██████████| 33/33 [00:00<00:00, 117.32it/s]\n"
     ]
    },
    {
     "name": "stdout",
     "output_type": "stream",
     "text": [
      "Step 3: 筛选功能卖点图\n"
     ]
    },
    {
     "name": "stderr",
     "output_type": "stream",
     "text": [
      "处理图片: 100%|██████████| 33/33 [00:08<00:00,  3.98it/s]\n"
     ]
    },
    {
     "name": "stdout",
     "output_type": "stream",
     "text": [
      "Step 4: 归类图片到scene\n",
      "Processing subfolder: D://code//data//Lv2期结论//京喜_from_0501//筛选\\12010\n",
      "Step 1: 筛选价促卖点图\n"
     ]
    },
    {
     "name": "stderr",
     "output_type": "stream",
     "text": [
      "Processing images:   9%|▉         | 8/85 [00:02<00:21,  3.54it/s]"
     ]
    },
    {
     "name": "stdout",
     "output_type": "stream",
     "text": [
      "Image '6674ef7dFa3a4ee08_662a3a67befb0b56.jpg' moved to price_folder.\n"
     ]
    },
    {
     "name": "stderr",
     "output_type": "stream",
     "text": [
      "Processing images:  66%|██████▌   | 56/85 [00:14<00:06,  4.31it/s]"
     ]
    },
    {
     "name": "stdout",
     "output_type": "stream",
     "text": [
      "Image '66dab88bF609ed4b8_b31f1b323254bb6a.jpg' moved to price_folder.\n"
     ]
    },
    {
     "name": "stderr",
     "output_type": "stream",
     "text": [
      "Processing images:  88%|████████▊ | 75/85 [00:18<00:01,  5.16it/s]"
     ]
    },
    {
     "name": "stdout",
     "output_type": "stream",
     "text": [
      "Image '66f19ab9F5a90dbf8_efce31ec62620322.jpg' moved to price_folder.\n"
     ]
    },
    {
     "name": "stderr",
     "output_type": "stream",
     "text": [
      "Processing images: 100%|██████████| 85/85 [00:21<00:00,  3.90it/s]\n"
     ]
    },
    {
     "name": "stdout",
     "output_type": "stream",
     "text": [
      "Step 2: 筛选白底图\n"
     ]
    },
    {
     "name": "stderr",
     "output_type": "stream",
     "text": [
      "Processing images: 100%|██████████| 82/82 [00:00<00:00, 125.29it/s]\n"
     ]
    },
    {
     "name": "stdout",
     "output_type": "stream",
     "text": [
      "Image 'txt_6691037eFb3669536_83301d59ef022a3e.jpg' moved to white_folder.\n",
      "Step 3: 筛选功能卖点图\n"
     ]
    },
    {
     "name": "stderr",
     "output_type": "stream",
     "text": [
      "处理图片: 100%|██████████| 81/81 [00:23<00:00,  3.46it/s]\n"
     ]
    },
    {
     "name": "stdout",
     "output_type": "stream",
     "text": [
      "Step 4: 归类图片到scene\n",
      "Processing subfolder: D://code//data//Lv2期结论//京喜_from_0501//筛选\\12811\n",
      "Step 1: 筛选价促卖点图\n"
     ]
    },
    {
     "name": "stderr",
     "output_type": "stream",
     "text": [
      "Processing images: 100%|██████████| 36/36 [00:08<00:00,  4.23it/s]\n"
     ]
    },
    {
     "name": "stdout",
     "output_type": "stream",
     "text": [
      "Step 2: 筛选白底图\n"
     ]
    },
    {
     "name": "stderr",
     "output_type": "stream",
     "text": [
      "Processing images: 100%|██████████| 36/36 [00:00<00:00, 114.74it/s]\n"
     ]
    },
    {
     "name": "stdout",
     "output_type": "stream",
     "text": [
      "Image 'txt_66c80b53Fd810052c_5607a3707910a4db.jpg' moved to white_folder.\n",
      "Step 3: 筛选功能卖点图\n"
     ]
    },
    {
     "name": "stderr",
     "output_type": "stream",
     "text": [
      "处理图片: 100%|██████████| 35/35 [00:09<00:00,  3.74it/s]\n"
     ]
    },
    {
     "name": "stdout",
     "output_type": "stream",
     "text": [
      "Step 4: 归类图片到scene\n",
      "Processing subfolder: D://code//data//Lv2期结论//京喜_from_0501//筛选\\1349\n",
      "Step 1: 筛选价促卖点图\n"
     ]
    },
    {
     "name": "stderr",
     "output_type": "stream",
     "text": [
      "Processing images:  12%|█▏        | 31/264 [00:05<00:42,  5.52it/s]"
     ]
    },
    {
     "name": "stdout",
     "output_type": "stream",
     "text": [
      "Image '667e8b10F35bb0157_f1012e98fa0ef6b6.jpg' moved to price_folder.\n"
     ]
    },
    {
     "name": "stderr",
     "output_type": "stream",
     "text": [
      "Processing images:  14%|█▎        | 36/264 [00:07<00:53,  4.24it/s]"
     ]
    },
    {
     "name": "stdout",
     "output_type": "stream",
     "text": [
      "Image '667e8cb2F91d2892c_42321eb6a31e1763.jpg' moved to price_folder.\n"
     ]
    },
    {
     "name": "stderr",
     "output_type": "stream",
     "text": [
      "Processing images:  16%|█▋        | 43/264 [00:08<00:36,  6.12it/s]"
     ]
    },
    {
     "name": "stdout",
     "output_type": "stream",
     "text": [
      "Image '66829c9dFded8d0c9_d6fbce6ed01087ac.jpg' moved to price_folder.\n"
     ]
    },
    {
     "name": "stderr",
     "output_type": "stream",
     "text": [
      "Processing images:  22%|██▏       | 59/264 [00:11<00:25,  7.91it/s]"
     ]
    },
    {
     "name": "stdout",
     "output_type": "stream",
     "text": [
      "Image '668f47d0F53d981a8_678e1a3621d60a85.jpg' moved to price_folder.\n"
     ]
    },
    {
     "name": "stderr",
     "output_type": "stream",
     "text": [
      "Processing images:  43%|████▎     | 113/264 [00:20<00:19,  7.62it/s]"
     ]
    },
    {
     "name": "stdout",
     "output_type": "stream",
     "text": [
      "Image '66b5c462Fd411f347_94024c6c7b31fa72.jpg' moved to price_folder.\n"
     ]
    },
    {
     "name": "stderr",
     "output_type": "stream",
     "text": [
      "Processing images:  57%|█████▋    | 151/264 [00:27<00:18,  6.02it/s]"
     ]
    },
    {
     "name": "stdout",
     "output_type": "stream",
     "text": [
      "Image '66c80963F91c51f1b_c83904bf5bcb583c.jpg' moved to price_folder.\n"
     ]
    },
    {
     "name": "stderr",
     "output_type": "stream",
     "text": [
      "Processing images:  61%|██████    | 161/264 [00:29<00:24,  4.25it/s]"
     ]
    },
    {
     "name": "stdout",
     "output_type": "stream",
     "text": [
      "Image '66ceb6adFddefc2d8_9ce0760a3a4fb1cf.jpg' moved to price_folder.\n"
     ]
    },
    {
     "name": "stderr",
     "output_type": "stream",
     "text": [
      "Processing images:  69%|██████▉   | 182/264 [00:33<00:17,  4.56it/s]"
     ]
    },
    {
     "name": "stdout",
     "output_type": "stream",
     "text": [
      "Image '66dab7c2Fa1211b2b_87c0cc89405e73db.jpg' moved to price_folder.\n"
     ]
    },
    {
     "name": "stderr",
     "output_type": "stream",
     "text": [
      "Processing images:  76%|███████▌  | 200/264 [00:37<00:13,  4.66it/s]"
     ]
    },
    {
     "name": "stdout",
     "output_type": "stream",
     "text": [
      "Image '66ea3580F6caabca7_6bbcd3602abae859.jpg' moved to price_folder.\n"
     ]
    },
    {
     "name": "stderr",
     "output_type": "stream",
     "text": [
      "Processing images: 100%|██████████| 264/264 [00:46<00:00,  5.71it/s]\n"
     ]
    },
    {
     "name": "stdout",
     "output_type": "stream",
     "text": [
      "Step 2: 筛选白底图\n"
     ]
    },
    {
     "name": "stderr",
     "output_type": "stream",
     "text": [
      "Processing images:  96%|█████████▌| 244/255 [00:02<00:00, 109.18it/s]"
     ]
    },
    {
     "name": "stdout",
     "output_type": "stream",
     "text": [
      "Image 'txt_667c0710Fbbbbba85_1fec84336abab2c1.jpg' moved to white_folder.\n",
      "Image 'txt_667c0713F9359b984_2da465eead0795f5.jpg' moved to white_folder.\n",
      "Image 'txt_667e8d8eFbc8a0cef_7e76c935d9d502f9.jpg' moved to white_folder.\n",
      "Image 'txt_66877cf9Fc904209e_4845e56b1b4e565d.jpg' moved to white_folder.\n",
      "Image 'txt_66877d90F5964f1ec_e51ea7acafe462fe.jpg' moved to white_folder.\n",
      "Image 'txt_66877d98Fad55a207_c6c819f985df43b1.jpg' moved to white_folder.\n",
      "Image 'txt_66877d98Fd6b13a6a_75b617924252d2b5.jpg' moved to white_folder.\n",
      "Image 'txt_66877d99F7e520b6d_f6525dbabf946e89.jpg' moved to white_folder.\n",
      "Image 'txt_66910455Fe1da4e7a_1ca5b778e86cd7d6.jpg' moved to white_folder.\n",
      "Image 'txt_66910456F83238335_bfbf5b4f4c0770b8.jpg' moved to white_folder.\n",
      "Image 'txt_6698f21cF47547fbd_e2a874a74f88182e.jpg' moved to white_folder.\n",
      "Image 'txt_669a8294F0441250a_ae692ddc8d1f07b0.jpg' moved to white_folder.\n",
      "Image 'txt_66a3110dFa09c1fa5_77b77b01716656c5.jpg' moved to white_folder.\n",
      "Image 'txt_66a31253F81306bd7_478d51d9a2dae9fc.jpg' moved to white_folder.\n",
      "Image 'txt_66a31253Fd023e0ab_59c5db7bee3f6bb9.jpg' moved to white_folder.\n",
      "Image 'txt_66ab77d2F24047a3b_9e5cdf5068b6e0f7.jpg' moved to white_folder.\n",
      "Image 'txt_66b30cd4F55198744_fa1f88409313c526.jpg' moved to white_folder.\n"
     ]
    },
    {
     "name": "stderr",
     "output_type": "stream",
     "text": [
      "Processing images: 100%|██████████| 255/255 [00:02<00:00, 119.13it/s]\n"
     ]
    },
    {
     "name": "stdout",
     "output_type": "stream",
     "text": [
      "Image 'txt_66b5c489Fb3ff0aeb_a443fb6b8a6d64d5.jpg' moved to white_folder.\n",
      "Image 'txt_66b5c494Fd36fcdda_1ba76f822ae41ad4.jpg' moved to white_folder.\n",
      "Image 'txt_66bc11faF388252cb_a4e3dfcf988e30cb.jpg' moved to white_folder.\n",
      "Image 'txt_66c0bde7Ffeefc659_655fe163dda44fa2.jpg' moved to white_folder.\n",
      "Image 'txt_66c2bee0Fe82fa22c_2cbce2fcf53dcb85.jpg' moved to white_folder.\n",
      "Image 'txt_66c2bee7Fe4866163_0dc79f5ef8500f97.jpg' moved to white_folder.\n",
      "Image 'txt_66dab956F7c668d77_381063f1b3d91946.jpg' moved to white_folder.\n",
      "Image 'txt_66f1791aF77ee5d45_94f2132b6ce4dc7a.jpg' moved to white_folder.\n",
      "Image 'txt_66f60d2dF728df935_9365d929a912a9ae.jpg' moved to white_folder.\n",
      "Step 3: 筛选功能卖点图\n"
     ]
    },
    {
     "name": "stderr",
     "output_type": "stream",
     "text": [
      "处理图片: 100%|██████████| 229/229 [00:43<00:00,  5.26it/s]\n"
     ]
    },
    {
     "name": "stdout",
     "output_type": "stream",
     "text": [
      "Step 4: 归类图片到scene\n",
      "Processing subfolder: D://code//data//Lv2期结论//京喜_from_0501//筛选\\1355\n",
      "Step 1: 筛选价促卖点图\n"
     ]
    },
    {
     "name": "stderr",
     "output_type": "stream",
     "text": [
      "Processing images: 100%|██████████| 304/304 [00:36<00:00,  8.40it/s]\n"
     ]
    },
    {
     "name": "stdout",
     "output_type": "stream",
     "text": [
      "Step 2: 筛选白底图\n"
     ]
    },
    {
     "name": "stderr",
     "output_type": "stream",
     "text": [
      "Processing images:  97%|█████████▋| 294/304 [00:02<00:00, 109.28it/s]"
     ]
    },
    {
     "name": "stdout",
     "output_type": "stream",
     "text": [
      "Image 'txt_6674f097F89ad4ace_97f5b4d38b127563.jpg' moved to white_folder.\n",
      "Image 'txt_667aac13Fae9efff5_7f8a97994619ade0.jpg' moved to white_folder.\n",
      "Image 'txt_667e8d95F8a17f180_77a9b9f3ad63d736.jpg' moved to white_folder.\n",
      "Image 'txt_667e8d95Ff11a0d7b_7f72d57e5532722e.jpg' moved to white_folder.\n",
      "Image 'txt_667e8d96Fbb71bc55_0a05afbee66e373c.jpg' moved to white_folder.\n",
      "Image 'txt_667e8d97Ffb547e4d_90bd0782aed03315.jpg' moved to white_folder.\n",
      "Image 'txt_667e8d9aFc9e39e6b_065d024438db42fd.jpg' moved to white_folder.\n",
      "Image 'txt_668f4879Fd977018a_ab62e7f394895e07.jpg' moved to white_folder.\n",
      "Image 'txt_668f48ecF7dfb4f9b_2e543058afcf8fce.jpg' moved to white_folder.\n",
      "Image 'txt_669a8315F61256f82_6efb90121ef57e97.jpg' moved to white_folder.\n",
      "Image 'txt_66a3118cF0a7a9c82_d0d6ed3ae3f6c0ce.jpg' moved to white_folder.\n",
      "Image 'txt_66ab7853Fb8c3031c_0939d1cefdb43714.jpg' moved to white_folder.\n"
     ]
    },
    {
     "name": "stderr",
     "output_type": "stream",
     "text": [
      "Processing images: 100%|██████████| 304/304 [00:02<00:00, 118.84it/s]\n"
     ]
    },
    {
     "name": "stdout",
     "output_type": "stream",
     "text": [
      "Image 'txt_66c80a13F738591e5_febb87dd0302224c.jpg' moved to white_folder.\n",
      "Image 'txt_66d11a16F755a5457_87ed0e635976a2a3.jpg' moved to white_folder.\n",
      "Image 'txt_66d11b1cF45a16c0b_648829ff44c7ac01.jpg' moved to white_folder.\n",
      "Image 'txt_66e4e961F42186a43_83eeb008ad9a63a1.jpg' moved to white_folder.\n",
      "Image 'txt_66eb977cFe327ab03_33f7642bce438bae.jpg' moved to white_folder.\n",
      "Image 'txt_66f17aceFc590c02b_76d1c2aa0cde9130.jpg' moved to white_folder.\n",
      "Image 'txt_66f17ad1Fdd63002b_18372a4773e19f31.jpg' moved to white_folder.\n",
      "Step 3: 筛选功能卖点图\n"
     ]
    },
    {
     "name": "stderr",
     "output_type": "stream",
     "text": [
      "处理图片: 100%|██████████| 285/285 [00:30<00:00,  9.24it/s]\n"
     ]
    },
    {
     "name": "stdout",
     "output_type": "stream",
     "text": [
      "Step 4: 归类图片到scene\n",
      "Processing subfolder: D://code//data//Lv2期结论//京喜_from_0501//筛选\\13661\n",
      "Step 1: 筛选价促卖点图\n"
     ]
    },
    {
     "name": "stderr",
     "output_type": "stream",
     "text": [
      "Processing images:  11%|█▏        | 7/61 [00:02<00:21,  2.47it/s]"
     ]
    },
    {
     "name": "stdout",
     "output_type": "stream",
     "text": [
      "Image '669103d8Facc0bbce_10c9d74d2adf9f00.jpg' moved to price_folder.\n"
     ]
    },
    {
     "name": "stderr",
     "output_type": "stream",
     "text": [
      "Processing images:  18%|█▊        | 11/61 [00:04<00:16,  3.08it/s]"
     ]
    },
    {
     "name": "stdout",
     "output_type": "stream",
     "text": [
      "Image '66a9a53cFdd82298c_c80a99f6276e0887.jpg' moved to price_folder.\n"
     ]
    },
    {
     "name": "stderr",
     "output_type": "stream",
     "text": [
      "Processing images:  20%|█▉        | 12/61 [00:04<00:16,  2.90it/s]"
     ]
    },
    {
     "name": "stdout",
     "output_type": "stream",
     "text": [
      "Image '66ab788bF1cc41ca3_4e299af8de3d190f.jpg' moved to price_folder.\n"
     ]
    },
    {
     "name": "stderr",
     "output_type": "stream",
     "text": [
      "Processing images:  25%|██▍       | 15/61 [00:05<00:15,  2.92it/s]"
     ]
    },
    {
     "name": "stdout",
     "output_type": "stream",
     "text": [
      "Image '66b5c55eF40c9384f_cf52cc6db1512bd6.jpg' moved to price_folder.\n"
     ]
    },
    {
     "name": "stderr",
     "output_type": "stream",
     "text": [
      "Processing images:  43%|████▎     | 26/61 [00:09<00:11,  3.00it/s]"
     ]
    },
    {
     "name": "stdout",
     "output_type": "stream",
     "text": [
      "Image '66c2bf14Fcd5d290e_eb631b535728c205.jpg' moved to price_folder.\n"
     ]
    },
    {
     "name": "stderr",
     "output_type": "stream",
     "text": [
      "Processing images:  52%|█████▏    | 32/61 [00:11<00:13,  2.21it/s]"
     ]
    },
    {
     "name": "stdout",
     "output_type": "stream",
     "text": [
      "Image '66d11993Ff2edf74d_9ae4314f31240523.jpg' moved to price_folder.\n"
     ]
    },
    {
     "name": "stderr",
     "output_type": "stream",
     "text": [
      "Processing images:  54%|█████▍    | 33/61 [00:12<00:12,  2.24it/s]"
     ]
    },
    {
     "name": "stdout",
     "output_type": "stream",
     "text": [
      "Image '66d11ab3F315c38f5_54b410f33b03e7b4.jpg' moved to price_folder.\n"
     ]
    },
    {
     "name": "stderr",
     "output_type": "stream",
     "text": [
      "Processing images:  66%|██████▌   | 40/61 [00:15<00:11,  1.86it/s]"
     ]
    },
    {
     "name": "stdout",
     "output_type": "stream",
     "text": [
      "Image '66e4e8ffFd1a94cec_4844c0a083ca1daa.jpg' moved to price_folder.\n"
     ]
    },
    {
     "name": "stderr",
     "output_type": "stream",
     "text": [
      "Processing images:  72%|███████▏  | 44/61 [00:17<00:06,  2.61it/s]"
     ]
    },
    {
     "name": "stdout",
     "output_type": "stream",
     "text": [
      "Image '66f60c8cF8d5909b4_a5f24e32581f7ffc.jpg' moved to price_folder.\n"
     ]
    },
    {
     "name": "stderr",
     "output_type": "stream",
     "text": [
      "Processing images: 100%|██████████| 61/61 [00:22<00:00,  2.67it/s]\n"
     ]
    },
    {
     "name": "stdout",
     "output_type": "stream",
     "text": [
      "Step 2: 筛选白底图\n"
     ]
    },
    {
     "name": "stderr",
     "output_type": "stream",
     "text": [
      "Processing images: 100%|██████████| 52/52 [00:00<00:00, 97.61it/s] \n"
     ]
    },
    {
     "name": "stdout",
     "output_type": "stream",
     "text": [
      "Image 'price_66910216F86067e78_3aaa8594dc2498d3.jpg' moved to white_folder.\n",
      "Image 'txt_667e8d3aF72aeb404_aa6714421e44b794.jpg' moved to white_folder.\n",
      "Image 'txt_669a82cfFba43e519_5f304d92dc1bd48a.jpg' moved to white_folder.\n",
      "Image 'txt_669a8417F37dcb8fd_feba5c666e0eaa89.jpg' moved to white_folder.\n",
      "Image 'txt_66c0c210F30db9c37_7c08e2ebce0784a9.jpg' moved to white_folder.\n",
      "Image 'txt_66c2c5e1F308550bd_c29002ff0c43dd8c.jpg' moved to white_folder.\n",
      "Image 'txt_66c8101fF6d2c905a_e576ab8ff3a9034e.jpg' moved to white_folder.\n",
      "Image 'txt_66d11b5fFa25f5b3a_6a4041ef43f34acd.jpg' moved to white_folder.\n",
      "Image 'txt_66d122a8F6883dcf8_345c6f8a9643cdac.jpg' moved to white_folder.\n",
      "Step 3: 筛选功能卖点图\n"
     ]
    },
    {
     "name": "stderr",
     "output_type": "stream",
     "text": [
      "处理图片: 100%|██████████| 43/43 [00:16<00:00,  2.53it/s]\n"
     ]
    },
    {
     "name": "stdout",
     "output_type": "stream",
     "text": [
      "Step 4: 归类图片到scene\n",
      "Processing subfolder: D://code//data//Lv2期结论//京喜_from_0501//筛选\\1476\n",
      "Step 1: 筛选价促卖点图\n"
     ]
    },
    {
     "name": "stderr",
     "output_type": "stream",
     "text": [
      "Processing images: 100%|██████████| 19/19 [00:06<00:00,  2.86it/s]\n"
     ]
    },
    {
     "name": "stdout",
     "output_type": "stream",
     "text": [
      "Step 2: 筛选白底图\n"
     ]
    },
    {
     "name": "stderr",
     "output_type": "stream",
     "text": [
      "Processing images: 100%|██████████| 19/19 [00:00<00:00, 101.30it/s]\n"
     ]
    },
    {
     "name": "stdout",
     "output_type": "stream",
     "text": [
      "Image 'txt_667e8bf8Fa2139b7a_b37cff14b3c38148.jpg' moved to white_folder.\n",
      "Image 'txt_66852bc7Fed3b0bf4_a5e6a9d80fdcb2fd.jpg' moved to white_folder.\n",
      "Step 3: 筛选功能卖点图\n"
     ]
    },
    {
     "name": "stderr",
     "output_type": "stream",
     "text": [
      "处理图片: 100%|██████████| 17/17 [00:06<00:00,  2.74it/s]\n"
     ]
    },
    {
     "name": "stdout",
     "output_type": "stream",
     "text": [
      "Step 4: 归类图片到scene\n",
      "Processing subfolder: D://code//data//Lv2期结论//京喜_from_0501//筛选\\15908\n",
      "Step 1: 筛选价促卖点图\n"
     ]
    },
    {
     "name": "stderr",
     "output_type": "stream",
     "text": [
      "Processing images:   2%|▏         | 2/104 [00:01<01:04,  1.58it/s]"
     ]
    },
    {
     "name": "stdout",
     "output_type": "stream",
     "text": [
      "Image '667e8cf6F7e18c312_29b58b1c03046e6e.jpg' moved to price_folder.\n"
     ]
    },
    {
     "name": "stderr",
     "output_type": "stream",
     "text": [
      "Processing images:  19%|█▉        | 20/104 [00:12<01:05,  1.28it/s]"
     ]
    },
    {
     "name": "stdout",
     "output_type": "stream",
     "text": [
      "Image '66b30c73Fdd7e47cc_ef87aa1fe33f1653.jpg' moved to price_folder.\n"
     ]
    },
    {
     "name": "stderr",
     "output_type": "stream",
     "text": [
      "Processing images:  38%|███▊      | 39/104 [00:24<00:40,  1.61it/s]"
     ]
    },
    {
     "name": "stdout",
     "output_type": "stream",
     "text": [
      "Image '66c0be61F374dab7c_15249f3245de5cc5.jpg' moved to price_folder.\n"
     ]
    },
    {
     "name": "stderr",
     "output_type": "stream",
     "text": [
      "Processing images:  38%|███▊      | 40/104 [00:25<00:41,  1.56it/s]"
     ]
    },
    {
     "name": "stdout",
     "output_type": "stream",
     "text": [
      "Image '66c0bf17Fc26f484d_2aac8756f14909dd.jpg' moved to price_folder.\n"
     ]
    },
    {
     "name": "stderr",
     "output_type": "stream",
     "text": [
      "Processing images:  56%|█████▌    | 58/104 [00:36<00:26,  1.75it/s]"
     ]
    },
    {
     "name": "stdout",
     "output_type": "stream",
     "text": [
      "Image '66d55853F93dbda5e_fb32ba882a10d3db.jpg' moved to price_folder.\n"
     ]
    },
    {
     "name": "stderr",
     "output_type": "stream",
     "text": [
      "Processing images:  57%|█████▋    | 59/104 [00:37<00:25,  1.75it/s]"
     ]
    },
    {
     "name": "stdout",
     "output_type": "stream",
     "text": [
      "Image '66d55980F65a316d5_061062735076ee7f.jpg' moved to price_folder.\n"
     ]
    },
    {
     "name": "stderr",
     "output_type": "stream",
     "text": [
      "Processing images:  59%|█████▊    | 61/104 [00:39<00:32,  1.33it/s]"
     ]
    },
    {
     "name": "stdout",
     "output_type": "stream",
     "text": [
      "Image '66dab605F6bdf6062_2017f6a336d205e4.jpg' moved to price_folder.\n"
     ]
    },
    {
     "name": "stderr",
     "output_type": "stream",
     "text": [
      "Processing images:  69%|██████▉   | 72/104 [00:47<00:24,  1.30it/s]"
     ]
    },
    {
     "name": "stdout",
     "output_type": "stream",
     "text": [
      "Image '66e4ef3eFc3e54916_84ccdb9b3ee249fc.jpg' moved to price_folder.\n"
     ]
    },
    {
     "name": "stderr",
     "output_type": "stream",
     "text": [
      "Processing images:  78%|███████▊  | 81/104 [00:52<00:14,  1.64it/s]"
     ]
    },
    {
     "name": "stdout",
     "output_type": "stream",
     "text": [
      "Image '66f186a5Fd59020b4_66a81bf0e8ed4bbf.jpg' moved to price_folder.\n"
     ]
    },
    {
     "name": "stderr",
     "output_type": "stream",
     "text": [
      "Processing images:  88%|████████▊ | 92/104 [00:57<00:06,  1.91it/s]"
     ]
    },
    {
     "name": "stdout",
     "output_type": "stream",
     "text": [
      "Image '66f60cfcFd7d2e22c_9411d53d5db63475.jpg' moved to price_folder.\n"
     ]
    },
    {
     "name": "stderr",
     "output_type": "stream",
     "text": [
      "Processing images:  94%|█████████▍| 98/104 [01:00<00:03,  1.94it/s]"
     ]
    },
    {
     "name": "stdout",
     "output_type": "stream",
     "text": [
      "Image '66fc1b79F78cc0f24_27601b401c441e6f.jpg' moved to price_folder.\n"
     ]
    },
    {
     "name": "stderr",
     "output_type": "stream",
     "text": [
      "Processing images: 100%|██████████| 104/104 [01:05<00:00,  1.58it/s]\n"
     ]
    },
    {
     "name": "stdout",
     "output_type": "stream",
     "text": [
      "Step 2: 筛选白底图\n"
     ]
    },
    {
     "name": "stderr",
     "output_type": "stream",
     "text": [
      "Processing images: 100%|██████████| 93/93 [00:00<00:00, 99.20it/s] \n"
     ]
    },
    {
     "name": "stdout",
     "output_type": "stream",
     "text": [
      "Image 'txt_66c0c0abF89fbeb07_d44a6d42d0ac7ce9.jpg' moved to white_folder.\n",
      "Image 'txt_66c0c0acF48dbf192_4023cbadf9891f2a.jpg' moved to white_folder.\n",
      "Image 'txt_66c0c0aeFe878edd3_3d8b06cb87b5b0eb.jpg' moved to white_folder.\n",
      "Image 'txt_66c0c0b0F7d429e13_e016019e3319d064.jpg' moved to white_folder.\n",
      "Step 3: 筛选功能卖点图\n"
     ]
    },
    {
     "name": "stderr",
     "output_type": "stream",
     "text": [
      "处理图片: 100%|██████████| 89/89 [00:59<00:00,  1.51it/s]\n"
     ]
    },
    {
     "name": "stdout",
     "output_type": "stream",
     "text": [
      "Step 4: 归类图片到scene\n",
      "Processing subfolder: D://code//data//Lv2期结论//京喜_from_0501//筛选\\1656\n",
      "Step 1: 筛选价促卖点图\n"
     ]
    },
    {
     "name": "stderr",
     "output_type": "stream",
     "text": [
      "Processing images: 100%|██████████| 68/68 [00:31<00:00,  2.16it/s]\n"
     ]
    },
    {
     "name": "stdout",
     "output_type": "stream",
     "text": [
      "Step 2: 筛选白底图\n"
     ]
    },
    {
     "name": "stderr",
     "output_type": "stream",
     "text": [
      "Processing images:  97%|█████████▋| 66/68 [00:00<00:00, 88.77it/s]"
     ]
    },
    {
     "name": "stdout",
     "output_type": "stream",
     "text": [
      "Image 'txt_667aaa20F27227ab8_126f87c1eb0d8f99.jpg' moved to white_folder.\n",
      "Image 'txt_667e8b13Fccbcd38c_5750bc0352f7c19f.jpg' moved to white_folder.\n",
      "Image 'txt_66877c53Ff4936af8_a7d73863948d0d02.jpg' moved to white_folder.\n",
      "Image 'txt_66a31093F4da4246e_8ef0b866a2e9539e.jpg' moved to white_folder.\n",
      "Image 'txt_66a9a4a9F9d12f31d_21a893d7ae1123e8.jpg' moved to white_folder.\n",
      "Image 'txt_66c2be62F2b3cd940_f07542c0b8ea9fee.jpg' moved to white_folder.\n",
      "Image 'txt_66c2be67F1cacc289_cb57f1218011f8a7.jpg' moved to white_folder.\n",
      "Image 'txt_66c2dff6F8eb07350_b13c0940947a843d.jpg' moved to white_folder.\n",
      "Image 'txt_66c2e008F4cbc774c_2e654d7f98fcf113.jpg' moved to white_folder.\n",
      "Image 'txt_66d5c9c1Fa165a862_840087bd5280d38c.jpg' moved to white_folder.\n",
      "Image 'txt_66dab731F774fdd4d_ffac95625932a493.jpg' moved to white_folder.\n"
     ]
    },
    {
     "name": "stderr",
     "output_type": "stream",
     "text": [
      "Processing images: 100%|██████████| 68/68 [00:00<00:00, 81.11it/s]\n"
     ]
    },
    {
     "name": "stdout",
     "output_type": "stream",
     "text": [
      "Image 'txt_66f177daF7a8ed455_cca9b524c7217603.jpg' moved to white_folder.\n",
      "Step 3: 筛选功能卖点图\n"
     ]
    },
    {
     "name": "stderr",
     "output_type": "stream",
     "text": [
      "处理图片: 100%|██████████| 56/56 [00:26<00:00,  2.15it/s]\n"
     ]
    },
    {
     "name": "stdout",
     "output_type": "stream",
     "text": [
      "Step 4: 归类图片到scene\n",
      "Processing subfolder: D://code//data//Lv2期结论//京喜_from_0501//筛选\\1657\n",
      "Step 1: 筛选价促卖点图\n"
     ]
    },
    {
     "name": "stderr",
     "output_type": "stream",
     "text": [
      "Processing images:  17%|█▋        | 21/125 [00:10<00:52,  1.97it/s]"
     ]
    },
    {
     "name": "stdout",
     "output_type": "stream",
     "text": [
      "Image '66a30f5eF883fcbc4_e9fcbfe4ad37bf03.jpg' moved to price_folder.\n"
     ]
    },
    {
     "name": "stderr",
     "output_type": "stream",
     "text": [
      "Processing images:  22%|██▏       | 27/125 [00:15<01:11,  1.37it/s]"
     ]
    },
    {
     "name": "stdout",
     "output_type": "stream",
     "text": [
      "Image '66ab784eF40a6be83_f21dfc02655503bc.jpg' moved to price_folder.\n"
     ]
    },
    {
     "name": "stderr",
     "output_type": "stream",
     "text": [
      "Processing images: 100%|██████████| 125/125 [01:08<00:00,  1.83it/s]\n"
     ]
    },
    {
     "name": "stdout",
     "output_type": "stream",
     "text": [
      "Step 2: 筛选白底图\n"
     ]
    },
    {
     "name": "stderr",
     "output_type": "stream",
     "text": [
      "Processing images: 100%|██████████| 123/123 [00:01<00:00, 79.26it/s]\n"
     ]
    },
    {
     "name": "stdout",
     "output_type": "stream",
     "text": [
      "Image 'txt_6674eea7Fd0674c1f_07dcfff13026fdd2.jpg' moved to white_folder.\n",
      "Image 'txt_66b5c361F701fb538_1678669a463ad3c6.jpg' moved to white_folder.\n",
      "Image 'txt_66c98363F547f3d4d_c543d5d390493863.jpg' moved to white_folder.\n",
      "Image 'txt_66dabb2fF2764a1ec_f8fa54ab1e2d1ac6.jpg' moved to white_folder.\n",
      "Image 'txt_66f186b8Fc6657c34_40edec08df13e486.jpg' moved to white_folder.\n",
      "Image 'txt_66f60ab5Fbe928c9c_23a6df1cd0fde1a4.jpg' moved to white_folder.\n",
      "Image 'txt_66fc0c2cF75715266_b8fe1c9d1c99c52c.jpg' moved to white_folder.\n",
      "Image 'txt_66fdf33cFd443edae_a35e22e32a792441.jpg' moved to white_folder.\n",
      "Step 3: 筛选功能卖点图\n"
     ]
    },
    {
     "name": "stderr",
     "output_type": "stream",
     "text": [
      "处理图片: 100%|██████████| 115/115 [01:07<00:00,  1.72it/s]\n"
     ]
    },
    {
     "name": "stdout",
     "output_type": "stream",
     "text": [
      "Step 4: 归类图片到scene\n",
      "Processing subfolder: D://code//data//Lv2期结论//京喜_from_0501//筛选\\16777\n",
      "Step 1: 筛选价促卖点图\n"
     ]
    },
    {
     "name": "stderr",
     "output_type": "stream",
     "text": [
      "Processing images:  75%|███████▌  | 145/193 [01:10<00:18,  2.62it/s]"
     ]
    },
    {
     "name": "stdout",
     "output_type": "stream",
     "text": [
      "Image '66f6100cF00f74dff_c7abd4078804735f.jpg' moved to price_folder.\n"
     ]
    },
    {
     "name": "stderr",
     "output_type": "stream",
     "text": [
      "Processing images: 100%|██████████| 193/193 [01:35<00:00,  2.02it/s]\n"
     ]
    },
    {
     "name": "stdout",
     "output_type": "stream",
     "text": [
      "Step 2: 筛选白底图\n"
     ]
    },
    {
     "name": "stderr",
     "output_type": "stream",
     "text": [
      "Processing images:  94%|█████████▍| 180/192 [00:02<00:00, 63.77it/s]"
     ]
    },
    {
     "name": "stdout",
     "output_type": "stream",
     "text": [
      "Image 'txt_667e8c84Fbe60ffb1_71b5edf528149421.jpg' moved to white_folder.\n",
      "Image 'txt_66a310dfF55c03846_fece51183f15cca1.jpg' moved to white_folder.\n",
      "Image 'txt_66ab77aeFff753642_c3d3507eac6da40a.jpg' moved to white_folder.\n",
      "Image 'txt_66b5c43bF2d5636e5_739f59677a6ce64c.jpg' moved to white_folder.\n",
      "Image 'txt_66b5c461F067ab72e_65e00e8d94f07915.jpg' moved to white_folder.\n",
      "Image 'txt_66b5c4f5Fbaaa9e4b_29cb959001ae0203.jpg' moved to white_folder.\n",
      "Image 'txt_66c0bfaaF3e89080c_000ee469548df88a.jpg' moved to white_folder.\n"
     ]
    },
    {
     "name": "stderr",
     "output_type": "stream",
     "text": [
      "Processing images:  98%|█████████▊| 188/192 [00:02<00:00, 57.06it/s]"
     ]
    },
    {
     "name": "stdout",
     "output_type": "stream",
     "text": [
      "Image 'txt_66c2c0f8Fcf7a8c3e_4984abdae7020440.jpg' moved to white_folder.\n",
      "Image 'txt_66c80b7aFf14ebf43_89535ce0f890c238.jpg' moved to white_folder.\n",
      "Image 'txt_66ceb8a0Fd09b1a3d_52506916cfcb9661.jpg' moved to white_folder.\n",
      "Image 'txt_66ceb9d3Faad099ae_42e06b814d0b0847.jpg' moved to white_folder.\n",
      "Image 'txt_66ceb9d5Faa4c3c67_ce4519a05d0b9eca.jpg' moved to white_folder.\n",
      "Image 'txt_66d11a7cFe7941a3b_f3a515663409aab6.jpg' moved to white_folder.\n",
      "Image 'txt_66e4e8ceFf31bc4ce_bbccefc6b8926c1c.jpg' moved to white_folder.\n"
     ]
    },
    {
     "name": "stderr",
     "output_type": "stream",
     "text": [
      "Processing images: 100%|██████████| 192/192 [00:02<00:00, 70.39it/s]\n"
     ]
    },
    {
     "name": "stdout",
     "output_type": "stream",
     "text": [
      "Image 'txt_66f60dc9F2caec02a_22dfa830df4b6d92.jpg' moved to white_folder.\n",
      "Step 3: 筛选功能卖点图\n"
     ]
    },
    {
     "name": "stderr",
     "output_type": "stream",
     "text": [
      "处理图片: 100%|██████████| 177/177 [01:20<00:00,  2.20it/s]\n"
     ]
    },
    {
     "name": "stdout",
     "output_type": "stream",
     "text": [
      "Step 4: 归类图片到scene\n",
      "Processing subfolder: D://code//data//Lv2期结论//京喜_from_0501//筛选\\34919\n",
      "Step 1: 筛选价促卖点图\n"
     ]
    },
    {
     "name": "stderr",
     "output_type": "stream",
     "text": [
      "Processing images:   6%|▋         | 4/63 [00:03<00:50,  1.16it/s]"
     ]
    },
    {
     "name": "stdout",
     "output_type": "stream",
     "text": [
      "Image '6674f3a1Fd5bcc067_67531efcba1ea8f2.jpg' moved to price_folder.\n"
     ]
    },
    {
     "name": "stderr",
     "output_type": "stream",
     "text": [
      "Processing images:  13%|█▎        | 8/63 [00:07<00:54,  1.01it/s]"
     ]
    },
    {
     "name": "stdout",
     "output_type": "stream",
     "text": [
      "Image '66a30f17Ffbe03b43_c2618b02866c43a8.jpg' moved to price_folder.\n"
     ]
    },
    {
     "name": "stderr",
     "output_type": "stream",
     "text": [
      "Processing images:  25%|██▌       | 16/63 [00:15<00:43,  1.08it/s]"
     ]
    },
    {
     "name": "stdout",
     "output_type": "stream",
     "text": [
      "Image '66a31306F310b556b_868272c4215c05ff.jpg' moved to price_folder.\n"
     ]
    },
    {
     "name": "stderr",
     "output_type": "stream",
     "text": [
      "Processing images:  27%|██▋       | 17/63 [00:16<00:44,  1.03it/s]"
     ]
    },
    {
     "name": "stdout",
     "output_type": "stream",
     "text": [
      "Image '66a9a353F57e6e18d_6b52b86f200e1da9.jpg' moved to price_folder.\n"
     ]
    },
    {
     "name": "stderr",
     "output_type": "stream",
     "text": [
      "Processing images:  30%|███       | 19/63 [00:17<00:34,  1.27it/s]"
     ]
    },
    {
     "name": "stdout",
     "output_type": "stream",
     "text": [
      "Image '66b30efcFb31cb334_ce7c5f55784e6c69.jpg' moved to price_folder.\n"
     ]
    },
    {
     "name": "stderr",
     "output_type": "stream",
     "text": [
      "Processing images:  40%|███▉      | 25/63 [00:23<00:33,  1.12it/s]"
     ]
    },
    {
     "name": "stdout",
     "output_type": "stream",
     "text": [
      "Image '66bc18dbFeefdb80c_40f41e786f4d31cb.jpg' moved to price_folder.\n"
     ]
    },
    {
     "name": "stderr",
     "output_type": "stream",
     "text": [
      "Processing images:  44%|████▍     | 28/63 [00:26<00:30,  1.16it/s]"
     ]
    },
    {
     "name": "stdout",
     "output_type": "stream",
     "text": [
      "Image '66c0beb2F75348744_feb9030376621fdd.jpg' moved to price_folder.\n"
     ]
    },
    {
     "name": "stderr",
     "output_type": "stream",
     "text": [
      "Processing images:  60%|██████    | 38/63 [00:35<00:24,  1.03it/s]"
     ]
    },
    {
     "name": "stdout",
     "output_type": "stream",
     "text": [
      "Image '66d5c8e2Ff8a8f2cb_9165c26345103343.jpg' moved to price_folder.\n"
     ]
    },
    {
     "name": "stderr",
     "output_type": "stream",
     "text": [
      "Processing images:  84%|████████▍ | 53/63 [00:47<00:08,  1.14it/s]"
     ]
    },
    {
     "name": "stdout",
     "output_type": "stream",
     "text": [
      "Image '66f19afaF2875e556_7b3042bc7073c0c4.jpg' moved to price_folder.\n"
     ]
    },
    {
     "name": "stderr",
     "output_type": "stream",
     "text": [
      "Processing images:  94%|█████████▎| 59/63 [00:53<00:03,  1.02it/s]"
     ]
    },
    {
     "name": "stdout",
     "output_type": "stream",
     "text": [
      "Image 'price_66b5c5f0Fc35c665a_1d0f0a7617e25812.jpg' moved to price_folder.\n"
     ]
    },
    {
     "name": "stderr",
     "output_type": "stream",
     "text": [
      "Processing images:  95%|█████████▌| 60/63 [00:53<00:02,  1.06it/s]"
     ]
    },
    {
     "name": "stdout",
     "output_type": "stream",
     "text": [
      "Image 'price_66c80ad8F5c631b07_50750610bb4d7b1a.jpg' moved to price_folder.\n"
     ]
    },
    {
     "name": "stderr",
     "output_type": "stream",
     "text": [
      "Processing images: 100%|██████████| 63/63 [00:56<00:00,  1.11it/s]\n"
     ]
    },
    {
     "name": "stdout",
     "output_type": "stream",
     "text": [
      "Step 2: 筛选白底图\n"
     ]
    },
    {
     "name": "stderr",
     "output_type": "stream",
     "text": [
      "Processing images: 100%|██████████| 52/52 [00:00<00:00, 65.63it/s]\n"
     ]
    },
    {
     "name": "stdout",
     "output_type": "stream",
     "text": [
      "Step 3: 筛选功能卖点图\n"
     ]
    },
    {
     "name": "stderr",
     "output_type": "stream",
     "text": [
      "处理图片: 100%|██████████| 52/52 [00:44<00:00,  1.16it/s]\n"
     ]
    },
    {
     "name": "stdout",
     "output_type": "stream",
     "text": [
      "Step 4: 归类图片到scene\n",
      "Processing subfolder: D://code//data//Lv2期结论//京喜_from_0501//筛选\\35404\n",
      "Step 1: 筛选价促卖点图\n"
     ]
    },
    {
     "name": "stderr",
     "output_type": "stream",
     "text": [
      "Processing images:  28%|██▊       | 45/159 [00:29<01:07,  1.69it/s]"
     ]
    },
    {
     "name": "stdout",
     "output_type": "stream",
     "text": [
      "Image '66c80e78Fd2411a73_41fb94a9fc67c323.jpg' moved to price_folder.\n"
     ]
    },
    {
     "name": "stderr",
     "output_type": "stream",
     "text": [
      "Processing images:  47%|████▋     | 75/159 [00:48<01:02,  1.34it/s]"
     ]
    },
    {
     "name": "stdout",
     "output_type": "stream",
     "text": [
      "Image '66dac96dFdc5cd6f5_f0ecf38e81f87359.jpg' moved to price_folder.\n"
     ]
    },
    {
     "name": "stderr",
     "output_type": "stream",
     "text": [
      "Processing images:  58%|█████▊    | 93/159 [00:59<00:29,  2.26it/s]"
     ]
    },
    {
     "name": "stdout",
     "output_type": "stream",
     "text": [
      "Image '66e4ecf7Fd409350a_5168a8f3896f09c1.jpg' moved to price_folder.\n"
     ]
    },
    {
     "name": "stderr",
     "output_type": "stream",
     "text": [
      "Processing images:  66%|██████▌   | 105/159 [01:02<00:22,  2.40it/s]"
     ]
    },
    {
     "name": "stdout",
     "output_type": "stream",
     "text": [
      "Image '66e4fe20Fcc228e29_b9d9d9a97caf5938.jpg' moved to price_folder.\n"
     ]
    },
    {
     "name": "stderr",
     "output_type": "stream",
     "text": [
      "Processing images:  75%|███████▍  | 119/159 [01:13<00:33,  1.19it/s]"
     ]
    },
    {
     "name": "stdout",
     "output_type": "stream",
     "text": [
      "Image '66f18390F46dea236_05e1e6e626b635db.jpg' moved to price_folder.\n"
     ]
    },
    {
     "name": "stderr",
     "output_type": "stream",
     "text": [
      "Processing images: 100%|██████████| 159/159 [01:44<00:00,  1.53it/s]\n"
     ]
    },
    {
     "name": "stdout",
     "output_type": "stream",
     "text": [
      "Step 2: 筛选白底图\n"
     ]
    },
    {
     "name": "stderr",
     "output_type": "stream",
     "text": [
      "Processing images: 100%|██████████| 154/154 [00:02<00:00, 61.14it/s]\n"
     ]
    },
    {
     "name": "stdout",
     "output_type": "stream",
     "text": [
      "Image 'txt_66b9648aF6537f511_a9ecb4c1bbe2a8c5.jpg' moved to white_folder.\n",
      "Image 'txt_66bc135eF6f991215_40a6beb95234109f.jpg' moved to white_folder.\n",
      "Image 'txt_66c0be9bF552d289f_f1fe771d533c1337.jpg' moved to white_folder.\n",
      "Image 'txt_66e4e818F7e61886c_1c7eb123752186e8.jpg' moved to white_folder.\n",
      "Image 'txt_66e4ebebFd0dc52d0_73f62fbf38c01cc6.jpg' moved to white_folder.\n",
      "Step 3: 筛选功能卖点图\n"
     ]
    },
    {
     "name": "stderr",
     "output_type": "stream",
     "text": [
      "处理图片: 100%|██████████| 149/149 [01:13<00:00,  2.03it/s]\n"
     ]
    },
    {
     "name": "stdout",
     "output_type": "stream",
     "text": [
      "Step 4: 归类图片到scene\n",
      "Processing subfolder: D://code//data//Lv2期结论//京喜_from_0501//筛选\\6191\n",
      "Step 1: 筛选价促卖点图\n"
     ]
    },
    {
     "name": "stderr",
     "output_type": "stream",
     "text": [
      "Processing images: 100%|██████████| 35/35 [00:18<00:00,  1.87it/s]\n"
     ]
    },
    {
     "name": "stdout",
     "output_type": "stream",
     "text": [
      "Step 2: 筛选白底图\n"
     ]
    },
    {
     "name": "stderr",
     "output_type": "stream",
     "text": [
      "Processing images: 100%|██████████| 35/35 [00:00<00:00, 60.15it/s]\n"
     ]
    },
    {
     "name": "stdout",
     "output_type": "stream",
     "text": [
      "Step 3: 筛选功能卖点图\n"
     ]
    },
    {
     "name": "stderr",
     "output_type": "stream",
     "text": [
      "处理图片: 100%|██████████| 35/35 [00:18<00:00,  1.94it/s]\n"
     ]
    },
    {
     "name": "stdout",
     "output_type": "stream",
     "text": [
      "Step 4: 归类图片到scene\n",
      "Processing subfolder: D://code//data//Lv2期结论//京喜_from_0501//筛选\\6221\n",
      "Step 1: 筛选价促卖点图\n"
     ]
    },
    {
     "name": "stderr",
     "output_type": "stream",
     "text": [
      "Processing images:  81%|████████  | 51/63 [00:43<00:07,  1.55it/s]"
     ]
    },
    {
     "name": "stdout",
     "output_type": "stream",
     "text": [
      "Image '66e4eafeFfd6cc38f_5bc2a59bbc36a316.jpg' moved to price_folder.\n"
     ]
    },
    {
     "name": "stderr",
     "output_type": "stream",
     "text": [
      "Processing images:  86%|████████▌ | 54/63 [00:47<00:10,  1.19s/it]"
     ]
    },
    {
     "name": "stdout",
     "output_type": "stream",
     "text": [
      "Image '66e4f23cF29b21d7a_79959161ec860c49.jpg' moved to price_folder.\n"
     ]
    },
    {
     "name": "stderr",
     "output_type": "stream",
     "text": [
      "Processing images:  95%|█████████▌| 60/63 [00:51<00:01,  1.67it/s]"
     ]
    },
    {
     "name": "stdout",
     "output_type": "stream",
     "text": [
      "Image '66fc0dceFcf337fa6_3c1e5e5732092df1.jpg' moved to price_folder.\n"
     ]
    },
    {
     "name": "stderr",
     "output_type": "stream",
     "text": [
      "Processing images: 100%|██████████| 63/63 [00:53<00:00,  1.18it/s]\n"
     ]
    },
    {
     "name": "stdout",
     "output_type": "stream",
     "text": [
      "Step 2: 筛选白底图\n"
     ]
    },
    {
     "name": "stderr",
     "output_type": "stream",
     "text": [
      "Processing images:  48%|████▊     | 29/60 [00:00<00:00, 54.33it/s]"
     ]
    },
    {
     "name": "stdout",
     "output_type": "stream",
     "text": [
      "Image '66c0c0ebFf9c9101c_686bb55812721940.jpg' moved to white_folder.\n"
     ]
    },
    {
     "name": "stderr",
     "output_type": "stream",
     "text": [
      "Processing images: 100%|██████████| 60/60 [00:01<00:00, 54.25it/s]\n"
     ]
    },
    {
     "name": "stdout",
     "output_type": "stream",
     "text": [
      "Image 'txt_66ceb751F72438ed3_4c973924dd06fd60.jpg' moved to white_folder.\n",
      "Image 'txt_66f60ad9F1631e464_e18f92d05351f955.jpg' moved to white_folder.\n",
      "Step 3: 筛选功能卖点图\n"
     ]
    },
    {
     "name": "stderr",
     "output_type": "stream",
     "text": [
      "处理图片: 100%|██████████| 57/57 [00:40<00:00,  1.40it/s]\n"
     ]
    },
    {
     "name": "stdout",
     "output_type": "stream",
     "text": [
      "Step 4: 归类图片到scene\n",
      "Processing subfolder: D://code//data//Lv2期结论//京喜_from_0501//筛选\\739\n",
      "Step 1: 筛选价促卖点图\n"
     ]
    },
    {
     "name": "stderr",
     "output_type": "stream",
     "text": [
      "Processing images: 100%|██████████| 30/30 [00:33<00:00,  1.13s/it]\n"
     ]
    },
    {
     "name": "stdout",
     "output_type": "stream",
     "text": [
      "Step 2: 筛选白底图\n"
     ]
    },
    {
     "name": "stderr",
     "output_type": "stream",
     "text": [
      "Processing images: 100%|██████████| 30/30 [00:00<00:00, 52.86it/s]\n"
     ]
    },
    {
     "name": "stdout",
     "output_type": "stream",
     "text": [
      "Step 3: 筛选功能卖点图\n"
     ]
    },
    {
     "name": "stderr",
     "output_type": "stream",
     "text": [
      "处理图片: 100%|██████████| 30/30 [00:26<00:00,  1.15it/s]\n"
     ]
    },
    {
     "name": "stdout",
     "output_type": "stream",
     "text": [
      "Step 4: 归类图片到scene\n",
      "Processing subfolder: D://code//data//Lv2期结论//京喜_from_0501//筛选\\753\n",
      "Step 1: 筛选价促卖点图\n"
     ]
    },
    {
     "name": "stderr",
     "output_type": "stream",
     "text": [
      "Processing images:  11%|█         | 1/9 [00:01<00:11,  1.38s/it]"
     ]
    },
    {
     "name": "stdout",
     "output_type": "stream",
     "text": [
      "Image '66877c15Fea2a6e80_a43ed0b8932736d4.jpg' moved to price_folder.\n"
     ]
    },
    {
     "name": "stderr",
     "output_type": "stream",
     "text": [
      "Processing images:  33%|███▎      | 3/9 [00:03<00:07,  1.27s/it]"
     ]
    },
    {
     "name": "stdout",
     "output_type": "stream",
     "text": [
      "Image '669a81adF0bbe2c4e_d68f1807781614cd.jpg' moved to price_folder.\n"
     ]
    },
    {
     "name": "stderr",
     "output_type": "stream",
     "text": [
      "Processing images:  89%|████████▉ | 8/9 [00:10<00:01,  1.22s/it]"
     ]
    },
    {
     "name": "stdout",
     "output_type": "stream",
     "text": [
      "Image '66fdf474Fdc21a0a5_2309284460014978.jpg' moved to price_folder.\n"
     ]
    },
    {
     "name": "stderr",
     "output_type": "stream",
     "text": [
      "Processing images: 100%|██████████| 9/9 [00:10<00:00,  1.20s/it]\n"
     ]
    },
    {
     "name": "stdout",
     "output_type": "stream",
     "text": [
      "Image '66fdf477F433fd5ea_63bedc58894e55ba.jpg' moved to price_folder.\n",
      "Step 2: 筛选白底图\n"
     ]
    },
    {
     "name": "stderr",
     "output_type": "stream",
     "text": [
      "Processing images: 100%|██████████| 5/5 [00:00<00:00, 45.71it/s]\n"
     ]
    },
    {
     "name": "stdout",
     "output_type": "stream",
     "text": [
      "Step 3: 筛选功能卖点图\n"
     ]
    },
    {
     "name": "stderr",
     "output_type": "stream",
     "text": [
      "处理图片: 100%|██████████| 5/5 [00:06<00:00,  1.28s/it]\n"
     ]
    },
    {
     "name": "stdout",
     "output_type": "stream",
     "text": [
      "Step 4: 归类图片到scene\n",
      "Processing subfolder: D://code//data//Lv2期结论//京喜_from_0501//筛选\\760\n",
      "Step 1: 筛选价促卖点图\n"
     ]
    },
    {
     "name": "stderr",
     "output_type": "stream",
     "text": [
      "Processing images:  10%|█         | 1/10 [00:01<00:12,  1.42s/it]"
     ]
    },
    {
     "name": "stdout",
     "output_type": "stream",
     "text": [
      "Image '66ab7933F26a0ed92_0d16b5d98ed62183.jpg' moved to price_folder.\n"
     ]
    },
    {
     "name": "stderr",
     "output_type": "stream",
     "text": [
      "Processing images:  20%|██        | 2/10 [00:02<00:09,  1.17s/it]"
     ]
    },
    {
     "name": "stdout",
     "output_type": "stream",
     "text": [
      "Image '66ab7a01F2564811b_3cb57479322bdb97.jpg' moved to price_folder.\n"
     ]
    },
    {
     "name": "stderr",
     "output_type": "stream",
     "text": [
      "Processing images:  30%|███       | 3/10 [00:04<00:10,  1.50s/it]"
     ]
    },
    {
     "name": "stdout",
     "output_type": "stream",
     "text": [
      "Image '66b5c77bFbc7483d9_5049bfbc1811ab01.jpg' moved to price_folder.\n"
     ]
    },
    {
     "name": "stderr",
     "output_type": "stream",
     "text": [
      "Processing images: 100%|██████████| 10/10 [00:14<00:00,  1.43s/it]\n"
     ]
    },
    {
     "name": "stdout",
     "output_type": "stream",
     "text": [
      "Step 2: 筛选白底图\n"
     ]
    },
    {
     "name": "stderr",
     "output_type": "stream",
     "text": [
      "Processing images: 100%|██████████| 7/7 [00:00<00:00, 40.71it/s]\n"
     ]
    },
    {
     "name": "stdout",
     "output_type": "stream",
     "text": [
      "Step 3: 筛选功能卖点图\n"
     ]
    },
    {
     "name": "stderr",
     "output_type": "stream",
     "text": [
      "处理图片: 100%|██████████| 7/7 [00:08<00:00,  1.23s/it]\n"
     ]
    },
    {
     "name": "stdout",
     "output_type": "stream",
     "text": [
      "Step 4: 归类图片到scene\n",
      "Processing subfolder: D://code//data//Lv2期结论//京喜_from_0501//筛选\\9435\n",
      "Step 1: 筛选价促卖点图\n"
     ]
    },
    {
     "name": "stderr",
     "output_type": "stream",
     "text": [
      "Processing images:  90%|█████████ | 47/52 [00:51<00:07,  1.49s/it]"
     ]
    },
    {
     "name": "stdout",
     "output_type": "stream",
     "text": [
      "Image '66fc2a72Fdb7a5c09_f4f18101d9093313.jpg' moved to price_folder.\n"
     ]
    },
    {
     "name": "stderr",
     "output_type": "stream",
     "text": [
      "Processing images:  92%|█████████▏| 48/52 [00:52<00:05,  1.49s/it]"
     ]
    },
    {
     "name": "stdout",
     "output_type": "stream",
     "text": [
      "Image 'price_66dabd3eF385d2a7b_e9991f104e0bc474.jpg' moved to price_folder.\n"
     ]
    },
    {
     "name": "stderr",
     "output_type": "stream",
     "text": [
      "Processing images: 100%|██████████| 52/52 [00:55<00:00,  1.07s/it]\n"
     ]
    },
    {
     "name": "stdout",
     "output_type": "stream",
     "text": [
      "Step 2: 筛选白底图\n"
     ]
    },
    {
     "name": "stderr",
     "output_type": "stream",
     "text": [
      "Processing images: 100%|██████████| 50/50 [00:00<00:00, 51.68it/s]\n"
     ]
    },
    {
     "name": "stdout",
     "output_type": "stream",
     "text": [
      "Image 'txt_66a31361Fbde32b32_605bb2a64671ac99.jpg' moved to white_folder.\n",
      "Image 'txt_67059235F9e0ab800_1bd91d8435264cde.jpg' moved to white_folder.\n",
      "Step 3: 筛选功能卖点图\n"
     ]
    },
    {
     "name": "stderr",
     "output_type": "stream",
     "text": [
      "处理图片: 100%|██████████| 48/48 [00:47<00:00,  1.01it/s]\n"
     ]
    },
    {
     "name": "stdout",
     "output_type": "stream",
     "text": [
      "Step 4: 归类图片到scene\n",
      "Processing subfolder: D://code//data//Lv2期结论//京喜_from_0501//筛选\\9775\n",
      "Step 1: 筛选价促卖点图\n"
     ]
    },
    {
     "name": "stderr",
     "output_type": "stream",
     "text": [
      "Processing images:   2%|▏         | 3/137 [00:03<02:35,  1.16s/it]"
     ]
    },
    {
     "name": "stdout",
     "output_type": "stream",
     "text": [
      "Image '6674edc6Fa818658f_1c3e9d15a218bdaa.jpg' moved to price_folder.\n"
     ]
    },
    {
     "name": "stderr",
     "output_type": "stream",
     "text": [
      "Processing images:   3%|▎         | 4/137 [00:04<02:15,  1.02s/it]"
     ]
    },
    {
     "name": "stdout",
     "output_type": "stream",
     "text": [
      "Image '6674edc8Fc00100ca_9750a6d5ba48a475.jpg' moved to price_folder.\n"
     ]
    },
    {
     "name": "stderr",
     "output_type": "stream",
     "text": [
      "Processing images:   4%|▎         | 5/137 [00:05<02:27,  1.11s/it]"
     ]
    },
    {
     "name": "stdout",
     "output_type": "stream",
     "text": [
      "Image '6674edd7F279f98a8_1cb6b51f05ed016a.jpg' moved to price_folder.\n"
     ]
    },
    {
     "name": "stderr",
     "output_type": "stream",
     "text": [
      "Processing images:   4%|▍         | 6/137 [00:06<01:58,  1.10it/s]"
     ]
    },
    {
     "name": "stdout",
     "output_type": "stream",
     "text": [
      "Image '6674edd8Fcea11cc4_d636fedcd752e7e8.jpg' moved to price_folder.\n"
     ]
    },
    {
     "name": "stderr",
     "output_type": "stream",
     "text": [
      "Processing images:   5%|▌         | 7/137 [00:06<01:40,  1.29it/s]"
     ]
    },
    {
     "name": "stdout",
     "output_type": "stream",
     "text": [
      "Image '6674eddeFd62a63e4_806ad4977b148fb9.jpg' moved to price_folder.\n"
     ]
    },
    {
     "name": "stderr",
     "output_type": "stream",
     "text": [
      "Processing images:   8%|▊         | 11/137 [00:10<01:54,  1.10it/s]"
     ]
    },
    {
     "name": "stdout",
     "output_type": "stream",
     "text": [
      "Image '667aa9fbF12c54d4a_f7e48fbaa88c4c60.jpg' moved to price_folder.\n"
     ]
    },
    {
     "name": "stderr",
     "output_type": "stream",
     "text": [
      "Processing images:   9%|▉         | 12/137 [00:12<02:01,  1.03it/s]"
     ]
    },
    {
     "name": "stdout",
     "output_type": "stream",
     "text": [
      "Image '667aa9fbF93619811_e223454098e5e3bb.jpg' moved to price_folder.\n"
     ]
    },
    {
     "name": "stderr",
     "output_type": "stream",
     "text": [
      "Processing images:  14%|█▍        | 19/137 [00:16<01:35,  1.24it/s]"
     ]
    },
    {
     "name": "stdout",
     "output_type": "stream",
     "text": [
      "Image '667e8b27F1b3f118e_5b8fb6912beb13ad.jpg' moved to price_folder.\n"
     ]
    },
    {
     "name": "stderr",
     "output_type": "stream",
     "text": [
      "Processing images:  16%|█▌        | 22/137 [00:18<01:22,  1.40it/s]"
     ]
    },
    {
     "name": "stdout",
     "output_type": "stream",
     "text": [
      "Image '667e8b2bFc7221f6b_1025d18b543fdb57.jpg' moved to price_folder.\n"
     ]
    },
    {
     "name": "stderr",
     "output_type": "stream",
     "text": [
      "Processing images:  17%|█▋        | 23/137 [00:19<01:30,  1.26it/s]"
     ]
    },
    {
     "name": "stdout",
     "output_type": "stream",
     "text": [
      "Image '667e8b2fF5b07b911_1e8e3b4def77989c.jpg' moved to price_folder.\n"
     ]
    },
    {
     "name": "stderr",
     "output_type": "stream",
     "text": [
      "Processing images:  18%|█▊        | 25/137 [00:20<01:15,  1.48it/s]"
     ]
    },
    {
     "name": "stdout",
     "output_type": "stream",
     "text": [
      "Image '66852aebF413c7823_609a2957fe685a06.jpg' moved to price_folder.\n"
     ]
    },
    {
     "name": "stderr",
     "output_type": "stream",
     "text": [
      "Processing images:  19%|█▉        | 26/137 [00:21<01:11,  1.55it/s]"
     ]
    },
    {
     "name": "stdout",
     "output_type": "stream",
     "text": [
      "Image '66852aecFd693dd1c_b3d7f346652b0b65.jpg' moved to price_folder.\n"
     ]
    },
    {
     "name": "stderr",
     "output_type": "stream",
     "text": [
      "Processing images:  22%|██▏       | 30/137 [00:25<01:36,  1.11it/s]"
     ]
    },
    {
     "name": "stdout",
     "output_type": "stream",
     "text": [
      "Image '66877b88Fbd761668_c49be7b237c3e946.jpg' moved to price_folder.\n"
     ]
    },
    {
     "name": "stderr",
     "output_type": "stream",
     "text": [
      "Processing images:  23%|██▎       | 31/137 [00:26<01:45,  1.00it/s]"
     ]
    },
    {
     "name": "stdout",
     "output_type": "stream",
     "text": [
      "Image '66877b89F90a2cf3c_132b41a041c8f366.jpg' moved to price_folder.\n"
     ]
    },
    {
     "name": "stderr",
     "output_type": "stream",
     "text": [
      "Processing images:  24%|██▍       | 33/137 [00:27<01:27,  1.18it/s]"
     ]
    },
    {
     "name": "stdout",
     "output_type": "stream",
     "text": [
      "Image '66877b8fFb6de4552_b8a9d059294c1d28.jpg' moved to price_folder.\n"
     ]
    },
    {
     "name": "stderr",
     "output_type": "stream",
     "text": [
      "Processing images:  29%|██▉       | 40/137 [00:32<01:12,  1.34it/s]"
     ]
    },
    {
     "name": "stdout",
     "output_type": "stream",
     "text": [
      "Image '669101f4F9bc93eb4_6bee6caf565df1cd.jpg' moved to price_folder.\n"
     ]
    },
    {
     "name": "stderr",
     "output_type": "stream",
     "text": [
      "Processing images:  34%|███▎      | 46/137 [00:36<00:50,  1.80it/s]"
     ]
    },
    {
     "name": "stdout",
     "output_type": "stream",
     "text": [
      "Image '66a30f1cF12e49409_cf1862dd678c08b5.jpg' moved to price_folder.\n"
     ]
    },
    {
     "name": "stderr",
     "output_type": "stream",
     "text": [
      "Processing images:  34%|███▍      | 47/137 [00:38<01:30,  1.01s/it]"
     ]
    },
    {
     "name": "stdout",
     "output_type": "stream",
     "text": [
      "Image '66a30f29F9234357a_3f90920b343c051b.jpg' moved to price_folder.\n"
     ]
    },
    {
     "name": "stderr",
     "output_type": "stream",
     "text": [
      "Processing images:  35%|███▌      | 48/137 [00:39<01:38,  1.11s/it]"
     ]
    },
    {
     "name": "stdout",
     "output_type": "stream",
     "text": [
      "Image '66a30f2bF17a0fa53_39ea51209c11ae9d.jpg' moved to price_folder.\n"
     ]
    },
    {
     "name": "stderr",
     "output_type": "stream",
     "text": [
      "Processing images:  39%|███▉      | 54/137 [00:45<01:29,  1.08s/it]"
     ]
    },
    {
     "name": "stdout",
     "output_type": "stream",
     "text": [
      "Image '66ab7666Ff5880e11_deb459360680ef12.jpg' moved to price_folder.\n"
     ]
    },
    {
     "name": "stderr",
     "output_type": "stream",
     "text": [
      "Processing images:  44%|████▍     | 60/137 [00:52<01:48,  1.41s/it]"
     ]
    },
    {
     "name": "stdout",
     "output_type": "stream",
     "text": [
      "Image '66b5c2d6Ff0e63318_7aa1fe59a9037635.jpg' moved to price_folder.\n"
     ]
    },
    {
     "name": "stderr",
     "output_type": "stream",
     "text": [
      "Processing images: 100%|██████████| 137/137 [01:42<00:00,  1.33it/s]\n"
     ]
    },
    {
     "name": "stdout",
     "output_type": "stream",
     "text": [
      "Step 2: 筛选白底图\n"
     ]
    },
    {
     "name": "stderr",
     "output_type": "stream",
     "text": [
      "Processing images: 100%|██████████| 116/116 [00:02<00:00, 57.96it/s]\n"
     ]
    },
    {
     "name": "stdout",
     "output_type": "stream",
     "text": [
      "Image 'txt_66dabc9dFa1a739ad_f11e9c800a6f52f4.jpg' moved to white_folder.\n",
      "Step 3: 筛选功能卖点图\n"
     ]
    },
    {
     "name": "stderr",
     "output_type": "stream",
     "text": [
      "处理图片: 100%|██████████| 115/115 [01:14<00:00,  1.54it/s]"
     ]
    },
    {
     "name": "stdout",
     "output_type": "stream",
     "text": [
      "Step 4: 归类图片到scene\n",
      "Processing subfolder: D://code//data//Lv2期结论//京喜_from_0501//筛选\\饼图数据\n",
      "All processing completed.\n",
      "完成时间: 2024-10-18 10:32:57.137667\n"
     ]
    },
    {
     "name": "stderr",
     "output_type": "stream",
     "text": [
      "\n"
     ]
    }
   ],
   "source": [
    "import os\n",
    "import shutil\n",
    "from PIL import Image\n",
    "from paddleocr import PaddleOCR\n",
    "from tqdm import tqdm\n",
    "from datetime import datetime\n",
    "import math\n",
    "import time\n",
    "import numpy as np\n",
    "import pandas as pd\n",
    "import numpy as np\n",
    "from PIL import Image, ImageDraw\n",
    "from tqdm import tqdm\n",
    "import os\n",
    "import shutil\n",
    "import gc\n",
    "\n",
    "\n",
    "\n",
    "# 定义基础路径\n",
    "base_path = 'D://code//data//Lv2期结论//京喜_from_0501//筛选'\n",
    "\n",
    "# 初始化 PaddleOCR\n",
    "ocr = PaddleOCR(use_angle_cls=True, lang=\"ch\", show_log=False)\n",
    "\n",
    "def process_subfolder(subfolder_path):\n",
    "    grounding_output_path = os.path.join(subfolder_path, 'grounding_output')\n",
    "    if not os.path.exists(grounding_output_path):\n",
    "        # print(f\"No grounding_output folder in {subfolder_path}\")\n",
    "        return\n",
    "\n",
    "    # 创建分类文件夹\n",
    "    price_folder = os.path.join(grounding_output_path, 'price')\n",
    "    txt_folder = os.path.join(grounding_output_path, 'txt')\n",
    "    scene_folder = os.path.join(grounding_output_path, 'scene')\n",
    "    white_folder = os.path.join(grounding_output_path, 'white')\n",
    "\n",
    "    for folder in [price_folder, txt_folder, scene_folder, white_folder]:\n",
    "        if not os.path.exists(folder):\n",
    "            os.makedirs(folder)\n",
    "\n",
    "    # 获取所有图片文件\n",
    "    image_files = [f for f in os.listdir(grounding_output_path) if f.endswith(('.jpg', '.png'))]\n",
    "\n",
    "    # Step 1: 筛选价促卖点图\n",
    "    print('Step 1: 筛选价促卖点图')\n",
    "    with tqdm(total=len(image_files), desc=\"Processing images\") as pbar:\n",
    "        for filename in image_files:\n",
    "            img_path = os.path.join(grounding_output_path, filename)\n",
    "            \n",
    "            result = ocr.ocr(img_path, cls=True)\n",
    "            \n",
    "            if not result:\n",
    "                pbar.update(1)\n",
    "                continue\n",
    "            \n",
    "            data_list = result[0]\n",
    "            \n",
    "            keywords = ['满', '减', '到手价', '送', '免息', '活动价', '包邮价', '参考价', \n",
    "                        r'.*满.*减.*', r'.*满.*-.*', r'.*满.*赠.*',r'.*满.*送.*', r'.*价.*', \n",
    "                        '券', '优惠', '用券', '领券', '券', '送', '低至', '立减', '直降', '免息',\n",
    "                        '¥', '夫', '￥','分钱']\n",
    "            \n",
    "            # 忽略“京喜自营”和“包邮”\n",
    "            ignored_keywords = ['京喜自营', '包邮']\n",
    "            filtered_data_list = [data for data in data_list if all(keyword not in data[1][0] for keyword in ignored_keywords)]\n",
    "            \n",
    "            contains_keyword = any(any(keyword in data[1][0] for keyword in keywords) for data in filtered_data_list)\n",
    "            \n",
    "            if contains_keyword:\n",
    "                try:\n",
    "                    shutil.move(img_path, price_folder)\n",
    "                    pbar.write(f\"Image '{filename}' moved to price_folder.\")\n",
    "                except Exception as e:\n",
    "                    pbar.write(f\"Failed to move image '{filename}': {e}\")\n",
    "            \n",
    "            pbar.update(1)\n",
    "\n",
    "    # 更新图片文件列表，排除已移动的文件\n",
    "    image_files = [f for f in os.listdir(grounding_output_path) if f.endswith(('.jpg', '.png'))]\n",
    "\n",
    "    # Step 2: 筛选白底图\n",
    "    print('Step 2: 筛选白底图')\n",
    "    with tqdm(total=len(image_files), desc=\"Processing images\") as pbar:\n",
    "        for filename in image_files:\n",
    "            img_path = os.path.join(grounding_output_path, filename)\n",
    "            \n",
    "            img = Image.open(img_path)\n",
    "            img_np = np.array(img)\n",
    "\n",
    "            # 计算图片中白色像素的比例\n",
    "            white_pixels = np.sum(np.all(img_np >= [240, 240, 240], axis=2))\n",
    "            total_pixels = img_np.shape[0] * img_np.shape[1]\n",
    "            white_pixels_ratio = white_pixels / total_pixels\n",
    "\n",
    "            if white_pixels_ratio >= 0.40:\n",
    "                try:\n",
    "                    shutil.move(img_path, white_folder)\n",
    "                    pbar.write(f\"Image '{filename}' moved to white_folder.\")\n",
    "                except Exception as e:\n",
    "                    pbar.write(f\"Failed to move image '{filename}': {e}\")\n",
    "            \n",
    "            pbar.update(1)\n",
    "\n",
    "    # 更新图片文件列表，排除已移动的文件\n",
    "    image_files = [f for f in os.listdir(grounding_output_path) if f.endswith(('.jpg', '.png'))]\n",
    "\n",
    "    # Step 3: 筛选功能卖点图\n",
    "    print('Step 3: 筛选功能卖点图')\n",
    "    with tqdm(total=len(image_files), desc=\"处理图片\") as pbar:\n",
    "        for filename in image_files:\n",
    "            img_path = os.path.join(grounding_output_path, filename)\n",
    "            \n",
    "            # 打开图片\n",
    "            img = Image.open(img_path)\n",
    "            width, height = img.size\n",
    "            \n",
    "            # 创建一个与原图大小相同的掩码\n",
    "            mask = Image.new('L', (width, height), 255)\n",
    "            draw = ImageDraw.Draw(mask)\n",
    "            \n",
    "            # 在左下角绘制一个黑色矩形（高200，宽150）\n",
    "            draw.rectangle([0, height-200, 150, height], fill=0)\n",
    "            \n",
    "            # 将掩码应用到图片上\n",
    "            img_masked = Image.composite(img, Image.new('RGB', img.size, (255, 255, 255)), mask)\n",
    "            \n",
    "            # 裁剪图片上部1/6\n",
    "            cropped_img = img_masked.crop((0, height // 6, width, height))\n",
    "            \n",
    "            # 转换为numpy数组\n",
    "            img_np = np.array(cropped_img)\n",
    "            \n",
    "            # 进行OCR识别\n",
    "            result = ocr.ocr(img_np, cls=True)\n",
    "            \n",
    "            if result is None or result[0] is None:\n",
    "                pbar.update(1)\n",
    "                continue\n",
    "            \n",
    "            # 忽略\"京喜自营\"和\"包邮\"\n",
    "            ignored_keywords = ['京喜自营', '包邮']\n",
    "            filtered_data_list = [data for data in result[0] if all(keyword not in data[1][0] for keyword in ignored_keywords)]\n",
    "            \n",
    "            rectangles_with_text = filtered_data_list\n",
    "            line_count = len(rectangles_with_text)\n",
    "            \n",
    "            if line_count > 0:\n",
    "                shutil.move(img_path, txt_folder)\n",
    "                # pbar.write(f\"'{filename}' 已移动到 txt 文件夹。\")\n",
    "            else:\n",
    "                # pbar.write(f\"'{filename}' 保留在源文件夹。\")\n",
    "                continue\n",
    "            \n",
    "            pbar.update(1)\n",
    "            gc.collect()\n",
    "\n",
    "\n",
    "    # Step 4: 将剩余图片归类到scene\n",
    "    print('Step 4: 归类图片到scene')\n",
    "    image_files = [f for f in os.listdir(grounding_output_path) if f.endswith(('.jpg', '.png'))]\n",
    "    for filename in image_files:\n",
    "        img_path = os.path.join(grounding_output_path, filename)\n",
    "        shutil.move(img_path, scene_folder)\n",
    "        # print(f\"Image '{filename}' moved to scene_folder.\")\n",
    "\n",
    "\n",
    "# 主程序\n",
    "subfolders = [f.path for f in os.scandir(base_path) if f.is_dir()]\n",
    "\n",
    "for subfolder in subfolders:\n",
    "    print(f\"Processing subfolder: {subfolder}\")\n",
    "    process_subfolder(subfolder)\n",
    "\n",
    "print('All processing completed.')\n",
    "\n",
    "# 获取当前时间\n",
    "current_time = datetime.now()\n",
    "print(\"完成时间:\", current_time)\n",
    "\n",
    "\n"
   ]
  },
  {
   "cell_type": "code",
   "execution_count": null,
   "metadata": {},
   "outputs": [],
   "source": [
    "# # 这一步是针对京喜场景补充的,因为它里面图片包含\"京喜自营\"字样,所以要在分类完成之后,再补充一步,把白底图重新清理回去\n",
    "\n",
    "\n",
    "# import os\n",
    "# import shutil\n",
    "# from PIL import Image\n",
    "# import numpy as np\n",
    "\n",
    "# def is_mostly_white(image_path, threshold=0.4, white_threshold=240):\n",
    "#     try:\n",
    "#         with Image.open(image_path) as img:\n",
    "#             # 确保图像是RGB模式\n",
    "#             img = img.convert('RGB')\n",
    "#             # 转换为numpy数组\n",
    "#             img_array = np.array(img)\n",
    "#             # 计算白色像素（RGB值都大于white_threshold的像素视为白色）\n",
    "#             white_pixels = np.all(img_array > white_threshold, axis=2)\n",
    "#             white_count = np.sum(white_pixels)\n",
    "#             total_pixels = img_array.shape[0] * img_array.shape[1]\n",
    "#             white_ratio = white_count / total_pixels\n",
    "#             return white_ratio > threshold\n",
    "#     except Exception as e:\n",
    "#         print(f\"处理图像 {image_path} 时出错: {str(e)}\")\n",
    "#         return False\n",
    "\n",
    "# def process_folder(root_folder):\n",
    "#     for dirpath, dirnames, filenames in os.walk(root_folder):\n",
    "#         if os.path.basename(dirpath) == 'grounding_output':\n",
    "#             for subfolder in ['txt', 'scene', 'price']:\n",
    "#                 subfolder_path = os.path.join(dirpath, subfolder)\n",
    "#                 if os.path.exists(subfolder_path):\n",
    "#                     white_folder = os.path.join(dirpath, 'white')\n",
    "#                     if not os.path.exists(white_folder):\n",
    "#                         os.makedirs(white_folder)\n",
    "                    \n",
    "#                     for filename in os.listdir(subfolder_path):\n",
    "#                         file_path = os.path.join(subfolder_path, filename)\n",
    "#                         if os.path.isfile(file_path) and filename.lower().endswith(('.png', '.jpg', '.jpeg', '.bmp', '.gif')):\n",
    "#                             if is_mostly_white(file_path):\n",
    "#                                 new_path = os.path.join(white_folder, f\"{subfolder}_{filename}\")\n",
    "#                                 shutil.move(file_path, new_path)\n",
    "#                                 print(f\"已移动 {file_path} 到 {new_path}\")\n",
    "\n",
    "# # 使用示例\n",
    "# root_folder = \"D://code//data//Lv2期结论//京喜_from_0501//筛选\"\n",
    "# process_folder(root_folder)\n",
    "\n",
    "\n"
   ]
  },
  {
   "cell_type": "markdown",
   "metadata": {},
   "source": [
    "# step2 - 对四分类的数据总结"
   ]
  },
  {
   "cell_type": "code",
   "execution_count": null,
   "metadata": {},
   "outputs": [],
   "source": [
    "# import os\n",
    "# import pandas as pd\n",
    "# from tqdm import tqdm\n",
    "# import matplotlib.pyplot as plt\n",
    "\n",
    "# # 定义基础路径和CSV文件路径\n",
    "# base_path = 'D://code//data//Lv2期结论//京喜_from_0501//筛选'\n",
    "# csv_file_path = 'D://code//data//Lv2期结论//京喜_from_0501//京喜数据_from_0501_筛选.csv'\n",
    "\n",
    "# # 读取CSV文件\n",
    "# df = pd.read_csv(csv_file_path)\n",
    "\n",
    "# def extract_matching_part(img_url):\n",
    "#     if pd.isna(img_url):\n",
    "#         return None\n",
    "#     img_url = img_url.split('?')[0]\n",
    "#     img_url = os.path.splitext(img_url)[0]\n",
    "#     parts = img_url.split('/')\n",
    "#     if len(parts) >= 2:\n",
    "#         return f\"{parts[-2]}_{parts[-1]}\"\n",
    "#     return None\n",
    "\n",
    "# df['matching_part'] = df['img_url'].apply(extract_matching_part)\n",
    "\n",
    "# def process_grounding_folder(grounding_path):\n",
    "#     folder_stats = {\n",
    "#         'price': {'count': 0, 'uv': 0, 'click_uv': 0},\n",
    "#         'txt': {'count': 0, 'uv': 0, 'click_uv': 0},\n",
    "#         'scene': {'count': 0, 'uv': 0, 'click_uv': 0},\n",
    "#         'white': {'count': 0, 'uv': 0, 'click_uv': 0}\n",
    "#     }\n",
    "\n",
    "#     for folder_name in ['price', 'txt', 'scene', 'white']:\n",
    "#         folder_path = os.path.join(grounding_path, folder_name)\n",
    "#         if os.path.exists(folder_path):\n",
    "#             for filename in os.listdir(folder_path):\n",
    "#                 if filename.lower().endswith(('.png', '.jpg', '.jpeg', '.gif', '.bmp')):\n",
    "#                     filename_without_ext = os.path.splitext(filename)[0]\n",
    "#                     filtered_df = df[df['matching_part'] == filename_without_ext]\n",
    "#                     if not filtered_df.empty:\n",
    "#                         folder_stats[folder_name]['count'] += 1\n",
    "#                         folder_stats[folder_name]['uv'] += filtered_df['uv'].sum()\n",
    "#                         folder_stats[folder_name]['click_uv'] += filtered_df['click_uv'].sum()\n",
    "\n",
    "#     return folder_stats\n",
    "\n",
    "# all_stats = {}\n",
    "\n",
    "# for root, dirs, files in os.walk(base_path):\n",
    "#     if 'grounding_output' in dirs:\n",
    "#         grounding_path = os.path.join(root, 'grounding_output')\n",
    "#         folder_name = os.path.basename(root)\n",
    "#         stats = process_grounding_folder(grounding_path)\n",
    "#         all_stats[folder_name] = stats\n",
    "\n",
    "# # 输出统计结果\n",
    "# for folder, stats in all_stats.items():\n",
    "#     print(f\"\\n统计结果 for {folder}:\")\n",
    "#     for subfolder, data in stats.items():\n",
    "#         if data['count'] > 0:\n",
    "#             ctr = data['click_uv'] / data['uv'] if data['uv'] > 0 else 0\n",
    "#             print(f\"  {subfolder}: 图片数量 = {data['count']}, UV = {data['uv']}, Click UV = {data['click_uv']}, CTR = {ctr:.4f}\")\n",
    "\n",
    "# # 绘制每个grounding_output文件夹的饼图\n",
    "# for folder, stats in all_stats.items():\n",
    "#     counts = [data['count'] for data in stats.values() if data['count'] > 0]\n",
    "#     labels = [subfolder for subfolder, data in stats.items() if data['count'] > 0]\n",
    "    \n",
    "#     if counts:  # 只有当有数据时才绘图\n",
    "#         plt.figure(figsize=(12, 9))\n",
    "#         wedges, texts, autotexts = plt.pie(counts, labels=labels, autopct='%1.1f%%', startangle=90)\n",
    "        \n",
    "#         # 添加数量标签\n",
    "#         for i, autotext in enumerate(autotexts):\n",
    "#             autotext.set_text(f'{autotext.get_text()}\\n({counts[i]})')\n",
    "        \n",
    "#         plt.title(f\"Image Distribution in {folder}\")\n",
    "#         plt.axis('equal')\n",
    "        \n",
    "#         # 添加图例\n",
    "#         plt.legend(wedges, [f\"{label} ({count})\" for label, count in zip(labels, counts)],\n",
    "#                    title=\"Categories\", loc=\"center left\", bbox_to_anchor=(1, 0, 0.5, 1))\n",
    "        \n",
    "#         output_chart_path = os.path.join(base_path, f'{folder}_distribution.png')\n",
    "#         plt.savefig(output_chart_path, bbox_inches='tight')\n",
    "#         plt.close()\n",
    "#         print(f\"饼图已保存至: {output_chart_path}\")\n",
    "\n",
    "# # 绘制总体分布饼图\n",
    "# total_counts = [data['count'] for data in total_stats.values() if data['count'] > 0]\n",
    "# total_labels = [subfolder for subfolder, data in total_stats.items() if data['count'] > 0]\n",
    "\n",
    "# if total_counts:\n",
    "#     plt.figure(figsize=(12, 9))\n",
    "#     wedges, texts, autotexts = plt.pie(total_counts, labels=total_labels, autopct='%1.1f%%', startangle=90)\n",
    "    \n",
    "#     # 添加数量标签\n",
    "#     for i, autotext in enumerate(autotexts):\n",
    "#         autotext.set_text(f'{autotext.get_text()}\\n({total_counts[i]})')\n",
    "    \n",
    "#     plt.title(\"Overall Image Distribution\")\n",
    "#     plt.axis('equal')\n",
    "    \n",
    "#     # 添加图例\n",
    "#     plt.legend(wedges, [f\"{label} ({count})\" for label, count in zip(total_labels, total_counts)],\n",
    "#                title=\"Categories\", loc=\"center left\", bbox_to_anchor=(1, 0, 0.5, 1))\n",
    "    \n",
    "#     output_chart_path = os.path.join(base_path, 'overall_distribution.png')\n",
    "#     plt.savefig(output_chart_path, bbox_inches='tight')\n",
    "#     plt.close()\n",
    "#     print(f\"总体分布饼图已保存至: {output_chart_path}\")\n",
    "\n",
    "\n",
    "    "
   ]
  },
  {
   "cell_type": "code",
   "execution_count": null,
   "metadata": {},
   "outputs": [
    {
     "name": "stdout",
     "output_type": "stream",
     "text": [
      "\n",
      "统计结果 for 1047:\n",
      "  txt: 图片数量 = 32, UV = 21486, Click UV = 707, CTR = 0.0329\n",
      "\n",
      "统计结果 for 12010:\n",
      "  price: 图片数量 = 3, UV = 568, Click UV = 21, CTR = 0.0370\n",
      "  txt: 图片数量 = 75, UV = 40107, Click UV = 1540, CTR = 0.0384\n",
      "  scene: 图片数量 = 3, UV = 870, Click UV = 45, CTR = 0.0517\n",
      "\n",
      "统计结果 for 12811:\n",
      "  txt: 图片数量 = 30, UV = 30234, Click UV = 779, CTR = 0.0258\n",
      "  scene: 图片数量 = 3, UV = 12573, Click UV = 207, CTR = 0.0165\n",
      "\n",
      "统计结果 for 1349:\n",
      "  price: 图片数量 = 9, UV = 771, Click UV = 34, CTR = 0.0441\n",
      "  txt: 图片数量 = 130, UV = 108447, Click UV = 3098, CTR = 0.0286\n",
      "  scene: 图片数量 = 98, UV = 24358, Click UV = 684, CTR = 0.0281\n",
      "\n",
      "统计结果 for 1355:\n",
      "  txt: 图片数量 = 128, UV = 112015, Click UV = 2392, CTR = 0.0214\n",
      "  scene: 图片数量 = 153, UV = 65909, Click UV = 1497, CTR = 0.0227\n",
      "\n",
      "统计结果 for 13661:\n",
      "  price: 图片数量 = 9, UV = 32210, Click UV = 916, CTR = 0.0284\n",
      "  txt: 图片数量 = 41, UV = 98039, Click UV = 3535, CTR = 0.0361\n",
      "  scene: 图片数量 = 1, UV = 28, Click UV = 3, CTR = 0.1071\n",
      "\n",
      "统计结果 for 1476:\n",
      "  txt: 图片数量 = 16, UV = 51538, Click UV = 1718, CTR = 0.0333\n",
      "  scene: 图片数量 = 1, UV = 3399, Click UV = 78, CTR = 0.0229\n",
      "\n",
      "统计结果 for 15908:\n",
      "  price: 图片数量 = 11, UV = 108152, Click UV = 3626, CTR = 0.0335\n",
      "  txt: 图片数量 = 89, UV = 312657, Click UV = 6745, CTR = 0.0216\n",
      "\n",
      "统计结果 for 1656:\n",
      "  txt: 图片数量 = 55, UV = 134533, Click UV = 6734, CTR = 0.0501\n",
      "  scene: 图片数量 = 1, UV = 68, Click UV = 4, CTR = 0.0588\n",
      "\n",
      "统计结果 for 1657:\n",
      "  price: 图片数量 = 2, UV = 4462, Click UV = 244, CTR = 0.0547\n",
      "  txt: 图片数量 = 104, UV = 167340, Click UV = 9484, CTR = 0.0567\n",
      "  scene: 图片数量 = 9, UV = 34360, Click UV = 894, CTR = 0.0260\n",
      "\n",
      "统计结果 for 16777:\n",
      "  price: 图片数量 = 1, UV = 98, Click UV = 7, CTR = 0.0714\n",
      "  txt: 图片数量 = 113, UV = 85527, Click UV = 3277, CTR = 0.0383\n",
      "  scene: 图片数量 = 59, UV = 13655, Click UV = 667, CTR = 0.0488\n",
      "\n",
      "统计结果 for 34919:\n",
      "  price: 图片数量 = 9, UV = 3216, Click UV = 214, CTR = 0.0665\n",
      "  txt: 图片数量 = 49, UV = 107785, Click UV = 2610, CTR = 0.0242\n",
      "\n",
      "统计结果 for 35404:\n",
      "  price: 图片数量 = 5, UV = 2417, Click UV = 95, CTR = 0.0393\n",
      "  txt: 图片数量 = 101, UV = 79296, Click UV = 2012, CTR = 0.0254\n",
      "  scene: 图片数量 = 46, UV = 54242, Click UV = 1281, CTR = 0.0236\n",
      "\n",
      "统计结果 for 6191:\n",
      "  txt: 图片数量 = 20, UV = 7591, Click UV = 206, CTR = 0.0271\n",
      "  scene: 图片数量 = 15, UV = 12460, Click UV = 333, CTR = 0.0267\n",
      "\n",
      "统计结果 for 6221:\n",
      "  price: 图片数量 = 3, UV = 31398, Click UV = 714, CTR = 0.0227\n",
      "  txt: 图片数量 = 47, UV = 440774, Click UV = 12750, CTR = 0.0289\n",
      "  scene: 图片数量 = 10, UV = 49847, Click UV = 1525, CTR = 0.0306\n",
      "  white: 图片数量 = 1, UV = 302, Click UV = 6, CTR = 0.0199\n",
      "\n",
      "统计结果 for 739:\n",
      "  txt: 图片数量 = 29, UV = 72844, Click UV = 1182, CTR = 0.0162\n",
      "\n",
      "统计结果 for 753:\n",
      "  price: 图片数量 = 4, UV = 2740, Click UV = 128, CTR = 0.0467\n",
      "  txt: 图片数量 = 5, UV = 14109, Click UV = 733, CTR = 0.0520\n",
      "\n",
      "统计结果 for 760:\n",
      "  price: 图片数量 = 3, UV = 5941, Click UV = 217, CTR = 0.0365\n",
      "  txt: 图片数量 = 7, UV = 8255, Click UV = 485, CTR = 0.0588\n",
      "\n",
      "统计结果 for 9435:\n",
      "  price: 图片数量 = 1, UV = 21, Click UV = 6, CTR = 0.2857\n",
      "  txt: 图片数量 = 42, UV = 86657, Click UV = 1590, CTR = 0.0183\n",
      "  scene: 图片数量 = 4, UV = 1808, Click UV = 65, CTR = 0.0360\n",
      "\n",
      "统计结果 for 9775:\n",
      "  price: 图片数量 = 21, UV = 47743, Click UV = 1409, CTR = 0.0295\n",
      "  txt: 图片数量 = 75, UV = 226220, Click UV = 8065, CTR = 0.0357\n",
      "  scene: 图片数量 = 38, UV = 16597, Click UV = 499, CTR = 0.0301\n",
      "饼图已保存至: D://code//data//Lv2期结论//京喜_from_0501//筛选\\1047_distribution.png\n",
      "饼图已保存至: D://code//data//Lv2期结论//京喜_from_0501//筛选\\12010_distribution.png\n",
      "饼图已保存至: D://code//data//Lv2期结论//京喜_from_0501//筛选\\12811_distribution.png\n",
      "饼图已保存至: D://code//data//Lv2期结论//京喜_from_0501//筛选\\1349_distribution.png\n",
      "饼图已保存至: D://code//data//Lv2期结论//京喜_from_0501//筛选\\1355_distribution.png\n",
      "饼图已保存至: D://code//data//Lv2期结论//京喜_from_0501//筛选\\13661_distribution.png\n",
      "饼图已保存至: D://code//data//Lv2期结论//京喜_from_0501//筛选\\1476_distribution.png\n",
      "饼图已保存至: D://code//data//Lv2期结论//京喜_from_0501//筛选\\15908_distribution.png\n",
      "饼图已保存至: D://code//data//Lv2期结论//京喜_from_0501//筛选\\1656_distribution.png\n",
      "饼图已保存至: D://code//data//Lv2期结论//京喜_from_0501//筛选\\1657_distribution.png\n",
      "饼图已保存至: D://code//data//Lv2期结论//京喜_from_0501//筛选\\16777_distribution.png\n",
      "饼图已保存至: D://code//data//Lv2期结论//京喜_from_0501//筛选\\34919_distribution.png\n",
      "饼图已保存至: D://code//data//Lv2期结论//京喜_from_0501//筛选\\35404_distribution.png\n",
      "饼图已保存至: D://code//data//Lv2期结论//京喜_from_0501//筛选\\6191_distribution.png\n",
      "饼图已保存至: D://code//data//Lv2期结论//京喜_from_0501//筛选\\6221_distribution.png\n",
      "饼图已保存至: D://code//data//Lv2期结论//京喜_from_0501//筛选\\739_distribution.png\n",
      "饼图已保存至: D://code//data//Lv2期结论//京喜_from_0501//筛选\\753_distribution.png\n",
      "饼图已保存至: D://code//data//Lv2期结论//京喜_from_0501//筛选\\760_distribution.png\n",
      "饼图已保存至: D://code//data//Lv2期结论//京喜_from_0501//筛选\\9435_distribution.png\n",
      "饼图已保存至: D://code//data//Lv2期结论//京喜_from_0501//筛选\\9775_distribution.png\n"
     ]
    },
    {
     "ename": "NameError",
     "evalue": "name 'total_stats' is not defined",
     "output_type": "error",
     "traceback": [
      "\u001b[1;31m---------------------------------------------------------------------------\u001b[0m",
      "\u001b[1;31mNameError\u001b[0m                                 Traceback (most recent call last)",
      "Cell \u001b[1;32mIn[9], line 141\u001b[0m\n\u001b[0;32m    138\u001b[0m         row \u001b[38;5;241m+\u001b[39m\u001b[38;5;241m=\u001b[39m \u001b[38;5;241m15\u001b[39m  \u001b[38;5;66;03m# 为下一个文件夹的数据和图表留出空间\u001b[39;00m\n\u001b[0;32m    140\u001b[0m \u001b[38;5;66;03m# 绘制总体分布饼图\u001b[39;00m\n\u001b[1;32m--> 141\u001b[0m total_counts \u001b[38;5;241m=\u001b[39m [data[\u001b[38;5;124m'\u001b[39m\u001b[38;5;124mcount\u001b[39m\u001b[38;5;124m'\u001b[39m] \u001b[38;5;28;01mfor\u001b[39;00m data \u001b[38;5;129;01min\u001b[39;00m \u001b[43mtotal_stats\u001b[49m\u001b[38;5;241m.\u001b[39mvalues() \u001b[38;5;28;01mif\u001b[39;00m data[\u001b[38;5;124m'\u001b[39m\u001b[38;5;124mcount\u001b[39m\u001b[38;5;124m'\u001b[39m] \u001b[38;5;241m>\u001b[39m \u001b[38;5;241m0\u001b[39m]\n\u001b[0;32m    142\u001b[0m total_labels \u001b[38;5;241m=\u001b[39m [subfolder \u001b[38;5;28;01mfor\u001b[39;00m subfolder, data \u001b[38;5;129;01min\u001b[39;00m total_stats\u001b[38;5;241m.\u001b[39mitems() \u001b[38;5;28;01mif\u001b[39;00m data[\u001b[38;5;124m'\u001b[39m\u001b[38;5;124mcount\u001b[39m\u001b[38;5;124m'\u001b[39m] \u001b[38;5;241m>\u001b[39m \u001b[38;5;241m0\u001b[39m]\n\u001b[0;32m    143\u001b[0m total_ctrs \u001b[38;5;241m=\u001b[39m [data[\u001b[38;5;124m'\u001b[39m\u001b[38;5;124mclick_uv\u001b[39m\u001b[38;5;124m'\u001b[39m] \u001b[38;5;241m/\u001b[39m data[\u001b[38;5;124m'\u001b[39m\u001b[38;5;124muv\u001b[39m\u001b[38;5;124m'\u001b[39m] \u001b[38;5;28;01mif\u001b[39;00m data[\u001b[38;5;124m'\u001b[39m\u001b[38;5;124muv\u001b[39m\u001b[38;5;124m'\u001b[39m] \u001b[38;5;241m>\u001b[39m \u001b[38;5;241m0\u001b[39m \u001b[38;5;28;01melse\u001b[39;00m \u001b[38;5;241m0\u001b[39m \u001b[38;5;28;01mfor\u001b[39;00m data \u001b[38;5;129;01min\u001b[39;00m total_stats\u001b[38;5;241m.\u001b[39mvalues() \u001b[38;5;28;01mif\u001b[39;00m data[\u001b[38;5;124m'\u001b[39m\u001b[38;5;124mcount\u001b[39m\u001b[38;5;124m'\u001b[39m] \u001b[38;5;241m>\u001b[39m \u001b[38;5;241m0\u001b[39m]\n",
      "\u001b[1;31mNameError\u001b[0m: name 'total_stats' is not defined"
     ]
    }
   ],
   "source": [
    "# import os\n",
    "# import pandas as pd\n",
    "# from tqdm import tqdm\n",
    "# import matplotlib.pyplot as plt\n",
    "# import openpyxl\n",
    "# from openpyxl.drawing.image import Image as XLImage\n",
    "\n",
    "# # 定义基础路径和CSV文件路径\n",
    "# base_path = 'D://code//data//Lv2期结论//京喜_from_0501//筛选'\n",
    "# csv_file_path = 'D://code//data//Lv2期结论//京喜_from_0501//京喜数据_from_0501_筛选.csv'\n",
    "\n",
    "# # 读取CSV文件\n",
    "# df = pd.read_csv(csv_file_path)\n",
    "\n",
    "# def extract_matching_part(img_url):\n",
    "#     if pd.isna(img_url):\n",
    "#         return None\n",
    "#     img_url = img_url.split('?')[0]\n",
    "#     img_url = os.path.splitext(img_url)[0]\n",
    "#     parts = img_url.split('/')\n",
    "#     if len(parts) >= 2:\n",
    "#         return f\"{parts[-2]}_{parts[-1]}\"\n",
    "#     return None\n",
    "\n",
    "# df['matching_part'] = df['img_url'].apply(extract_matching_part)\n",
    "\n",
    "# def process_grounding_folder(grounding_path):\n",
    "#     folder_stats = {\n",
    "#         'price': {'count': 0, 'uv': 0, 'click_uv': 0},\n",
    "#         'txt': {'count': 0, 'uv': 0, 'click_uv': 0},\n",
    "#         'scene': {'count': 0, 'uv': 0, 'click_uv': 0},\n",
    "#         'white': {'count': 0, 'uv': 0, 'click_uv': 0}\n",
    "#     }\n",
    "\n",
    "#     for folder_name in ['price', 'txt', 'scene', 'white']:\n",
    "#         folder_path = os.path.join(grounding_path, folder_name)\n",
    "#         if os.path.exists(folder_path):\n",
    "#             for filename in os.listdir(folder_path):\n",
    "#                 if filename.lower().endswith(('.png', '.jpg', '.jpeg', '.gif', '.bmp')):\n",
    "#                     filename_without_ext = os.path.splitext(filename)[0]\n",
    "#                     filtered_df = df[df['matching_part'] == filename_without_ext]\n",
    "#                     if not filtered_df.empty:\n",
    "#                         folder_stats[folder_name]['count'] += 1\n",
    "#                         folder_stats[folder_name]['uv'] += filtered_df['uv'].sum()\n",
    "#                         folder_stats[folder_name]['click_uv'] += filtered_df['click_uv'].sum()\n",
    "\n",
    "#     # 计算每个文件夹的CTR\n",
    "#     for folder in folder_stats:\n",
    "#         if folder_stats[folder]['uv'] > 0:\n",
    "#             folder_stats[folder]['ctr'] = folder_stats[folder]['click_uv'] / folder_stats[folder]['uv']\n",
    "#         else:\n",
    "#             folder_stats[folder]['ctr'] = 0\n",
    "\n",
    "#     return folder_stats\n",
    "\n",
    "# all_stats = {}\n",
    "\n",
    "# for root, dirs, files in os.walk(base_path):\n",
    "#     if 'grounding_output' in dirs:\n",
    "#         grounding_path = os.path.join(root, 'grounding_output')\n",
    "#         folder_name = os.path.basename(root)\n",
    "#         stats = process_grounding_folder(grounding_path)\n",
    "#         all_stats[folder_name] = stats\n",
    "\n",
    "# # 创建一个Excel工作簿来保存结果\n",
    "# workbook = openpyxl.Workbook()\n",
    "# sheet = workbook.active\n",
    "# sheet.title = \"Image Distribution Stats\"\n",
    "\n",
    "# # 写入表头\n",
    "# headers = [\"Folder\", \"Subfolder\", \"Count\", \"UV\", \"Click UV\", \"CTR\"]\n",
    "# for col, header in enumerate(headers, start=1):\n",
    "#     sheet.cell(row=1, column=col, value=header)\n",
    "\n",
    "# row = 2  # 从第二行开始写入数据\n",
    "\n",
    "# # 输出统计结果\n",
    "# for folder, stats in all_stats.items():\n",
    "#     print(f\"\\n统计结果 for {folder}:\")\n",
    "#     for subfolder, data in stats.items():\n",
    "#         if data['count'] > 0:\n",
    "#             ctr = data['click_uv'] / data['uv'] if data['uv'] > 0 else 0\n",
    "#             print(f\"  {subfolder}: 图片数量 = {data['count']}, UV = {data['uv']}, Click UV = {data['click_uv']}, CTR = {ctr:.4f}\")\n",
    "\n",
    "\n",
    "# # 定义颜色映射\n",
    "# color_map = {\n",
    "#     'price': '#FF6B6B',  # 柔和的红色\n",
    "#     'txt': '#4ECDC4',    # 青绿色\n",
    "#     'scene': '#7986CB',  # 淡紫色\n",
    "#     'white': '#FFD93D'   # 明亮的黄色\n",
    "# }\n",
    "\n",
    "\n",
    "\n",
    "# # 绘制每个grounding_output文件夹的饼图并保存数据\n",
    "# for folder, stats in all_stats.items():\n",
    "#     counts = [data['count'] for data in stats.values() if data['count'] > 0]\n",
    "#     labels = [subfolder for subfolder, data in stats.items() if data['count'] > 0]\n",
    "#     ctrs = [data['ctr'] for data in stats.values() if data['count'] > 0]\n",
    "#     colors = [color_map.get(label, 'gray') for label in labels]  # 使用颜色映射，如果没有指定则默认为灰色\n",
    "    \n",
    "#     if counts:  # 只有当有数据时才绘图\n",
    "#         plt.figure(figsize=(12, 9))\n",
    "#         wedges, texts, autotexts = plt.pie(counts, labels=labels, autopct='%1.1f%%', startangle=90, colors=colors)\n",
    "        \n",
    "#         # 添加数量和CTR标签\n",
    "#         for i, (autotext, ctr) in enumerate(zip(autotexts, ctrs)):\n",
    "#             autotext.set_text(f'{autotext.get_text()}\\n({counts[i]})\\nCTR: {ctr:.4f}')\n",
    "        \n",
    "#         plt.title(f\"Image Distribution in {folder}\")\n",
    "#         plt.axis('equal')\n",
    "        \n",
    "#         # 添加图例\n",
    "#         plt.legend(wedges, [f\"{label} ({count}, CTR: {ctr:.4f})\" for label, count, ctr in zip(labels, counts, ctrs)],\n",
    "#                    title=\"Categories\", loc=\"center left\", bbox_to_anchor=(1, 0, 0.5, 1))\n",
    "        \n",
    "#         output_chart_path = os.path.join(base_path, f'{folder}_distribution.png')\n",
    "#         plt.savefig(output_chart_path, bbox_inches='tight')\n",
    "#         plt.close()\n",
    "#         print(f\"饼图已保存至: {output_chart_path}\")\n",
    "\n",
    "#         # 将图片插入到Excel中\n",
    "#         img = XLImage(output_chart_path)\n",
    "#         sheet.add_image(img, f'H{row}')\n",
    "\n",
    "#         # 写入数据到Excel\n",
    "#         for subfolder, data in stats.items():\n",
    "#             if data['count'] > 0:\n",
    "#                 sheet.cell(row=row, column=1, value=folder)\n",
    "#                 sheet.cell(row=row, column=2, value=subfolder)\n",
    "#                 sheet.cell(row=row, column=3, value=data['count'])\n",
    "#                 sheet.cell(row=row, column=4, value=data['uv'])\n",
    "#                 sheet.cell(row=row, column=5, value=data['click_uv'])\n",
    "#                 sheet.cell(row=row, column=6, value=data['ctr'])\n",
    "#                 row += 1\n",
    "\n",
    "#         row += 15  # 为下一个文件夹的数据和图表留出空间\n",
    "\n",
    "# # 绘制总体分布饼图\n",
    "# total_counts = [data['count'] for data in total_stats.values() if data['count'] > 0]\n",
    "# total_labels = [subfolder for subfolder, data in total_stats.items() if data['count'] > 0]\n",
    "# total_ctrs = [data['click_uv'] / data['uv'] if data['uv'] > 0 else 0 for data in total_stats.values() if data['count'] > 0]\n",
    "# total_colors = [color_map.get(label, 'gray') for label in total_labels]\n",
    "\n",
    "# if total_counts:\n",
    "#     plt.figure(figsize=(12, 9))\n",
    "#     wedges, texts, autotexts = plt.pie(total_counts, labels=total_labels, autopct='%1.1f%%', startangle=90, colors=total_colors)\n",
    "    \n",
    "#     # 添加数量和CTR标签\n",
    "#     for i, (autotext, ctr) in enumerate(zip(autotexts, total_ctrs)):\n",
    "#         autotext.set_text(f'{autotext.get_text()}\\n({total_counts[i]})\\nCTR: {ctr:.4f}')\n",
    "    \n",
    "#     plt.title(\"Overall Image Distribution\")\n",
    "#     plt.axis('equal')\n",
    "    \n",
    "#     # 添加图例\n",
    "#     plt.legend(wedges, [f\"{label} ({count}, CTR: {ctr:.4f})\" for label, count, ctr in zip(total_labels, total_counts, total_ctrs)],\n",
    "#                title=\"Categories\", loc=\"center left\", bbox_to_anchor=(1, 0, 0.5, 1))\n",
    "    \n",
    "#     output_chart_path = os.path.join(base_path, 'overall_distribution.png')\n",
    "#     plt.savefig(output_chart_path, bbox_inches='tight')\n",
    "#     plt.close()\n",
    "#     print(f\"总体分布饼图已保存至: {output_chart_path}\")\n",
    "\n",
    "#     # 将总体分布图片插入到Excel中\n",
    "#     img = XLImage(output_chart_path)\n",
    "#     sheet.add_image(img, f'H{row}')\n",
    "\n",
    "#     # 写入总体数据到Excel\n",
    "#     sheet.cell(row=row, column=1, value=\"Overall\")\n",
    "#     for subfolder, data in total_stats.items():\n",
    "#         if data['count'] > 0:\n",
    "#             sheet.cell(row=row, column=2, value=subfolder)\n",
    "#             sheet.cell(row=row, column=3, value=data['count'])\n",
    "#             sheet.cell(row=row, column=4, value=data['uv'])\n",
    "#             sheet.cell(row=row, column=5, value=data['click_uv'])\n",
    "#             sheet.cell(row=row, column=6, value=data['click_uv'] / data['uv'] if data['uv'] > 0 else 0)\n",
    "#             row += 1\n",
    "\n",
    "# # 保存Excel文件\n",
    "# excel_output_path = os.path.join(base_path, 'image_distribution_stats.xlsx')\n",
    "# workbook.save(excel_output_path)\n",
    "# print(f\"统计结果已保存至Excel文件: {excel_output_path}\")\n",
    "\n",
    "\n",
    "    "
   ]
  },
  {
   "cell_type": "code",
   "execution_count": 3,
   "metadata": {},
   "outputs": [
    {
     "name": "stdout",
     "output_type": "stream",
     "text": [
      "\n",
      "统计结果 for 1047:\n",
      "  txt: 图片数量 = 32, UV = 21486, Click UV = 707, CTR = 0.0329\n",
      "\n",
      "统计结果 for 12010:\n",
      "  price: 图片数量 = 3, UV = 568, Click UV = 21, CTR = 0.0370\n",
      "  txt: 图片数量 = 75, UV = 40107, Click UV = 1540, CTR = 0.0384\n",
      "  scene: 图片数量 = 3, UV = 870, Click UV = 45, CTR = 0.0517\n",
      "\n",
      "统计结果 for 12811:\n",
      "  txt: 图片数量 = 30, UV = 30234, Click UV = 779, CTR = 0.0258\n",
      "  scene: 图片数量 = 3, UV = 12573, Click UV = 207, CTR = 0.0165\n",
      "\n",
      "统计结果 for 1349:\n",
      "  price: 图片数量 = 9, UV = 771, Click UV = 34, CTR = 0.0441\n",
      "  txt: 图片数量 = 130, UV = 108447, Click UV = 3098, CTR = 0.0286\n",
      "  scene: 图片数量 = 98, UV = 24358, Click UV = 684, CTR = 0.0281\n",
      "\n",
      "统计结果 for 1355:\n",
      "  txt: 图片数量 = 132, UV = 114708, Click UV = 2453, CTR = 0.0214\n",
      "  scene: 图片数量 = 153, UV = 65909, Click UV = 1497, CTR = 0.0227\n",
      "\n",
      "统计结果 for 13661:\n",
      "  price: 图片数量 = 9, UV = 32210, Click UV = 916, CTR = 0.0284\n",
      "  txt: 图片数量 = 41, UV = 98039, Click UV = 3535, CTR = 0.0361\n",
      "  scene: 图片数量 = 1, UV = 28, Click UV = 3, CTR = 0.1071\n",
      "\n",
      "统计结果 for 1476:\n",
      "  txt: 图片数量 = 16, UV = 51538, Click UV = 1718, CTR = 0.0333\n",
      "  scene: 图片数量 = 1, UV = 3399, Click UV = 78, CTR = 0.0229\n",
      "\n",
      "统计结果 for 15908:\n",
      "  price: 图片数量 = 11, UV = 108152, Click UV = 3626, CTR = 0.0335\n",
      "  txt: 图片数量 = 89, UV = 312657, Click UV = 6745, CTR = 0.0216\n",
      "\n",
      "统计结果 for 1656:\n",
      "  txt: 图片数量 = 55, UV = 134533, Click UV = 6734, CTR = 0.0501\n",
      "  scene: 图片数量 = 1, UV = 68, Click UV = 4, CTR = 0.0588\n",
      "\n",
      "统计结果 for 1657:\n",
      "  price: 图片数量 = 2, UV = 4462, Click UV = 244, CTR = 0.0547\n",
      "  txt: 图片数量 = 104, UV = 167340, Click UV = 9484, CTR = 0.0567\n",
      "  scene: 图片数量 = 9, UV = 34360, Click UV = 894, CTR = 0.0260\n",
      "\n",
      "统计结果 for 16777:\n",
      "  price: 图片数量 = 1, UV = 98, Click UV = 7, CTR = 0.0714\n",
      "  txt: 图片数量 = 118, UV = 86327, Click UV = 3318, CTR = 0.0384\n",
      "  scene: 图片数量 = 59, UV = 13655, Click UV = 667, CTR = 0.0488\n",
      "\n",
      "统计结果 for 34919:\n",
      "  price: 图片数量 = 9, UV = 3216, Click UV = 214, CTR = 0.0665\n",
      "  txt: 图片数量 = 49, UV = 107785, Click UV = 2610, CTR = 0.0242\n",
      "\n",
      "统计结果 for 35404:\n",
      "  price: 图片数量 = 5, UV = 2417, Click UV = 95, CTR = 0.0393\n",
      "  txt: 图片数量 = 101, UV = 79296, Click UV = 2012, CTR = 0.0254\n",
      "  scene: 图片数量 = 46, UV = 54242, Click UV = 1281, CTR = 0.0236\n",
      "\n",
      "统计结果 for 6191:\n",
      "  txt: 图片数量 = 20, UV = 7591, Click UV = 206, CTR = 0.0271\n",
      "  scene: 图片数量 = 15, UV = 12460, Click UV = 333, CTR = 0.0267\n",
      "\n",
      "统计结果 for 6221:\n",
      "  price: 图片数量 = 3, UV = 31398, Click UV = 714, CTR = 0.0227\n",
      "  txt: 图片数量 = 47, UV = 440774, Click UV = 12750, CTR = 0.0289\n",
      "  scene: 图片数量 = 10, UV = 49847, Click UV = 1525, CTR = 0.0306\n",
      "  white: 图片数量 = 1, UV = 302, Click UV = 6, CTR = 0.0199\n",
      "\n",
      "统计结果 for 739:\n",
      "  txt: 图片数量 = 29, UV = 72844, Click UV = 1182, CTR = 0.0162\n",
      "\n",
      "统计结果 for 753:\n",
      "  price: 图片数量 = 4, UV = 2740, Click UV = 128, CTR = 0.0467\n",
      "  txt: 图片数量 = 5, UV = 14109, Click UV = 733, CTR = 0.0520\n",
      "\n",
      "统计结果 for 760:\n",
      "  price: 图片数量 = 3, UV = 5941, Click UV = 217, CTR = 0.0365\n",
      "  txt: 图片数量 = 7, UV = 8255, Click UV = 485, CTR = 0.0588\n",
      "\n",
      "统计结果 for 9435:\n",
      "  price: 图片数量 = 1, UV = 21, Click UV = 6, CTR = 0.2857\n",
      "  txt: 图片数量 = 42, UV = 86657, Click UV = 1590, CTR = 0.0183\n",
      "  scene: 图片数量 = 4, UV = 1808, Click UV = 65, CTR = 0.0360\n",
      "\n",
      "统计结果 for 9736:\n",
      "\n",
      "统计结果 for 9775:\n",
      "  price: 图片数量 = 21, UV = 47743, Click UV = 1409, CTR = 0.0295\n",
      "  txt: 图片数量 = 77, UV = 226378, Click UV = 8070, CTR = 0.0356\n",
      "  scene: 图片数量 = 38, UV = 16597, Click UV = 499, CTR = 0.0301\n",
      "饼图已保存至: D://code//data//Lv2期结论//京喜_from_0501//筛选\\1047_distribution.png\n",
      "饼图已保存至: D://code//data//Lv2期结论//京喜_from_0501//筛选\\12010_distribution.png\n",
      "饼图已保存至: D://code//data//Lv2期结论//京喜_from_0501//筛选\\12811_distribution.png\n",
      "饼图已保存至: D://code//data//Lv2期结论//京喜_from_0501//筛选\\1349_distribution.png\n",
      "饼图已保存至: D://code//data//Lv2期结论//京喜_from_0501//筛选\\1355_distribution.png\n",
      "饼图已保存至: D://code//data//Lv2期结论//京喜_from_0501//筛选\\13661_distribution.png\n",
      "饼图已保存至: D://code//data//Lv2期结论//京喜_from_0501//筛选\\1476_distribution.png\n",
      "饼图已保存至: D://code//data//Lv2期结论//京喜_from_0501//筛选\\15908_distribution.png\n",
      "饼图已保存至: D://code//data//Lv2期结论//京喜_from_0501//筛选\\1656_distribution.png\n",
      "饼图已保存至: D://code//data//Lv2期结论//京喜_from_0501//筛选\\1657_distribution.png\n",
      "饼图已保存至: D://code//data//Lv2期结论//京喜_from_0501//筛选\\16777_distribution.png\n",
      "饼图已保存至: D://code//data//Lv2期结论//京喜_from_0501//筛选\\34919_distribution.png\n",
      "饼图已保存至: D://code//data//Lv2期结论//京喜_from_0501//筛选\\35404_distribution.png\n",
      "饼图已保存至: D://code//data//Lv2期结论//京喜_from_0501//筛选\\6191_distribution.png\n",
      "饼图已保存至: D://code//data//Lv2期结论//京喜_from_0501//筛选\\6221_distribution.png\n",
      "饼图已保存至: D://code//data//Lv2期结论//京喜_from_0501//筛选\\739_distribution.png\n",
      "饼图已保存至: D://code//data//Lv2期结论//京喜_from_0501//筛选\\753_distribution.png\n",
      "饼图已保存至: D://code//data//Lv2期结论//京喜_from_0501//筛选\\760_distribution.png\n",
      "饼图已保存至: D://code//data//Lv2期结论//京喜_from_0501//筛选\\9435_distribution.png\n",
      "饼图已保存至: D://code//data//Lv2期结论//京喜_from_0501//筛选\\9775_distribution.png\n",
      "总体分布饼图已保存至: D://code//data//Lv2期结论//京喜_from_0501//筛选\\overall_distribution.png\n",
      "统计结果已保存至 Excel 文件: D://code//data//Lv2期结论//京喜_from_0501//筛选\\image_distribution_stats.xlsx\n"
     ]
    }
   ],
   "source": [
    "import os\n",
    "import pandas as pd\n",
    "from tqdm import tqdm\n",
    "import matplotlib.pyplot as plt\n",
    "import openpyxl\n",
    "from openpyxl.drawing.image import Image as XLImage\n",
    "\n",
    "# 定义基础路径和 CSV 文件路径\n",
    "base_path = 'D://code//data//Lv2期结论//京喜_from_0501//筛选'\n",
    "csv_file_path = 'D://code//data//Lv2期结论//京喜_from_0501//京喜数据_from_0501_筛选.csv'\n",
    "\n",
    "# 读取 CSV 文件\n",
    "df = pd.read_csv(csv_file_path)\n",
    "\n",
    "def extract_matching_part(img_url):\n",
    "    if pd.isna(img_url):\n",
    "        return None\n",
    "    img_url = img_url.split('?')[0]\n",
    "    img_url = os.path.splitext(img_url)[0]\n",
    "    parts = img_url.split('/')\n",
    "    if len(parts) >= 2:\n",
    "        return f\"{parts[-2]}_{parts[-1]}\"\n",
    "    return None\n",
    "\n",
    "df['matching_part'] = df['img_url'].apply(extract_matching_part)\n",
    "\n",
    "def process_grounding_folder(grounding_path):\n",
    "    folder_stats = {\n",
    "        'price': {'count': 0, 'uv': 0, 'click_uv': 0},\n",
    "        'txt': {'count': 0, 'uv': 0, 'click_uv': 0},\n",
    "        'scene': {'count': 0, 'uv': 0, 'click_uv': 0},\n",
    "        'white': {'count': 0, 'uv': 0, 'click_uv': 0}\n",
    "    }\n",
    "\n",
    "    for folder_name in ['price', 'txt', 'scene', 'white']:\n",
    "        folder_path = os.path.join(grounding_path, folder_name)\n",
    "        if os.path.exists(folder_path):\n",
    "            for filename in os.listdir(folder_path):\n",
    "                if filename.lower().endswith(('.png', '.jpg', '.jpeg', '.gif', '.bmp')):\n",
    "                    filename_without_ext = os.path.splitext(filename)[0]\n",
    "                    filtered_df = df[df['matching_part'] == filename_without_ext]\n",
    "                    if not filtered_df.empty:\n",
    "                        folder_stats[folder_name]['count'] += 1\n",
    "                        folder_stats[folder_name]['uv'] += filtered_df['uv'].sum()\n",
    "                        folder_stats[folder_name]['click_uv'] += filtered_df['click_uv'].sum()\n",
    "\n",
    "    # 计算每个文件夹的 CTR\n",
    "    for folder in folder_stats:\n",
    "        if folder_stats[folder]['uv'] > 0:\n",
    "            folder_stats[folder]['ctr'] = folder_stats[folder]['click_uv'] / folder_stats[folder]['uv']\n",
    "        else:\n",
    "            folder_stats[folder]['ctr'] = 0\n",
    "\n",
    "    return folder_stats\n",
    "\n",
    "all_stats = {}\n",
    "\n",
    "for root, dirs, files in os.walk(base_path):\n",
    "    if 'grounding_output' in dirs:\n",
    "        grounding_path = os.path.join(root, 'grounding_output')\n",
    "        folder_name = os.path.basename(root)\n",
    "        stats = process_grounding_folder(grounding_path)\n",
    "        all_stats[folder_name] = stats\n",
    "\n",
    "# 创建一个 Excel 工作簿来保存结果\n",
    "workbook = openpyxl.Workbook()\n",
    "sheet = workbook.active\n",
    "sheet.title = \"Image Distribution Stats\"\n",
    "\n",
    "# 写入表头\n",
    "headers = [\"Folder\", \"Subfolder\", \"Count\", \"UV\", \"Click UV\", \"CTR\"]\n",
    "for col, header in enumerate(headers, start=1):\n",
    "    sheet.cell(row=1, column=col, value=header)\n",
    "\n",
    "row = 2  # 从第二行开始写入数据\n",
    "\n",
    "# 输出统计结果\n",
    "for folder, stats in all_stats.items():\n",
    "    print(f\"\\n统计结果 for {folder}:\")\n",
    "    for subfolder, data in stats.items():\n",
    "        if data['count'] > 0:\n",
    "            ctr = data['click_uv'] / data['uv'] if data['uv'] > 0 else 0\n",
    "            print(f\"  {subfolder}: 图片数量 = {data['count']}, UV = {data['uv']}, Click UV = {data['click_uv']}, CTR = {ctr:.4f}\")\n",
    "\n",
    "# 定义颜色映射\n",
    "color_map = {\n",
    "    'price': '#FF6B6B',  # 柔和的红色\n",
    "    'txt': '#4ECDC4',    # 青绿色\n",
    "    'scene': '#7986CB',  # 淡紫色\n",
    "    'white': '#FFD93D'   # 明亮的黄色\n",
    "}\n",
    "\n",
    "# 绘制每个 grounding_output 文件夹的饼图并保存数据\n",
    "for folder, stats in all_stats.items():\n",
    "    counts = [data['count'] for data in stats.values() if data['count'] > 0]\n",
    "    labels = [subfolder for subfolder, data in stats.items() if data['count'] > 0]\n",
    "    ctrs = [data['ctr'] for data in stats.values() if data['count'] > 0]\n",
    "    colors = [color_map.get(label, 'gray') for label in labels]  # 使用颜色映射，如果没有指定则默认为灰色\n",
    "\n",
    "    if counts:  # 只有当有数据时才绘图\n",
    "        plt.figure(figsize=(12, 9))\n",
    "        wedges, texts, autotexts = plt.pie(counts, labels=labels, autopct='%1.1f%%', startangle=90, colors=colors)\n",
    "\n",
    "        # 添加数量和 CTR 标签\n",
    "        for i, (autotext, ctr) in enumerate(zip(autotexts, ctrs)):\n",
    "            autotext.set_text(f'{autotext.get_text()}\\n({counts[i]})\\nCTR: {ctr:.4f}')\n",
    "\n",
    "        plt.title(f\"Image Distribution in {folder}\")\n",
    "        plt.axis('equal')\n",
    "\n",
    "        # 添加图例\n",
    "        plt.legend(wedges, [f\"{label} ({count}, CTR: {ctr:.4f})\" for label, count, ctr in zip(labels, counts, ctrs)],\n",
    "                   title=\"Categories\", loc=\"center left\", bbox_to_anchor=(1, 0, 0.5, 1))\n",
    "\n",
    "        output_chart_path = os.path.join(base_path, f'{folder}_distribution.png')\n",
    "        plt.savefig(output_chart_path, bbox_inches='tight')\n",
    "        plt.close()\n",
    "        print(f\"饼图已保存至: {output_chart_path}\")\n",
    "\n",
    "        # 将图片插入到 Excel 中\n",
    "        img = XLImage(output_chart_path)\n",
    "        sheet.add_image(img, f'H{row}')\n",
    "\n",
    "        # 写入数据到 Excel\n",
    "        for subfolder, data in stats.items():\n",
    "            if data['count'] > 0:\n",
    "                sheet.cell(row=row, column=1, value=folder)\n",
    "                sheet.cell(row=row, column=2, value=subfolder)\n",
    "                sheet.cell(row=row, column=3, value=data['count'])\n",
    "                sheet.cell(row=row, column=4, value=data['uv'])\n",
    "                sheet.cell(row=row, column=5, value=data['click_uv'])\n",
    "                sheet.cell(row=row, column=6, value=data['ctr'])\n",
    "                row += 1\n",
    "\n",
    "        row += 15  # 为下一个文件夹的数据和图表留出空间\n",
    "\n",
    "# 计算总体统计数据\n",
    "total_stats = {\n",
    "    'price': {'count': 0, 'uv': 0, 'click_uv': 0},\n",
    "    'txt': {'count': 0, 'uv': 0, 'click_uv': 0},\n",
    "    'scene': {'count': 0, 'uv': 0, 'click_uv': 0},\n",
    "    'white': {'count': 0, 'uv': 0, 'click_uv': 0}\n",
    "}\n",
    "for stats in all_stats.values():\n",
    "    for subfolder, data in stats.items():\n",
    "        total_stats[subfolder]['count'] += data['count']\n",
    "        total_stats[subfolder]['uv'] += data['uv']\n",
    "        total_stats[subfolder]['click_uv'] += data['click_uv']\n",
    "\n",
    "# 计算总体 CTR\n",
    "for folder in total_stats:\n",
    "    if total_stats[folder]['uv'] > 0:\n",
    "        total_stats[folder]['ctr'] = total_stats[folder]['click_uv'] / total_stats[folder]['uv']\n",
    "    else:\n",
    "        total_stats[folder]['ctr'] = 0\n",
    "\n",
    "# 绘制总体分布饼图\n",
    "total_counts = [data['count'] for data in total_stats.values() if data['count'] > 0]\n",
    "total_labels = [subfolder for subfolder, data in total_stats.items() if data['count'] > 0]\n",
    "total_ctrs = [data['click_uv'] / data['uv'] if data['uv'] > 0 else 0 for data in total_stats.values() if data['count'] > 0]\n",
    "total_colors = [color_map.get(label, 'gray') for label in total_labels]\n",
    "\n",
    "if total_counts:\n",
    "    plt.figure(figsize=(12, 9))\n",
    "    wedges, texts, autotexts = plt.pie(total_counts, labels=total_labels, autopct='%1.1f%%', startangle=90, colors=total_colors)\n",
    "\n",
    "    # 添加数量和 CTR 标签\n",
    "    for i, (autotext, ctr) in enumerate(zip(autotexts, total_ctrs)):\n",
    "        autotext.set_text(f'{autotext.get_text()}\\n({total_counts[i]})\\nCTR: {ctr:.4f}')\n",
    "\n",
    "    plt.title(\"Overall Image Distribution\")\n",
    "    plt.axis('equal')\n",
    "\n",
    "    # 添加图例\n",
    "    plt.legend(wedges, [f\"{label} ({count}, CTR: {ctr:.4f})\" for label, count, ctr in zip(total_labels, total_counts, total_ctrs)],\n",
    "               title=\"Categories\", loc=\"center left\", bbox_to_anchor=(1, 0, 0.5, 1))\n",
    "\n",
    "    output_chart_path = os.path.join(base_path, 'overall_distribution.png')\n",
    "    plt.savefig(output_chart_path, bbox_inches='tight')\n",
    "    plt.close()\n",
    "    print(f\"总体分布饼图已保存至: {output_chart_path}\")\n",
    "\n",
    "    # 将总体分布图片插入到 Excel 中\n",
    "    img = XLImage(output_chart_path)\n",
    "    sheet.add_image(img, f'H{row}')\n",
    "\n",
    "    # 写入总体数据到 Excel\n",
    "    sheet.cell(row=row, column=1, value=\"Overall\")\n",
    "    for subfolder, data in total_stats.items():\n",
    "        if data['count'] > 0:\n",
    "            sheet.cell(row=row, column=2, value=subfolder)\n",
    "            sheet.cell(row=row, column=3, value=data['count'])\n",
    "            sheet.cell(row=row, column=4, value=data['uv'])\n",
    "            sheet.cell(row=row, column=5, value=data['click_uv'])\n",
    "            sheet.cell(row=row, column=6, value=data['click_uv'] / data['uv'] if data['uv'] > 0 else 0)\n",
    "            row += 1\n",
    "\n",
    "# 保存 Excel 文件\n",
    "excel_output_path = os.path.join(base_path, 'image_distribution_stats.xlsx')\n",
    "workbook.save(excel_output_path)\n",
    "print(f\"统计结果已保存至 Excel 文件: {excel_output_path}\")\n",
    "\n"
   ]
  },
  {
   "cell_type": "code",
   "execution_count": 20,
   "metadata": {},
   "outputs": [],
   "source": [
    "import os\n",
    "import pandas as pd\n",
    "\n",
    "# 存储图片信息的列表\n",
    "image_info = []\n",
    "\n",
    "# 一级文件夹路径\n",
    "root_folder = 'D://code//data//Lv2期结论//京喜_from_0501//筛选'\n",
    "\n",
    "# 遍历一级文件夹下的所有二级文件夹\n",
    "for sub_folder in os.listdir(root_folder):\n",
    "    if sub_folder.isdigit():  # 只处理数字命名的二级文件夹\n",
    "        grounding_folder = os.path.join(root_folder, sub_folder, 'grounding_output')\n",
    "        if os.path.exists(grounding_folder):\n",
    "            for sub_sub_folder in ['price', 'txt', 'white', 'scene']:\n",
    "                sub_sub_folder_path = os.path.join(grounding_folder, sub_sub_folder)\n",
    "                if os.path.exists(sub_sub_folder_path):\n",
    "                    for image_file in os.listdir(sub_sub_folder_path):\n",
    "                        if \"txt_\" in image_file:\n",
    "                            image_file = image_file.replace(\"txt_\", \"\")\n",
    "                        elif \"price_\" in image_file:\n",
    "                            image_file = image_file.replace(\"price_\", \"\")\n",
    "                        image_info.append([image_file, sub_sub_folder, sub_folder])\n",
    "\n",
    "# 创建DataFrame并保存为Excel\n",
    "df = pd.DataFrame(image_info, columns=['图片名', '分类', 'cid3'])\n",
    "df.to_excel('D://code//data//Lv2期结论//京喜_from_0501//筛选//分类数据image_info.xlsx', index=False)\n",
    "\n",
    "\n"
   ]
  },
  {
   "cell_type": "code",
   "execution_count": 19,
   "metadata": {},
   "outputs": [],
   "source": [
    "import pandas as pd\n",
    "\n",
    "# 读取Excel文件\n",
    "data = pd.read_csv('D://code//data//Lv2期结论//京喜_from_0501//京喜数据_from_0501_筛选.csv')\n",
    "\n",
    "# 按照img_url列进行聚合，并对指定列进行求和\n",
    "aggregated_data = data.groupby('img_url').agg({\n",
    "    'uv':'sum',\n",
    "    'click_uv':'sum',\n",
    "    'gmv_cj':'sum',\n",
    "    'sale_qtty_cj':'sum'\n",
    "}).reset_index()\n",
    "\n",
    "# 将原始数据中与聚合相关的列合并到聚合后的数据中\n",
    "aggregated_data = pd.merge(aggregated_data, data[['sku', 'img_url','img_type', 'bu_id', 'cid1', 'cid2', 'cid3', 'main_brand_code','shop_id']], on='img_url', how='left')\n",
    "\n",
    "# 保存为新的Excel文件\n",
    "aggregated_data.to_excel('D://code//data//Lv2期结论//京喜_from_0501//url加总原始数据.xlsx', index=False)\n",
    "\n",
    "\n"
   ]
  },
  {
   "cell_type": "code",
   "execution_count": 22,
   "metadata": {},
   "outputs": [],
   "source": [
    "csv_file_path = 'D://code//data//Lv2期结论//京喜_from_0501//url加总原始数据.xlsx'\n",
    "\n",
    "\n",
    "# 读取 CSV 文件\n",
    "df = pd.read_excel(csv_file_path)\n",
    "\n",
    "def extract_matching_part(img_url):\n",
    "    if pd.isna(img_url):\n",
    "        return None\n",
    "    img_url = img_url.split('?')[0]\n",
    "    img_url = os.path.splitext(img_url)[0]\n",
    "    parts = img_url.split('/')\n",
    "    if len(parts) >= 2:\n",
    "        return f\"{parts[-2]}_{parts[-1]}\"\n",
    "    return None\n",
    "\n",
    "df['matching_part'] = df['img_url'].apply(extract_matching_part)\n",
    "\n"
   ]
  },
  {
   "cell_type": "code",
   "execution_count": 23,
   "metadata": {},
   "outputs": [
    {
     "data": {
      "text/html": [
       "<div>\n",
       "<style scoped>\n",
       "    .dataframe tbody tr th:only-of-type {\n",
       "        vertical-align: middle;\n",
       "    }\n",
       "\n",
       "    .dataframe tbody tr th {\n",
       "        vertical-align: top;\n",
       "    }\n",
       "\n",
       "    .dataframe thead th {\n",
       "        text-align: right;\n",
       "    }\n",
       "</style>\n",
       "<table border=\"1\" class=\"dataframe\">\n",
       "  <thead>\n",
       "    <tr style=\"text-align: right;\">\n",
       "      <th></th>\n",
       "      <th>img_url</th>\n",
       "      <th>uv</th>\n",
       "      <th>click_uv</th>\n",
       "      <th>gmv_cj</th>\n",
       "      <th>sale_qtty_cj</th>\n",
       "      <th>sku</th>\n",
       "      <th>img_type</th>\n",
       "      <th>bu_id</th>\n",
       "      <th>cid1</th>\n",
       "      <th>cid2</th>\n",
       "      <th>cid3</th>\n",
       "      <th>main_brand_code</th>\n",
       "      <th>shop_id</th>\n",
       "      <th>matching_part</th>\n",
       "    </tr>\n",
       "  </thead>\n",
       "  <tbody>\n",
       "    <tr>\n",
       "      <th>0</th>\n",
       "      <td>jfs/t1/100004/33/49060/76171/66c2bcffF8ae95d14...</td>\n",
       "      <td>161</td>\n",
       "      <td>2</td>\n",
       "      <td>0.00</td>\n",
       "      <td>0</td>\n",
       "      <td>10096570673481</td>\n",
       "      <td>0</td>\n",
       "      <td>10995</td>\n",
       "      <td>670</td>\n",
       "      <td>686</td>\n",
       "      <td>1047</td>\n",
       "      <td>14151</td>\n",
       "      <td>13496968.0</td>\n",
       "      <td>66c2bcffF8ae95d14_7c651dcb5832f305</td>\n",
       "    </tr>\n",
       "    <tr>\n",
       "      <th>1</th>\n",
       "      <td>jfs/t1/100024/34/50479/106232/66dab790Fda90ad8...</td>\n",
       "      <td>79</td>\n",
       "      <td>4</td>\n",
       "      <td>9.18</td>\n",
       "      <td>2</td>\n",
       "      <td>10103620326168</td>\n",
       "      <td>0</td>\n",
       "      <td>10995</td>\n",
       "      <td>16750</td>\n",
       "      <td>16752</td>\n",
       "      <td>16777</td>\n",
       "      <td>14151</td>\n",
       "      <td>13496968.0</td>\n",
       "      <td>66dab790Fda90ad89_8ab1fdfecb747a9b</td>\n",
       "    </tr>\n",
       "    <tr>\n",
       "      <th>2</th>\n",
       "      <td>jfs/t1/100026/5/52925/100421/66fc0e24F88cb6f8a...</td>\n",
       "      <td>391</td>\n",
       "      <td>12</td>\n",
       "      <td>0.00</td>\n",
       "      <td>0</td>\n",
       "      <td>10107750989796</td>\n",
       "      <td>0</td>\n",
       "      <td>10995</td>\n",
       "      <td>6196</td>\n",
       "      <td>6219</td>\n",
       "      <td>6221</td>\n",
       "      <td>14151</td>\n",
       "      <td>13496968.0</td>\n",
       "      <td>66fc0e24F88cb6f8a_45a02d05d6f30c21</td>\n",
       "    </tr>\n",
       "    <tr>\n",
       "      <th>3</th>\n",
       "      <td>jfs/t1/100026/5/52925/100421/66fc0e24F88cb6f8a...</td>\n",
       "      <td>391</td>\n",
       "      <td>12</td>\n",
       "      <td>0.00</td>\n",
       "      <td>0</td>\n",
       "      <td>10107750989796</td>\n",
       "      <td>0</td>\n",
       "      <td>10995</td>\n",
       "      <td>6196</td>\n",
       "      <td>6219</td>\n",
       "      <td>6221</td>\n",
       "      <td>14151</td>\n",
       "      <td>13496968.0</td>\n",
       "      <td>66fc0e24F88cb6f8a_45a02d05d6f30c21</td>\n",
       "    </tr>\n",
       "    <tr>\n",
       "      <th>4</th>\n",
       "      <td>jfs/t1/100033/26/51602/167543/66f19a6cF3dcd323...</td>\n",
       "      <td>791</td>\n",
       "      <td>44</td>\n",
       "      <td>219.80</td>\n",
       "      <td>38</td>\n",
       "      <td>10106909851270</td>\n",
       "      <td>0</td>\n",
       "      <td>10995</td>\n",
       "      <td>15901</td>\n",
       "      <td>15902</td>\n",
       "      <td>15908</td>\n",
       "      <td>14151</td>\n",
       "      <td>13496968.0</td>\n",
       "      <td>66f19a6cF3dcd3236_6cbd5fa9693c541c</td>\n",
       "    </tr>\n",
       "  </tbody>\n",
       "</table>\n",
       "</div>"
      ],
      "text/plain": [
       "                                             img_url   uv  click_uv  gmv_cj  \\\n",
       "0  jfs/t1/100004/33/49060/76171/66c2bcffF8ae95d14...  161         2    0.00   \n",
       "1  jfs/t1/100024/34/50479/106232/66dab790Fda90ad8...   79         4    9.18   \n",
       "2  jfs/t1/100026/5/52925/100421/66fc0e24F88cb6f8a...  391        12    0.00   \n",
       "3  jfs/t1/100026/5/52925/100421/66fc0e24F88cb6f8a...  391        12    0.00   \n",
       "4  jfs/t1/100033/26/51602/167543/66f19a6cF3dcd323...  791        44  219.80   \n",
       "\n",
       "   sale_qtty_cj             sku  img_type  bu_id   cid1   cid2   cid3  \\\n",
       "0             0  10096570673481         0  10995    670    686   1047   \n",
       "1             2  10103620326168         0  10995  16750  16752  16777   \n",
       "2             0  10107750989796         0  10995   6196   6219   6221   \n",
       "3             0  10107750989796         0  10995   6196   6219   6221   \n",
       "4            38  10106909851270         0  10995  15901  15902  15908   \n",
       "\n",
       "   main_brand_code     shop_id                       matching_part  \n",
       "0            14151  13496968.0  66c2bcffF8ae95d14_7c651dcb5832f305  \n",
       "1            14151  13496968.0  66dab790Fda90ad89_8ab1fdfecb747a9b  \n",
       "2            14151  13496968.0  66fc0e24F88cb6f8a_45a02d05d6f30c21  \n",
       "3            14151  13496968.0  66fc0e24F88cb6f8a_45a02d05d6f30c21  \n",
       "4            14151  13496968.0  66f19a6cF3dcd3236_6cbd5fa9693c541c  "
      ]
     },
     "execution_count": 23,
     "metadata": {},
     "output_type": "execute_result"
    }
   ],
   "source": [
    "df.head()\n",
    "\n"
   ]
  },
  {
   "cell_type": "code",
   "execution_count": 40,
   "metadata": {},
   "outputs": [],
   "source": [
    "import pandas as pd\n",
    "\n",
    "df_x = pd.read_excel('D://code//data//Lv2期结论//京喜_from_0501//筛选//分类数据image_info.xlsx')\n",
    "\n",
    "# 确保列数据类型匹配（如果需要）\n",
    "df['matching_part'] = df['matching_part'].astype(str)\n",
    "df_x['图片名'] = df_x['图片名'].apply(lambda x: str(x).replace('.jpg', '') if isinstance(x, (str, bytes)) else x)\n",
    "\n",
    "# 根据条件进行拼接\n",
    "merged_df = pd.merge(df, df_x, left_on='matching_part', right_on='图片名', how='right')\n",
    "\n"
   ]
  },
  {
   "cell_type": "code",
   "execution_count": 44,
   "metadata": {},
   "outputs": [],
   "source": [
    "merged_df.to_excel('D://code//data//Lv2期结论//京喜_from_0501//sku分类数据表.xlsx', index=False)\n",
    "\n"
   ]
  },
  {
   "cell_type": "code",
   "execution_count": 46,
   "metadata": {},
   "outputs": [
    {
     "data": {
      "text/html": [
       "<div>\n",
       "<style scoped>\n",
       "    .dataframe tbody tr th:only-of-type {\n",
       "        vertical-align: middle;\n",
       "    }\n",
       "\n",
       "    .dataframe tbody tr th {\n",
       "        vertical-align: top;\n",
       "    }\n",
       "\n",
       "    .dataframe thead th {\n",
       "        text-align: right;\n",
       "    }\n",
       "</style>\n",
       "<table border=\"1\" class=\"dataframe\">\n",
       "  <thead>\n",
       "    <tr style=\"text-align: right;\">\n",
       "      <th></th>\n",
       "      <th>img_url</th>\n",
       "      <th>uv</th>\n",
       "      <th>click_uv</th>\n",
       "      <th>gmv_cj</th>\n",
       "      <th>sale_qtty_cj</th>\n",
       "      <th>sku</th>\n",
       "      <th>img_type</th>\n",
       "      <th>bu_id</th>\n",
       "      <th>cid1</th>\n",
       "      <th>cid2</th>\n",
       "      <th>cid3_x</th>\n",
       "      <th>main_brand_code</th>\n",
       "      <th>shop_id</th>\n",
       "      <th>matching_part</th>\n",
       "      <th>图片名</th>\n",
       "      <th>分类</th>\n",
       "      <th>cid3_y</th>\n",
       "    </tr>\n",
       "  </thead>\n",
       "  <tbody>\n",
       "    <tr>\n",
       "      <th>0</th>\n",
       "      <td>jfs/t1/193817/9/42691/119291/667e8c77Fea571c39...</td>\n",
       "      <td>1229.0</td>\n",
       "      <td>32.0</td>\n",
       "      <td>50.96</td>\n",
       "      <td>5.0</td>\n",
       "      <td>1.010354e+13</td>\n",
       "      <td>0.0</td>\n",
       "      <td>10995.0</td>\n",
       "      <td>670.0</td>\n",
       "      <td>686.0</td>\n",
       "      <td>1047.0</td>\n",
       "      <td>14151.0</td>\n",
       "      <td>13496968.0</td>\n",
       "      <td>667e8c77Fea571c39_828c9e4956e6f12f</td>\n",
       "      <td>667e8c77Fea571c39_828c9e4956e6f12f</td>\n",
       "      <td>txt</td>\n",
       "      <td>1047</td>\n",
       "    </tr>\n",
       "    <tr>\n",
       "      <th>1</th>\n",
       "      <td>jfs/t1/193817/9/42691/119291/667e8c77Fea571c39...</td>\n",
       "      <td>1229.0</td>\n",
       "      <td>32.0</td>\n",
       "      <td>50.96</td>\n",
       "      <td>5.0</td>\n",
       "      <td>1.010354e+13</td>\n",
       "      <td>0.0</td>\n",
       "      <td>10995.0</td>\n",
       "      <td>670.0</td>\n",
       "      <td>686.0</td>\n",
       "      <td>1047.0</td>\n",
       "      <td>14151.0</td>\n",
       "      <td>13496968.0</td>\n",
       "      <td>667e8c77Fea571c39_828c9e4956e6f12f</td>\n",
       "      <td>667e8c77Fea571c39_828c9e4956e6f12f</td>\n",
       "      <td>txt</td>\n",
       "      <td>1047</td>\n",
       "    </tr>\n",
       "    <tr>\n",
       "      <th>2</th>\n",
       "      <td>jfs/t1/193817/9/42691/119291/667e8c77Fea571c39...</td>\n",
       "      <td>1229.0</td>\n",
       "      <td>32.0</td>\n",
       "      <td>50.96</td>\n",
       "      <td>5.0</td>\n",
       "      <td>1.010354e+13</td>\n",
       "      <td>0.0</td>\n",
       "      <td>10995.0</td>\n",
       "      <td>670.0</td>\n",
       "      <td>686.0</td>\n",
       "      <td>1047.0</td>\n",
       "      <td>14151.0</td>\n",
       "      <td>13496968.0</td>\n",
       "      <td>667e8c77Fea571c39_828c9e4956e6f12f</td>\n",
       "      <td>667e8c77Fea571c39_828c9e4956e6f12f</td>\n",
       "      <td>txt</td>\n",
       "      <td>1047</td>\n",
       "    </tr>\n",
       "    <tr>\n",
       "      <th>3</th>\n",
       "      <td>jfs/t1/235708/21/21076/50933/667e8d8cFd1e12884...</td>\n",
       "      <td>961.0</td>\n",
       "      <td>13.0</td>\n",
       "      <td>8.80</td>\n",
       "      <td>2.0</td>\n",
       "      <td>1.010541e+13</td>\n",
       "      <td>0.0</td>\n",
       "      <td>10995.0</td>\n",
       "      <td>670.0</td>\n",
       "      <td>686.0</td>\n",
       "      <td>1047.0</td>\n",
       "      <td>14151.0</td>\n",
       "      <td>13496968.0</td>\n",
       "      <td>667e8d8cFd1e12884_b77cc342352a7b11</td>\n",
       "      <td>667e8d8cFd1e12884_b77cc342352a7b11</td>\n",
       "      <td>txt</td>\n",
       "      <td>1047</td>\n",
       "    </tr>\n",
       "    <tr>\n",
       "      <th>4</th>\n",
       "      <td>jfs/t1/235708/21/21076/50933/667e8d8cFd1e12884...</td>\n",
       "      <td>961.0</td>\n",
       "      <td>13.0</td>\n",
       "      <td>8.80</td>\n",
       "      <td>2.0</td>\n",
       "      <td>1.010541e+13</td>\n",
       "      <td>0.0</td>\n",
       "      <td>10995.0</td>\n",
       "      <td>670.0</td>\n",
       "      <td>686.0</td>\n",
       "      <td>1047.0</td>\n",
       "      <td>14151.0</td>\n",
       "      <td>13496968.0</td>\n",
       "      <td>667e8d8cFd1e12884_b77cc342352a7b11</td>\n",
       "      <td>667e8d8cFd1e12884_b77cc342352a7b11</td>\n",
       "      <td>txt</td>\n",
       "      <td>1047</td>\n",
       "    </tr>\n",
       "  </tbody>\n",
       "</table>\n",
       "</div>"
      ],
      "text/plain": [
       "                                             img_url      uv  click_uv  \\\n",
       "0  jfs/t1/193817/9/42691/119291/667e8c77Fea571c39...  1229.0      32.0   \n",
       "1  jfs/t1/193817/9/42691/119291/667e8c77Fea571c39...  1229.0      32.0   \n",
       "2  jfs/t1/193817/9/42691/119291/667e8c77Fea571c39...  1229.0      32.0   \n",
       "3  jfs/t1/235708/21/21076/50933/667e8d8cFd1e12884...   961.0      13.0   \n",
       "4  jfs/t1/235708/21/21076/50933/667e8d8cFd1e12884...   961.0      13.0   \n",
       "\n",
       "   gmv_cj  sale_qtty_cj           sku  img_type    bu_id   cid1   cid2  \\\n",
       "0   50.96           5.0  1.010354e+13       0.0  10995.0  670.0  686.0   \n",
       "1   50.96           5.0  1.010354e+13       0.0  10995.0  670.0  686.0   \n",
       "2   50.96           5.0  1.010354e+13       0.0  10995.0  670.0  686.0   \n",
       "3    8.80           2.0  1.010541e+13       0.0  10995.0  670.0  686.0   \n",
       "4    8.80           2.0  1.010541e+13       0.0  10995.0  670.0  686.0   \n",
       "\n",
       "   cid3_x  main_brand_code     shop_id                       matching_part  \\\n",
       "0  1047.0          14151.0  13496968.0  667e8c77Fea571c39_828c9e4956e6f12f   \n",
       "1  1047.0          14151.0  13496968.0  667e8c77Fea571c39_828c9e4956e6f12f   \n",
       "2  1047.0          14151.0  13496968.0  667e8c77Fea571c39_828c9e4956e6f12f   \n",
       "3  1047.0          14151.0  13496968.0  667e8d8cFd1e12884_b77cc342352a7b11   \n",
       "4  1047.0          14151.0  13496968.0  667e8d8cFd1e12884_b77cc342352a7b11   \n",
       "\n",
       "                                  图片名   分类  cid3_y  \n",
       "0  667e8c77Fea571c39_828c9e4956e6f12f  txt    1047  \n",
       "1  667e8c77Fea571c39_828c9e4956e6f12f  txt    1047  \n",
       "2  667e8c77Fea571c39_828c9e4956e6f12f  txt    1047  \n",
       "3  667e8d8cFd1e12884_b77cc342352a7b11  txt    1047  \n",
       "4  667e8d8cFd1e12884_b77cc342352a7b11  txt    1047  "
      ]
     },
     "execution_count": 46,
     "metadata": {},
     "output_type": "execute_result"
    }
   ],
   "source": [
    "merged_df.head()"
   ]
  },
  {
   "cell_type": "code",
   "execution_count": null,
   "metadata": {},
   "outputs": [],
   "source": []
  }
 ],
 "metadata": {
  "kernelspec": {
   "display_name": "base",
   "language": "python",
   "name": "python3"
  },
  "language_info": {
   "codemirror_mode": {
    "name": "ipython",
    "version": 3
   },
   "file_extension": ".py",
   "mimetype": "text/x-python",
   "name": "python",
   "nbconvert_exporter": "python",
   "pygments_lexer": "ipython3",
   "version": "3.10.14"
  }
 },
 "nbformat": 4,
 "nbformat_minor": 2
}
