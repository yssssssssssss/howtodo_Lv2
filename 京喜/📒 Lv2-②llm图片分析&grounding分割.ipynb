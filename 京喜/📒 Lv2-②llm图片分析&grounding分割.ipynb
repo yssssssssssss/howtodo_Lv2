{
 "cells": [
  {
   "cell_type": "markdown",
   "metadata": {},
   "source": [
    "# stpe1 - 利用LLM来对图片进行分析"
   ]
  },
  {
   "cell_type": "code",
   "execution_count": null,
   "metadata": {},
   "outputs": [],
   "source": [
    "# 读取一个文件夹,\n",
    "\n",
    "\n",
    "import os\n",
    "import base64\n",
    "import requests\n",
    "import json\n",
    "import pandas as pd\n",
    "import ujson as json\n",
    "from openai import OpenAI\n",
    "import os\n",
    "\n",
    "\n",
    "\n",
    "# 设置API密钥和基础URL\n",
    "api_key = \"35f54cc4-be7a-4414-808e-f5f9f0194d4f\"\n",
    "api_base = \"http://gpt-proxy.jd.com/v1/chat/completions\"\n",
    "client = OpenAI(api_key=api_key, base_url=api_base)\n",
    "\n",
    "\n",
    "\n",
    "# Function to encode the image\n",
    "def encode_image(image_path):\n",
    "    with open(image_path, \"rb\") as image_file:\n",
    "        return base64.b64encode(image_file.read()).decode('utf-8')\n",
    "\n",
    "# Path to your image folder\n",
    "image_folder = \"D://code//data//background_color//服饰鞋靴箱包//女士春夏上装//grounding_output//test1\"\n",
    "\n",
    "# Initialize a list to store the results\n",
    "results = []\n",
    "\n",
    "# Loop through each image in the folder\n",
    "for filename in os.listdir(image_folder):\n",
    "    if filename.endswith(\".jpg\") or filename.endswith(\".png\"):\n",
    "        image_path = os.path.join(image_folder, filename)\n",
    "        base64_image = encode_image(image_path)\n",
    "\n",
    "        headers = {\n",
    "            \"Content-Type\": \"application/json\",\n",
    "            \"Authorization\": f\"Bearer {api_key}\"\n",
    "        }\n",
    "\n",
    "        payload = {\n",
    "            \"model\": \"gpt-4o-mini\",\n",
    "            \"messages\": [\n",
    "                {\n",
    "                    \"role\": \"user\",\n",
    "                    \"content\": [\n",
    "                        {\n",
    "                            \"type\": \"text\",\n",
    "                            \"text\": '''\n",
    "                                    你是一个优秀的设计师和数据分析师. 请描述画面的整体类型, 需要包含如下维度:\n",
    "                                    1.价促类型(只要出现价格信息/促销信息/满减/买赠等营销活动信息),功能类型(以商品功能/卖点/细节等信息为主),白底图(背景为白色的图片),场景图(背景为非白底图);\n",
    "                                    2.请描述画面中背景的视觉风格/色彩/背景中包含的视觉元素/是否模糊/背景类型风格\n",
    "                                    3.请描述画面中是否存在logo\n",
    "                                    4.请描述是否存在除商品主体外的小元素, 小元素的定义是指商品主体和logo以外的非文字类的元素(特别注意不要统计文字类),被单独分割出来,通常周边会填充颜色以和背景区别, 如: 图案/图标/形状/等, 并给出矩形框坐标;\n",
    "                                    5.请描述是否存在除商品主体外的细节图,细节图的定义是指商品主体以外的元素, 被单独分割出来, 通常周边会填充颜色以和背景区别, 如:放大的局部/材质描述/功能描述等,并给出矩形框坐标\n",
    "\n",
    "                                    以上结果需要按照统一的格式输出: \n",
    "                                    画面类型(价促类or功能类or白底图or场景图);\n",
    "                                    商品主体(具体的商品主体描述, 坐标(x1,y1), (x2,y2)); \n",
    "                                    视觉风格(具体的视觉风格描述); 色彩(具体色彩描述); \n",
    "                                    元素(具体的元素描述);\n",
    "                                    是否模糊(模糊或清晰);\n",
    "                                    小元素(是or否,描述元素内容,给出矩形框坐标);\n",
    "                                    细节图(是or否,描述细节内容,给出矩形框坐标) ; \n",
    "                                    画面内容(具体的文字描述, 如果是前面已经出现过的内容就不要描述);\n",
    "                                    '''\n",
    "\n",
    "                        },\n",
    "                        {\n",
    "                            \"type\": \"image_url\",\n",
    "                            \"image_url\": {\n",
    "                                \"url\": f\"data:image/jpeg;base64,{base64_image}\"\n",
    "                            }\n",
    "                        }\n",
    "                    ]\n",
    "                }\n",
    "            ],\n",
    "            \"max_tokens\": 700\n",
    "        }\n",
    "\n",
    "        response = requests.post(\"http://gpt-proxy.jd.com/v1/chat/completions\", headers=headers, json=payload)\n",
    "        # print(response.json())\n",
    "\n",
    "        result = response.json()\n",
    "        generated_text = result['choices'][0]['message']['content']\n",
    "        # print(generated_text)\n",
    "\n",
    "    # Create a dictionary with the image filename and generated text\n",
    "        image_result = {\"filename\": filename, \"generated_text\": generated_text}\n",
    "        results.append(image_result)\n",
    "\n",
    "\n",
    "\n",
    "# # Save the results as a JSON file\n",
    "# with open('D://code//data//background_color//服饰鞋靴箱包//女士春夏上装//grounding_output//test1//image_results.json', 'w') as f:\n",
    "#     json.dump(results, f, indent=4)\n",
    "\n",
    "# Save the results as an Excel file\n",
    "df = pd.DataFrame(results)\n",
    "df.to_excel('D://code//data//background_color//服饰鞋靴箱包//女士春夏上装//grounding_output//test1//image_results.xlsx', index=False)\n",
    "\n",
    "\n",
    "\n"
   ]
  },
  {
   "cell_type": "markdown",
   "metadata": {},
   "source": [
    "# step2 - 将图片进行分割"
   ]
  },
  {
   "cell_type": "code",
   "execution_count": null,
   "metadata": {},
   "outputs": [],
   "source": [
    "# import os\n",
    "# import numpy as np\n",
    "# import torch\n",
    "# import gc\n",
    "# from tqdm import tqdm\n",
    "# import matplotlib.pyplot as plt\n",
    "# from torchvision.ops import box_convert\n",
    "# from groundingdino.util.inference import load_model, load_image, predict, annotate\n",
    "# from segment_anything import sam_model_registry, SamPredictor\n",
    "# import openpyxl\n",
    "\n",
    "# # 忽略特定警告\n",
    "# import warnings\n",
    "# warnings.filterwarnings(\"ignore\", category=FutureWarning, message=\".*device.*\")\n",
    "# warnings.filterwarnings(\"ignore\", category=UserWarning, message=\".*requires_grad.*\")\n",
    "\n",
    "# # 使用 GPU 设备（如果可用）\n",
    "# device = torch.device('cuda' if torch.cuda.is_available() else 'cpu')\n",
    "# print(f\"Using device: {device}\")\n",
    "\n",
    "# # 加载 GroundingDINO 模型\n",
    "# cfg_path = r'D://code//CV//GroundingDINO//groundingdino//config//GroundingDINO_SwinT_OGC.py'\n",
    "# weight_path = r'd://code//CV//GroundingDINO//weight//groundingdino_swint_ogc.pth'\n",
    "# gdino_model = load_model(cfg_path, weight_path)\n",
    "# gdino_model.to(device)\n",
    "# BOX_THRESHOLD = 0.35\n",
    "# TEXT_THRESHOLD = 0.35\n",
    "\n",
    "# # 加载 Segment Anything 模型\n",
    "# sam_checkpoint = r\"D://aigc//ComfyUI_windows_portable//ComfyUI//models//sams//sam_vit_h_4b8939.pth\"\n",
    "# model_type = \"vit_h\"\n",
    "# sam = sam_model_registry[model_type](checkpoint=sam_checkpoint)\n",
    "# sam.to(device)\n",
    "\n",
    "\n",
    "# def process_images_in_folder_structure(input_folder, text_prompt):\n",
    "#     total_files = 0\n",
    "#     processed_files = 0\n",
    "\n",
    "#     # 获取二级文件夹列表\n",
    "#     second_level_folders = [f.path for f in os.scandir(input_folder) if f.is_dir()]\n",
    "\n",
    "#     for second_folder in second_level_folders:\n",
    "#         print(f\"Processing second level folder: {second_folder}\")\n",
    "        \n",
    "#         # 获取三级文件夹列表\n",
    "#         third_level_folders = [f.path for f in os.scandir(second_folder) if f.is_dir()]\n",
    "\n",
    "#         for third_folder in third_level_folders:\n",
    "#             print(f\"Processing third level folder: {third_folder}\")\n",
    "            \n",
    "#             output_folder = os.path.join(third_folder, 'grounding_output')\n",
    "#             if not os.path.exists(output_folder):\n",
    "#                 os.makedirs(output_folder)\n",
    "\n",
    "#             image_files = [f for f in os.listdir(third_folder) if f.lower().endswith((\".jpg\", \".png\"))]\n",
    "#             total_files += len(image_files)\n",
    "\n",
    "#             for filename in tqdm(image_files, desc=f\"Processing {third_folder}\"):\n",
    "#                 ip = os.path.join(third_folder, filename)\n",
    "#                 try:\n",
    "#                     image, boxes = get_box_from_gdino_with_text_prompt(ip, text_prompt)\n",
    "#                     if image is not None and boxes is not None:\n",
    "#                         seg_with_sam_with_box_prompt(image, boxes, text_prompt, output_folder, ip)\n",
    "#                         processed_files += 1\n",
    "#                 except Exception as e:\n",
    "#                     print(f\"处理文件 {filename} 时出错: {e}\")\n",
    "#                 finally:\n",
    "#                     plt.close('all')\n",
    "#                     gc.collect()\n",
    "\n",
    "#     print(f\"总文件数: {total_files}\")\n",
    "#     print(f\"成功处理的文件数: {processed_files}\")\n",
    "\n",
    "\n",
    "# def get_box_from_gdino_with_text_prompt(ip, text_prompt):\n",
    "#     try:\n",
    "#         image_source, image = load_image(ip)\n",
    "#         if image_source is None or image is None:\n",
    "#             print(f\"无法加载图像: {ip}\")\n",
    "#             return None, None\n",
    "\n",
    "#         h, w = image_source.shape[:2]\n",
    "#         boxes, logits, phrases = predict(\n",
    "#             model=gdino_model,\n",
    "#             image=image,\n",
    "#             caption=text_prompt,\n",
    "#             box_threshold=BOX_THRESHOLD,\n",
    "#             text_threshold=TEXT_THRESHOLD,\n",
    "#             device=device\n",
    "#         )\n",
    "\n",
    "#         # 确保 boxes 在正确的设备上\n",
    "#         boxes = boxes.to(device)\n",
    "\n",
    "#         # 创建缩放张量并移动到正确的设备\n",
    "#         scale_tensor = torch.tensor([w, h, w, h], dtype=boxes.dtype, device=device)\n",
    "\n",
    "#         # 进行缩放操作\n",
    "#         boxes = boxes * scale_tensor\n",
    "\n",
    "#         # 转换坐标格式\n",
    "#         xyxy = box_convert(boxes=boxes, in_fmt=\"cxcywh\", out_fmt=\"xyxy\").cpu().numpy()\n",
    "\n",
    "#         del image, logits, phrases, boxes, scale_tensor\n",
    "#         gc.collect()\n",
    "#         return image_source, xyxy\n",
    "#     except Exception as e:\n",
    "#         print(f\"加载图像 {ip} 时出错: {e}\")\n",
    "#         return None, None\n",
    "\n",
    "\n",
    "# def seg_with_sam_with_box_prompt(image, boxes, text_prompt, output_folder, ip):\n",
    "#     predictor = SamPredictor(sam)\n",
    "#     predictor.set_image(image)\n",
    "#     merged_mask = None\n",
    "\n",
    "#     for idx, box in enumerate(boxes):\n",
    "#         input_box = box.astype(int)\n",
    "#         masks, _, _ = predictor.predict(\n",
    "#             point_coords=None,\n",
    "#             point_labels=None,\n",
    "#             box=input_box[None, :],\n",
    "#             multimask_output=False,\n",
    "#         )\n",
    "#         if masks is not None and len(masks) > 0:\n",
    "#             if merged_mask is None:\n",
    "#                 merged_mask = masks[0]\n",
    "#             else:\n",
    "#                 merged_mask += masks[0]\n",
    "\n",
    "#     if merged_mask is not None:\n",
    "#         merged_mask = np.where(merged_mask > 0, 1, 0)\n",
    "#         if np.any(merged_mask):\n",
    "#             base_name = os.path.basename(ip).split('.')[0]\n",
    "#             output_filename = f\"{base_name}.jpg\"\n",
    "#             output_path = os.path.join(output_folder, output_filename)\n",
    "#             save_masked_image(image, merged_mask, output_path, boxes)\n",
    "\n",
    "#             # 记录四个顶点的坐标\n",
    "#             vertex_coords = [box for box in boxes]\n",
    "\n",
    "#             # 将图片名和坐标保存到 Excel 文件中\n",
    "#             base_name = os.path.basename(ip).split('.')[0]\n",
    "#             excel_file = os.path.join(output_folder, 'grounding_results.xlsx')\n",
    "#             if not os.path.exists(excel_file):\n",
    "#                 workbook = openpyxl.Workbook()\n",
    "#                 worksheet = workbook.active\n",
    "#                 worksheet.append(['Image Name', 'x1', 'y1', 'x2', 'y2', 'x3', 'y3', 'x4', 'y4'])\n",
    "#             else:\n",
    "#                 workbook = openpyxl.load_workbook(excel_file)\n",
    "#                 worksheet = workbook.active\n",
    "\n",
    "#             seen_vertices = set()\n",
    "#             for i, box in enumerate(boxes):\n",
    "#                 # 检查图像名称是否已经在 Excel 中\n",
    "#                 if base_name not in set(worksheet['A']):\n",
    "#                     worksheet.append([\n",
    "#                         f\"{base_name}_{i + 1}\",\n",
    "#                         box[0], box[1],  # 左上角顶点\n",
    "#                         box[2], box[1],  # 右上角顶点\n",
    "#                         box[2], box[3],  # 右下角顶点\n",
    "#                         box[0], box[3]  # 左下角顶点\n",
    "#                     ])\n",
    "\n",
    "#             workbook.save(excel_file)\n",
    "\n",
    "\n",
    "# def save_masked_image(image, mask, output_path, boxes):\n",
    "#     plt.figure(figsize=(8, 8))\n",
    "#     plt.imshow(image)\n",
    "#     show_mask(mask, plt.gca())\n",
    "\n",
    "#     # 绘制矩形框\n",
    "#     # for box in boxes:\n",
    "#     # plt.gca().add_patch(plt.Rectangle((box[0], box[1]), box[2]-box[0], box[3]-box[1], fill=False, edgecolor='r', linewidth=2))\n",
    "#     # plt.gca().add_patch(plt.Rectangle((box[0], box[1]), box[2]-box[0], box[3]-box[1], fill=False,  linewidth=2))\n",
    "\n",
    "#     plt.axis('off')\n",
    "#     plt.savefig(output_path, dpi=100, bbox_inches='tight', pad_inches=0, transparent=True)\n",
    "#     plt.close('all')\n",
    "#     gc.collect()\n",
    "\n",
    "\n",
    "# def show_mask(mask, ax, random_color=False):\n",
    "#     color = np.concatenate([np.random.random(3), np.array([0.6])], axis=0) if random_color else np.array(\n",
    "#         [30 / 255, 144 / 255, 255 / 255, 1])\n",
    "#     h, w = mask.shape[-2:]\n",
    "#     mask_image = mask.reshape(h, w, 1) * color.reshape(1, 1, -1)\n",
    "#     ax.imshow(mask_image)\n",
    "\n",
    "\n",
    "# if __name__ == '__main__':\n",
    "#     input_folder = \"D://code//data//howtodo_Lv2//\"\n",
    "#     text = 'person,shoes'\n",
    "#     process_images_in_folder_structure(input_folder, text)\n",
    "#     print('完结完结完结')\n",
    "\n",
    "\n"
   ]
  },
  {
   "cell_type": "code",
   "execution_count": null,
   "metadata": {},
   "outputs": [
    {
     "name": "stdout",
     "output_type": "stream",
     "text": [
      "Using device: cuda\n"
     ]
    },
    {
     "name": "stderr",
     "output_type": "stream",
     "text": [
      "c:\\ProgramData\\miniconda3\\lib\\site-packages\\torch\\functional.py:504: UserWarning: torch.meshgrid: in an upcoming release, it will be required to pass the indexing argument. (Triggered internally at C:\\cb\\pytorch_1000000000000\\work\\aten\\src\\ATen\\native\\TensorShape.cpp:3484.)\n",
      "  return _VF.meshgrid(tensors, **kwargs)  # type: ignore[attr-defined]\n"
     ]
    },
    {
     "name": "stdout",
     "output_type": "stream",
     "text": [
      "final text_encoder_type: bert-base-uncased\n"
     ]
    },
    {
     "name": "stderr",
     "output_type": "stream",
     "text": [
      "c:\\ProgramData\\miniconda3\\lib\\site-packages\\transformers\\tokenization_utils_base.py:1602: FutureWarning: `clean_up_tokenization_spaces` was not set. It will be set to `True` by default. This behavior will be deprecated in transformers v4.45, and will be then set to `False` by default. For more details check this issue: https://github.com/huggingface/transformers/issues/31884\n",
      "  warnings.warn(\n"
     ]
    },
    {
     "name": "stdout",
     "output_type": "stream",
     "text": [
      "Processing second level folder: D://code//data//howtodo_Lv2//女士春夏下装_from_0501\n",
      "Processing third level folder: D://code//data//howtodo_Lv2//女士春夏下装_from_0501\\9715\n"
     ]
    },
    {
     "name": "stderr",
     "output_type": "stream",
     "text": [
      "Processing D://code//data//howtodo_Lv2//女士春夏下装_from_0501\\9715: 100%|██████████| 1299/1299 [56:33<00:00,  2.61s/it]\n"
     ]
    },
    {
     "name": "stdout",
     "output_type": "stream",
     "text": [
      "Processing third level folder: D://code//data//howtodo_Lv2//女士春夏下装_from_0501\\9716\n"
     ]
    },
    {
     "name": "stderr",
     "output_type": "stream",
     "text": [
      "Processing D://code//data//howtodo_Lv2//女士春夏下装_from_0501\\9716:  87%|████████▋ | 738/848 [48:37<07:29,  4.08s/it]"
     ]
    },
    {
     "name": "stdout",
     "output_type": "stream",
     "text": [
      "处理文件 66e1dfa3Fce085f9b_5dbebdc1711e542c.jpg 时出错: local variable 'masks' referenced before assignment\n"
     ]
    },
    {
     "name": "stderr",
     "output_type": "stream",
     "text": [
      "Processing D://code//data//howtodo_Lv2//女士春夏下装_from_0501\\9716: 100%|██████████| 848/848 [57:15<00:00,  4.05s/it]\n"
     ]
    },
    {
     "name": "stdout",
     "output_type": "stream",
     "text": [
      "Processing third level folder: D://code//data//howtodo_Lv2//女士春夏下装_from_0501\\9717\n"
     ]
    },
    {
     "name": "stderr",
     "output_type": "stream",
     "text": [
      "Processing D://code//data//howtodo_Lv2//女士春夏下装_from_0501\\9717:  16%|█▋        | 244/1493 [19:23<1:32:47,  4.46s/it]"
     ]
    },
    {
     "name": "stdout",
     "output_type": "stream",
     "text": [
      "处理文件 654f4285F2551472e_9c9d4af7cb6638c6.jpg 时出错: local variable 'masks' referenced before assignment\n"
     ]
    },
    {
     "name": "stderr",
     "output_type": "stream",
     "text": [
      "Processing D://code//data//howtodo_Lv2//女士春夏下装_from_0501\\9717:  53%|█████▎    | 796/1493 [1:09:58<1:01:17,  5.28s/it]"
     ]
    },
    {
     "name": "stdout",
     "output_type": "stream",
     "text": [
      "处理文件 6659eac1F6a516a2e_b249e5ee85f995a4.jpg 时出错: local variable 'masks' referenced before assignment\n"
     ]
    },
    {
     "name": "stderr",
     "output_type": "stream",
     "text": [
      "Processing D://code//data//howtodo_Lv2//女士春夏下装_from_0501\\9717: 100%|██████████| 1493/1493 [2:27:08<00:00,  5.91s/it] \n"
     ]
    },
    {
     "name": "stdout",
     "output_type": "stream",
     "text": [
      "Processing second level folder: D://code//data//howtodo_Lv2//男士春夏上装_from_0501\n",
      "Processing third level folder: D://code//data//howtodo_Lv2//男士春夏上装_from_0501\\12005\n"
     ]
    },
    {
     "name": "stderr",
     "output_type": "stream",
     "text": [
      "Processing D://code//data//howtodo_Lv2//男士春夏上装_from_0501\\12005: 100%|██████████| 168/168 [19:31<00:00,  6.97s/it]\n"
     ]
    },
    {
     "name": "stdout",
     "output_type": "stream",
     "text": [
      "Processing third level folder: D://code//data//howtodo_Lv2//男士春夏上装_from_0501\\1348\n"
     ]
    },
    {
     "name": "stderr",
     "output_type": "stream",
     "text": [
      "Processing D://code//data//howtodo_Lv2//男士春夏上装_from_0501\\1348:  39%|███▊      | 604/1559 [1:15:43<1:54:05,  7.17s/it]"
     ]
    },
    {
     "name": "stdout",
     "output_type": "stream",
     "text": [
      "处理文件 662b1a72F5c03097b_674f1fc20379f283.jpg 时出错: local variable 'masks' referenced before assignment\n"
     ]
    },
    {
     "name": "stderr",
     "output_type": "stream",
     "text": [
      "Processing D://code//data//howtodo_Lv2//男士春夏上装_from_0501\\1348:  54%|█████▎    | 836/1559 [1:47:09<1:28:35,  7.35s/it]"
     ]
    },
    {
     "name": "stdout",
     "output_type": "stream",
     "text": [
      "处理文件 66569cd0F96d14f35_b85f181f547f160d.jpg 时出错: local variable 'masks' referenced before assignment\n"
     ]
    },
    {
     "name": "stderr",
     "output_type": "stream",
     "text": [
      "Processing D://code//data//howtodo_Lv2//男士春夏上装_from_0501\\1348:  54%|█████▍    | 838/1559 [1:47:22<1:22:46,  6.89s/it]"
     ]
    },
    {
     "name": "stdout",
     "output_type": "stream",
     "text": [
      "处理文件 66584ca6F4561b44d_93a42041beeebcc4.jpg 时出错: local variable 'masks' referenced before assignment\n"
     ]
    },
    {
     "name": "stderr",
     "output_type": "stream",
     "text": [
      "Processing D://code//data//howtodo_Lv2//男士春夏上装_from_0501\\1348: 100%|██████████| 1559/1559 [3:34:21<00:00,  8.25s/it]  \n"
     ]
    },
    {
     "name": "stdout",
     "output_type": "stream",
     "text": [
      "Processing third level folder: D://code//data//howtodo_Lv2//男士春夏上装_from_0501\\1349\n"
     ]
    },
    {
     "name": "stderr",
     "output_type": "stream",
     "text": [
      "Processing D://code//data//howtodo_Lv2//男士春夏上装_from_0501\\1349:   5%|▍         | 65/1314 [10:04<2:54:06,  8.36s/it]"
     ]
    },
    {
     "name": "stdout",
     "output_type": "stream",
     "text": [
      "处理文件 642ad725Fc7096428_f356ac9ab8c31aa0.jpg 时出错: local variable 'masks' referenced before assignment\n"
     ]
    },
    {
     "name": "stderr",
     "output_type": "stream",
     "text": [
      "Processing D://code//data//howtodo_Lv2//男士春夏上装_from_0501\\1349:  37%|███▋      | 483/1314 [1:17:50<2:05:16,  9.05s/it]"
     ]
    },
    {
     "name": "stdout",
     "output_type": "stream",
     "text": [
      "处理文件 660a641fF3e1c9317_7206b11d2f81d78e.jpg 时出错: local variable 'masks' referenced before assignment\n"
     ]
    },
    {
     "name": "stderr",
     "output_type": "stream",
     "text": [
      "Processing D://code//data//howtodo_Lv2//男士春夏上装_from_0501\\1349:  49%|████▉     | 645/1314 [1:45:36<1:57:06, 10.50s/it]"
     ]
    },
    {
     "name": "stdout",
     "output_type": "stream",
     "text": [
      "处理文件 662b75a8Fb6e65316_1903b86c75565132.jpg 时出错: Unable to allocate 11.6 MiB for an array with shape (616, 616, 4) and data type float64\n"
     ]
    },
    {
     "name": "stderr",
     "output_type": "stream",
     "text": [
      "Processing D://code//data//howtodo_Lv2//男士春夏上装_from_0501\\1349:  49%|████▉     | 646/1314 [1:45:43<1:43:54,  9.33s/it]"
     ]
    },
    {
     "name": "stdout",
     "output_type": "stream",
     "text": [
      "处理文件 662bb2acF167c3506_e6c41d62d26ac23c.jpg 时出错: Unable to allocate 19.5 MiB for an array with shape (800, 800, 4) and data type float64\n"
     ]
    },
    {
     "name": "stderr",
     "output_type": "stream",
     "text": [
      "Processing D://code//data//howtodo_Lv2//男士春夏上装_from_0501\\1349:  49%|████▉     | 647/1314 [1:45:49<1:34:04,  8.46s/it]"
     ]
    },
    {
     "name": "stdout",
     "output_type": "stream",
     "text": [
      "处理文件 662c537dFe91cd550_438c1308f6e80fef.jpg 时出错: Unable to allocate 19.5 MiB for an array with shape (800, 800, 4) and data type float64\n"
     ]
    },
    {
     "name": "stderr",
     "output_type": "stream",
     "text": [
      "Processing D://code//data//howtodo_Lv2//男士春夏上装_from_0501\\1349:  49%|████▉     | 648/1314 [1:45:56<1:27:08,  7.85s/it]"
     ]
    },
    {
     "name": "stdout",
     "output_type": "stream",
     "text": [
      "处理文件 662c91d4F1cdc719b_241e9b7668aa2143.jpg 时出错: Unable to allocate 1.83 MiB for an array with shape (800, 800, 3) and data type bool\n"
     ]
    },
    {
     "name": "stderr",
     "output_type": "stream",
     "text": [
      "Processing D://code//data//howtodo_Lv2//男士春夏上装_from_0501\\1349:  49%|████▉     | 649/1314 [1:46:02<1:22:08,  7.41s/it]"
     ]
    },
    {
     "name": "stdout",
     "output_type": "stream",
     "text": [
      "处理文件 662cc069F516723a0_b8b99ab43290c103.jpg 时出错: Unable to allocate 2.44 MiB for an array with shape (800, 800) and data type int32\n"
     ]
    },
    {
     "name": "stderr",
     "output_type": "stream",
     "text": [
      "Processing D://code//data//howtodo_Lv2//男士春夏上装_from_0501\\1349:  49%|████▉     | 650/1314 [1:46:08<1:18:20,  7.08s/it]"
     ]
    },
    {
     "name": "stdout",
     "output_type": "stream",
     "text": [
      "处理文件 662cc323Fb8322e70_2878fcc8030e8785.jpg 时出错: CUDA out of memory. Tried to allocate 1024.00 MiB (GPU 0; 23.99 GiB total capacity; 5.25 GiB already allocated; 15.03 GiB free; 6.34 GiB reserved in total by PyTorch) If reserved memory is >> allocated memory try setting max_split_size_mb to avoid fragmentation.  See documentation for Memory Management and PYTORCH_CUDA_ALLOC_CONF\n"
     ]
    },
    {
     "name": "stderr",
     "output_type": "stream",
     "text": [
      "Processing D://code//data//howtodo_Lv2//男士春夏上装_from_0501\\1349:  50%|████▉     | 651/1314 [1:46:15<1:18:13,  7.08s/it]"
     ]
    },
    {
     "name": "stdout",
     "output_type": "stream",
     "text": [
      "处理文件 662cc4cbF092d6860_0e007b2c393ba28f.jpg 时出错: CUDA out of memory. Tried to allocate 1024.00 MiB (GPU 0; 23.99 GiB total capacity; 5.25 GiB already allocated; 15.03 GiB free; 6.34 GiB reserved in total by PyTorch) If reserved memory is >> allocated memory try setting max_split_size_mb to avoid fragmentation.  See documentation for Memory Management and PYTORCH_CUDA_ALLOC_CONF\n"
     ]
    },
    {
     "name": "stderr",
     "output_type": "stream",
     "text": [
      "Processing D://code//data//howtodo_Lv2//男士春夏上装_from_0501\\1349:  50%|████▉     | 652/1314 [1:46:22<1:15:12,  6.82s/it]"
     ]
    },
    {
     "name": "stdout",
     "output_type": "stream",
     "text": [
      "处理文件 662cc4e3F8f2fcf60_f772a93f0acee4bc.jpg 时出错: CUDA out of memory. Tried to allocate 1024.00 MiB (GPU 0; 23.99 GiB total capacity; 5.25 GiB already allocated; 15.03 GiB free; 6.34 GiB reserved in total by PyTorch) If reserved memory is >> allocated memory try setting max_split_size_mb to avoid fragmentation.  See documentation for Memory Management and PYTORCH_CUDA_ALLOC_CONF\n"
     ]
    },
    {
     "name": "stderr",
     "output_type": "stream",
     "text": [
      "Processing D://code//data//howtodo_Lv2//男士春夏上装_from_0501\\1349:  50%|████▉     | 653/1314 [1:46:28<1:13:24,  6.66s/it]"
     ]
    },
    {
     "name": "stdout",
     "output_type": "stream",
     "text": [
      "处理文件 662cc4ffF5c7dd1bf_15b740417769bebd.jpg 时出错: CUDA out of memory. Tried to allocate 1024.00 MiB (GPU 0; 23.99 GiB total capacity; 5.25 GiB already allocated; 15.03 GiB free; 6.34 GiB reserved in total by PyTorch) If reserved memory is >> allocated memory try setting max_split_size_mb to avoid fragmentation.  See documentation for Memory Management and PYTORCH_CUDA_ALLOC_CONF\n"
     ]
    },
    {
     "name": "stderr",
     "output_type": "stream",
     "text": [
      "Processing D://code//data//howtodo_Lv2//男士春夏上装_from_0501\\1349:  50%|████▉     | 654/1314 [1:46:34<1:12:07,  6.56s/it]"
     ]
    },
    {
     "name": "stdout",
     "output_type": "stream",
     "text": [
      "处理文件 662cc516F7ebdd76f_ec6c76caa10d2d24.jpg 时出错: CUDA out of memory. Tried to allocate 1024.00 MiB (GPU 0; 23.99 GiB total capacity; 5.25 GiB already allocated; 15.03 GiB free; 6.34 GiB reserved in total by PyTorch) If reserved memory is >> allocated memory try setting max_split_size_mb to avoid fragmentation.  See documentation for Memory Management and PYTORCH_CUDA_ALLOC_CONF\n"
     ]
    },
    {
     "name": "stderr",
     "output_type": "stream",
     "text": [
      "Processing D://code//data//howtodo_Lv2//男士春夏上装_from_0501\\1349:  50%|████▉     | 655/1314 [1:46:40<1:10:50,  6.45s/it]"
     ]
    },
    {
     "name": "stdout",
     "output_type": "stream",
     "text": [
      "处理文件 662cc5f7Fc2867c51_a8201683ec9c0854.jpg 时出错: CUDA out of memory. Tried to allocate 1024.00 MiB (GPU 0; 23.99 GiB total capacity; 5.25 GiB already allocated; 15.03 GiB free; 6.34 GiB reserved in total by PyTorch) If reserved memory is >> allocated memory try setting max_split_size_mb to avoid fragmentation.  See documentation for Memory Management and PYTORCH_CUDA_ALLOC_CONF\n"
     ]
    },
    {
     "name": "stderr",
     "output_type": "stream",
     "text": [
      "Processing D://code//data//howtodo_Lv2//男士春夏上装_from_0501\\1349:  50%|████▉     | 656/1314 [1:46:47<1:10:06,  6.39s/it]"
     ]
    },
    {
     "name": "stdout",
     "output_type": "stream",
     "text": [
      "处理文件 662ccc5bF7a2ad847_8ad0e3d7aef201e0.jpg 时出错: Unable to allocate 19.5 MiB for an array with shape (800, 800, 4) and data type float64\n"
     ]
    },
    {
     "name": "stderr",
     "output_type": "stream",
     "text": [
      "Processing D://code//data//howtodo_Lv2//男士春夏上装_from_0501\\1349:  50%|█████     | 657/1314 [1:46:53<1:10:28,  6.44s/it]"
     ]
    },
    {
     "name": "stdout",
     "output_type": "stream",
     "text": [
      "处理文件 662cda1cF7b078429_6571ca87b073d39b.jpg 时出错: Unable to allocate 1.83 MiB for an array with shape (800, 800, 3) and data type bool\n"
     ]
    },
    {
     "name": "stderr",
     "output_type": "stream",
     "text": [
      "Processing D://code//data//howtodo_Lv2//男士春夏上装_from_0501\\1349:  50%|█████     | 658/1314 [1:47:00<1:10:04,  6.41s/it]"
     ]
    },
    {
     "name": "stdout",
     "output_type": "stream",
     "text": [
      "处理文件 662cda34F393ab523_8081bf52ad13cd6a.jpg 时出错: Unable to allocate 1.83 MiB for an array with shape (800, 800, 3) and data type uint8\n"
     ]
    },
    {
     "name": "stderr",
     "output_type": "stream",
     "text": [
      "Processing D://code//data//howtodo_Lv2//男士春夏上装_from_0501\\1349:  50%|█████     | 659/1314 [1:47:06<1:10:04,  6.42s/it]"
     ]
    },
    {
     "name": "stdout",
     "output_type": "stream",
     "text": [
      "处理文件 662cdf47Fa1495398_75d4600544c147f7.jpg 时出错: Unable to allocate 19.5 MiB for an array with shape (800, 800, 4) and data type float64\n"
     ]
    },
    {
     "name": "stderr",
     "output_type": "stream",
     "text": [
      "Processing D://code//data//howtodo_Lv2//男士春夏上装_from_0501\\1349:  50%|█████     | 660/1314 [1:47:12<1:09:26,  6.37s/it]"
     ]
    },
    {
     "name": "stdout",
     "output_type": "stream",
     "text": [
      "处理文件 662cea2cFc9b7647b_8abb125978c7a14a.jpg 时出错: Unable to allocate 19.5 MiB for an array with shape (800, 800, 4) and data type float64\n"
     ]
    },
    {
     "name": "stderr",
     "output_type": "stream",
     "text": [
      "Processing D://code//data//howtodo_Lv2//男士春夏上装_from_0501\\1349:  50%|█████     | 661/1314 [1:47:19<1:08:52,  6.33s/it]"
     ]
    },
    {
     "name": "stdout",
     "output_type": "stream",
     "text": [
      "处理文件 662cecafF97f1ec10_d5ada72e5e51fb7f.jpg 时出错: Unable to allocate 19.5 MiB for an array with shape (800, 800, 4) and data type float64\n"
     ]
    },
    {
     "name": "stderr",
     "output_type": "stream",
     "text": [
      "Processing D://code//data//howtodo_Lv2//男士春夏上装_from_0501\\1349:  50%|█████     | 662/1314 [1:47:25<1:09:18,  6.38s/it]"
     ]
    },
    {
     "name": "stdout",
     "output_type": "stream",
     "text": [
      "处理文件 662cee91Fd4ded4ee_076da1b5e86ba86f.jpg 时出错: Unable to allocate 19.5 MiB for an array with shape (800, 800, 4) and data type float64\n"
     ]
    },
    {
     "name": "stderr",
     "output_type": "stream",
     "text": [
      "Processing D://code//data//howtodo_Lv2//男士春夏上装_from_0501\\1349:  50%|█████     | 663/1314 [1:47:31<1:09:28,  6.40s/it]"
     ]
    },
    {
     "name": "stdout",
     "output_type": "stream",
     "text": [
      "处理文件 662cee92F36729cc2_43a9ce253d38a55c.jpg 时出错: Unable to allocate 1.83 MiB for an array with shape (800, 800, 3) and data type bool\n"
     ]
    },
    {
     "name": "stderr",
     "output_type": "stream",
     "text": [
      "Processing D://code//data//howtodo_Lv2//男士春夏上装_from_0501\\1349:  51%|█████     | 664/1314 [1:47:38<1:09:03,  6.37s/it]"
     ]
    },
    {
     "name": "stdout",
     "output_type": "stream",
     "text": [
      "处理文件 662cefcbF13f8ff00_377367e56c4ae1b2.jpg 时出错: Unable to allocate 19.5 MiB for an array with shape (800, 800, 4) and data type float64\n"
     ]
    },
    {
     "name": "stderr",
     "output_type": "stream",
     "text": [
      "Processing D://code//data//howtodo_Lv2//男士春夏上装_from_0501\\1349:  51%|█████     | 665/1314 [1:47:44<1:09:07,  6.39s/it]"
     ]
    },
    {
     "name": "stdout",
     "output_type": "stream",
     "text": [
      "处理文件 662cf0c0F6abe9e34_cb06b36b94161a32.jpg 时出错: Unable to allocate 19.5 MiB for an array with shape (800, 800, 4) and data type float64\n"
     ]
    },
    {
     "name": "stderr",
     "output_type": "stream",
     "text": [
      "Processing D://code//data//howtodo_Lv2//男士春夏上装_from_0501\\1349:  51%|█████     | 666/1314 [1:47:51<1:08:59,  6.39s/it]"
     ]
    }
   ],
   "source": [
    "# 经过cursor内存优化后的代码\n",
    "# 它获取的是三级文件夹中的图片\n",
    "\n",
    "import os\n",
    "import numpy as np\n",
    "import torch\n",
    "import gc\n",
    "from tqdm import tqdm\n",
    "import matplotlib.pyplot as plt\n",
    "from torchvision.ops import box_convert\n",
    "from groundingdino.util.inference import load_model, load_image, predict, annotate\n",
    "from segment_anything import sam_model_registry, SamPredictor\n",
    "import openpyxl\n",
    "from contextlib import contextmanager\n",
    "\n",
    "# 忽略特定警告\n",
    "import warnings\n",
    "warnings.filterwarnings(\"ignore\", category=FutureWarning, message=\".*device.*\")\n",
    "warnings.filterwarnings(\"ignore\", category=UserWarning, message=\".*requires_grad.*\")\n",
    "\n",
    "# 使用 GPU 设备（如果可用）\n",
    "device = torch.device('cuda' if torch.cuda.is_available() else 'cpu')\n",
    "print(f\"Using device: {device}\")\n",
    "\n",
    "# 加载 GroundingDINO 模型\n",
    "cfg_path = r'D://code//CV//GroundingDINO//groundingdino//config//GroundingDINO_SwinT_OGC.py'\n",
    "weight_path = r'd://code//CV//GroundingDINO//weight//groundingdino_swint_ogc.pth'\n",
    "gdino_model = load_model(cfg_path, weight_path)\n",
    "gdino_model.to(device)\n",
    "BOX_THRESHOLD = 0.35\n",
    "TEXT_THRESHOLD = 0.35\n",
    "\n",
    "# 加载 Segment Anything 模型\n",
    "sam_checkpoint = r\"D://aigc//ComfyUI_windows_portable//ComfyUI//models//sams//sam_vit_h_4b8939.pth\"\n",
    "model_type = \"vit_h\"\n",
    "sam = sam_model_registry[model_type](checkpoint=sam_checkpoint)\n",
    "sam.to(device)\n",
    "\n",
    "@contextmanager\n",
    "def torch_gc():\n",
    "    try:\n",
    "        yield\n",
    "    finally:\n",
    "        gc.collect()\n",
    "        torch.cuda.empty_cache()\n",
    "\n",
    "def process_images_in_folder_structure(input_folder, text_prompt):\n",
    "    total_files = 0\n",
    "    processed_files = 0\n",
    "    skipped_files = 0\n",
    "\n",
    "    second_level_folders = [f.path for f in os.scandir(input_folder) if f.is_dir()]\n",
    "\n",
    "    for second_folder in second_level_folders:\n",
    "        print(f\"Processing second level folder: {second_folder}\")\n",
    "        \n",
    "        third_level_folders = [f.path for f in os.scandir(second_folder) if f.is_dir()]\n",
    "\n",
    "        for third_folder in third_level_folders:\n",
    "            print(f\"Processing third level folder: {third_folder}\")\n",
    "            \n",
    "            output_folder = os.path.join(third_folder, 'grounding_output')\n",
    "            if not os.path.exists(output_folder):\n",
    "                os.makedirs(output_folder)\n",
    "\n",
    "            image_files = [f for f in os.listdir(third_folder) if f.lower().endswith((\".jpg\", \".png\"))]\n",
    "            total_files += len(image_files)\n",
    "\n",
    "            for filename in tqdm(image_files, desc=f\"Processing {third_folder}\"):\n",
    "                ip = os.path.join(third_folder, filename)\n",
    "                base_name = os.path.basename(ip).split('.')[0]\n",
    "                output_filename = f\"{base_name}.jpg\"\n",
    "                output_path = os.path.join(output_folder, output_filename)\n",
    "                \n",
    "                # 检查输出文件是否已存在\n",
    "                if os.path.exists(output_path):\n",
    "                    print(f\"Skipping {filename} as it has already been processed.\")\n",
    "                    skipped_files += 1\n",
    "                    continue\n",
    "\n",
    "                try:\n",
    "                    with torch_gc():\n",
    "                        image, boxes = get_box_from_gdino_with_text_prompt(ip, text_prompt)\n",
    "                        if image is not None and boxes is not None:\n",
    "                            seg_with_sam_with_box_prompt(image, boxes, text_prompt, output_folder, ip)\n",
    "                            processed_files += 1\n",
    "                except Exception as e:\n",
    "                    print(f\"处理文件 {filename} 时出错: {e}\")\n",
    "                finally:\n",
    "                    plt.close('all')\n",
    "                    gc.collect()\n",
    "                    torch.cuda.empty_cache()\n",
    "\n",
    "    print(f\"总文件数: {total_files}\")\n",
    "    print(f\"成功处理的文件数: {processed_files}\")\n",
    "    print(f\"跳过的文件数: {skipped_files}\")\n",
    "\n",
    "\n",
    "def get_box_from_gdino_with_text_prompt(ip, text_prompt):\n",
    "    try:\n",
    "        image_source, image = load_image(ip)\n",
    "        if image_source is None or image is None:\n",
    "            print(f\"无法加载图像: {ip}\")\n",
    "            return None, None\n",
    "\n",
    "        h, w = image_source.shape[:2]\n",
    "        boxes, logits, phrases = predict(\n",
    "            model=gdino_model,\n",
    "            image=image,\n",
    "            caption=text_prompt,\n",
    "            box_threshold=BOX_THRESHOLD,\n",
    "            text_threshold=TEXT_THRESHOLD,\n",
    "            device=device\n",
    "        )\n",
    "\n",
    "        boxes = boxes.to(device)\n",
    "        scale_tensor = torch.tensor([w, h, w, h], dtype=boxes.dtype, device=device)\n",
    "        boxes = boxes * scale_tensor\n",
    "        xyxy = box_convert(boxes=boxes, in_fmt=\"cxcywh\", out_fmt=\"xyxy\").cpu().numpy()\n",
    "\n",
    "        del image, logits, phrases, boxes, scale_tensor\n",
    "        gc.collect()\n",
    "        torch.cuda.empty_cache()\n",
    "        return image_source, xyxy\n",
    "    except Exception as e:\n",
    "        print(f\"加载图像 {ip} 时出错: {e}\")\n",
    "        return None, None\n",
    "\n",
    "def seg_with_sam_with_box_prompt(image, boxes, text_prompt, output_folder, ip):\n",
    "    predictor = SamPredictor(sam)\n",
    "    predictor.set_image(image)\n",
    "    merged_mask = None\n",
    "\n",
    "    for idx, box in enumerate(boxes):\n",
    "        input_box = box.astype(int)\n",
    "        masks, _, _ = predictor.predict(\n",
    "            point_coords=None,\n",
    "            point_labels=None,\n",
    "            box=input_box[None, :],\n",
    "            multimask_output=False,\n",
    "        )\n",
    "        if masks is not None and len(masks) > 0:\n",
    "            if merged_mask is None:\n",
    "                merged_mask = masks[0]\n",
    "            else:\n",
    "                merged_mask = np.logical_or(merged_mask, masks[0])\n",
    "\n",
    "    if merged_mask is not None:\n",
    "        merged_mask = np.where(merged_mask > 0, 1, 0)\n",
    "        if np.any(merged_mask):\n",
    "            base_name = os.path.basename(ip).split('.')[0]\n",
    "            output_filename = f\"{base_name}.jpg\"\n",
    "            output_path = os.path.join(output_folder, output_filename)\n",
    "            save_masked_image(image, merged_mask, output_path, boxes)\n",
    "\n",
    "            vertex_coords = [box for box in boxes]\n",
    "\n",
    "            excel_file = os.path.join(output_folder, 'grounding_results.xlsx')\n",
    "            if not os.path.exists(excel_file):\n",
    "                workbook = openpyxl.Workbook()\n",
    "                worksheet = workbook.active\n",
    "                worksheet.append(['Image Name', 'x1', 'y1', 'x2', 'y2', 'x3', 'y3', 'x4', 'y4'])\n",
    "            else:\n",
    "                workbook = openpyxl.load_workbook(excel_file)\n",
    "                worksheet = workbook.active\n",
    "\n",
    "            seen_vertices = set()\n",
    "            for i, box in enumerate(boxes):\n",
    "                if base_name not in set(worksheet['A']):\n",
    "                    worksheet.append([\n",
    "                        f\"{base_name}_{i + 1}\",\n",
    "                        box[0], box[1],\n",
    "                        box[2], box[1],\n",
    "                        box[2], box[3],\n",
    "                        box[0], box[3]\n",
    "                    ])\n",
    "\n",
    "            workbook.save(excel_file)\n",
    "\n",
    "    del predictor, masks\n",
    "    gc.collect()\n",
    "    torch.cuda.empty_cache()\n",
    "\n",
    "def save_masked_image(image, mask, output_path, boxes):\n",
    "    plt.figure(figsize=(8, 8))\n",
    "    plt.imshow(image)\n",
    "    show_mask(mask, plt.gca())\n",
    "\n",
    "    plt.axis('off')\n",
    "    plt.savefig(output_path, dpi=100, bbox_inches='tight', pad_inches=0, transparent=True)\n",
    "    plt.close('all')\n",
    "    gc.collect()\n",
    "\n",
    "def show_mask(mask, ax, random_color=False):\n",
    "    color = np.concatenate([np.random.random(3), np.array([0.6])], axis=0) if random_color else np.array(\n",
    "        [30 / 255, 144 / 255, 255 / 255, 1])\n",
    "    h, w = mask.shape[-2:]\n",
    "    mask_image = mask.reshape(h, w, 1) * color.reshape(1, 1, -1)\n",
    "    ax.imshow(mask_image)\n",
    "\n",
    "if __name__ == '__main__':\n",
    "    input_folder = \"D://code//data//howtodo_Lv2//\"\n",
    "    text = 'person,shoes'\n",
    "    process_images_in_folder_structure(input_folder, text)\n",
    "    print('完结完结完结')\n",
    "\n",
    "    "
   ]
  },
  {
   "cell_type": "markdown",
   "metadata": {},
   "source": [
    "# step3 - 将图片分为price/txt/white/scene四类\n",
    "这里是Lv2期的特殊需求,针对单独的cid3进行分类,读取每个cid3中的grounding_output文件夹,在其中再进行四分类"
   ]
  },
  {
   "cell_type": "code",
   "execution_count": null,
   "metadata": {},
   "outputs": [],
   "source": [
    "import os\n",
    "import shutil\n",
    "from PIL import Image\n",
    "from paddleocr import PaddleOCR\n",
    "from tqdm import tqdm\n",
    "from datetime import datetime\n",
    "import math\n",
    "import time\n",
    "import numpy as np\n",
    "import pandas as pd\n",
    "\n",
    "# 定义基础路径\n",
    "base_path = 'D://code//data//howtodo_from_0401//测试1'\n",
    "\n",
    "# 初始化 PaddleOCR\n",
    "ocr = PaddleOCR(use_angle_cls=True, lang=\"ch\", show_log=False)\n",
    "\n",
    "def process_grounding_output(grounding_output_path):\n",
    "    price_folder = os.path.join(grounding_output_path, 'price')\n",
    "    txt_folder = os.path.join(grounding_output_path, 'txt')\n",
    "    scene_folder = os.path.join(grounding_output_path, 'scene')\n",
    "    white_folder = os.path.join(grounding_output_path, 'white')\n",
    "\n",
    "    for folder in [price_folder, txt_folder, scene_folder, white_folder]:\n",
    "        if not os.path.exists(folder):\n",
    "            os.makedirs(folder)\n",
    "\n",
    "    '''\n",
    "    step1 - 筛选价促卖点图\n",
    "    '''\n",
    "    print(f'Step 1: 筛选价促卖点图 - {grounding_output_path}')\n",
    "\n",
    "    image_files = [f for f in os.listdir(grounding_output_path) if f.endswith(('.jpg', '.png'))]\n",
    "\n",
    "    with tqdm(total=len(image_files), desc=\"Processing images\") as pbar:\n",
    "        for filename in image_files:\n",
    "            img_path = os.path.join(grounding_output_path, filename)\n",
    "            \n",
    "            result = ocr.ocr(img_path, cls=True)\n",
    "            \n",
    "            if not result or not result[0]:\n",
    "                pbar.update(1)\n",
    "                continue\n",
    "            \n",
    "            data_list = result[0]\n",
    "            \n",
    "            keywords = ['满', '减', '折', '到手价', '送', '免息', '活动价', '包邮价', '参考价', \n",
    "                        r'.*满.*减.*', r'.*满.*-.*', r'.*满.*赠.*',r'.*满.*送.*', r'.*价.*', \n",
    "                        '券', '优惠', '用券', '领券', '券', '送', '低至', '立减', '直降', '免息',\n",
    "                        '¥', '夫', '￥']\n",
    "            \n",
    "            if any(keyword in data[1][0] for data in data_list for keyword in keywords):\n",
    "                try:\n",
    "                    shutil.move(img_path, price_folder)\n",
    "                    pbar.write(f\"Image '{filename}' moved to price_folder.\")\n",
    "                except Exception as e:\n",
    "                    pbar.write(f\"Failed to move image '{filename}': {e}\")\n",
    "            \n",
    "            pbar.update(1)\n",
    "\n",
    "    '''\n",
    "    step2 - 筛选白底图\n",
    "    '''\n",
    "    print(f'Step 2: 筛选白底图 - {grounding_output_path}')\n",
    "\n",
    "    def move_images_with_white_pixels(src_folder, dst_folder, threshold=0.40):\n",
    "        image_files = [f for f in os.listdir(src_folder) if f.endswith(('.jpg', '.png'))]\n",
    "        \n",
    "        with tqdm(total=len(image_files), desc=f\"Moving images from {src_folder}\") as pbar:\n",
    "            for filename in image_files:\n",
    "                img_path = os.path.join(src_folder, filename)\n",
    "                \n",
    "                with Image.open(img_path) as img:\n",
    "                    if img.mode != 'RGB':\n",
    "                        img = img.convert('RGB')\n",
    "                    width, height = img.size\n",
    "                \n",
    "                    white_pixels = sum(1 for x in range(width) for y in range(height) \n",
    "                                       if all(v > 230 for v in img.getpixel((x, y))[:3]))\n",
    "                    \n",
    "                    if white_pixels / (width * height) > threshold:\n",
    "                        try:\n",
    "                            shutil.move(img_path, dst_folder)\n",
    "                            pbar.write(f\"Image '{filename}' moved to white folder.\")\n",
    "                        except Exception as e:\n",
    "                            pbar.write(f\"Error moving image '{filename}': {e}\")\n",
    "                            \n",
    "                pbar.update(1)\n",
    "\n",
    "    move_images_with_white_pixels(grounding_output_path, white_folder, threshold=0.40)\n",
    "\n",
    "    '''\n",
    "    step3 - 筛选功能卖点图\n",
    "    '''\n",
    "    print(f'Step 3: 筛选功能卖点图 - {grounding_output_path}')\n",
    "\n",
    "    image_files = [f for f in os.listdir(grounding_output_path) if f.endswith(('.jpg', '.png'))]\n",
    "    for filename in image_files:\n",
    "        img_path = os.path.join(grounding_output_path, filename)\n",
    "        \n",
    "        img = Image.open(img_path)\n",
    "        width, height = img.size\n",
    "        \n",
    "        cropped_img = img.crop((0, height // 6, width, height))\n",
    "        img_np = np.array(cropped_img)\n",
    "        \n",
    "        result = ocr.ocr(img_np, cls=True)\n",
    "        \n",
    "        if result and result[0] and len(result[0]) >= 2:\n",
    "            shutil.move(img_path, txt_folder)\n",
    "            print(f\"'{filename}' moved to txt folder.\")\n",
    "        else:\n",
    "            print(f\"'{filename}' remains in source folder.\")\n",
    "\n",
    "    '''\n",
    "    step4 - 将剩余图片归类到scene\n",
    "    '''\n",
    "    print(f'Step 4: 归类图片到scene - {grounding_output_path}')\n",
    "\n",
    "    image_files = [f for f in os.listdir(grounding_output_path) if f.endswith(('.jpg', '.png'))]\n",
    "    for filename in image_files:\n",
    "        img_path = os.path.join(grounding_output_path, filename)\n",
    "        shutil.move(img_path, scene_folder)\n",
    "        print(f\"Image '{filename}' moved to scene_folder.\")\n",
    "\n",
    "    '''\n",
    "    step5 - 将white中有文本的图片移到txt_folder\n",
    "    '''\n",
    "    print(f'Step 5: 将white中有文本的图片移到txt_folder - {grounding_output_path}')\n",
    "\n",
    "    image_files = [f for f in os.listdir(white_folder) if f.endswith(('.jpg', '.png'))]\n",
    "\n",
    "    with tqdm(total=len(image_files), desc=\"Processing images\") as pbar:\n",
    "        for filename in image_files:\n",
    "            img_path = os.path.join(white_folder, filename)\n",
    "\n",
    "            img = Image.open(img_path)\n",
    "            width, height = img.size\n",
    "        \n",
    "            cropped_img = img.crop((0, height // 6, width, height))\n",
    "            img_np = np.array(cropped_img)\n",
    "            \n",
    "            result = ocr.ocr(img_np, cls=True)\n",
    "            \n",
    "            if result and result[0]:\n",
    "                lines_above_30_count = sum(1 for rectangle in result[0] \n",
    "                                           if min(math.sqrt((x2-x1)**2 + (y2-y1)**2) \n",
    "                                                  for (x1, y1), (x2, y2) in zip(rectangle[0], rectangle[0][1:])) > 30)\n",
    "                \n",
    "                if lines_above_30_count >= 2:\n",
    "                    shutil.move(img_path, txt_folder)\n",
    "                    pbar.write(f\"Image '{filename}' moved to txt_folder.\")\n",
    "                else:\n",
    "                    pbar.write(f\"Image '{filename}' remains in source folder.\")\n",
    "            \n",
    "            pbar.update(1)\n",
    "\n",
    "def main():\n",
    "    for root, dirs, files in os.walk(base_path):\n",
    "        if 'grounding_output' in dirs:\n",
    "            grounding_output_path = os.path.join(root, 'grounding_output')\n",
    "            print(f\"Processing: {grounding_output_path}\")\n",
    "            process_grounding_output(grounding_output_path)\n",
    "\n",
    "    print(\"All processing completed.\")\n",
    "    print(\"当前系统时间是:\", datetime.now())\n",
    "\n",
    "if __name__ == '__main__':\n",
    "    main()\n",
    "\n",
    "    "
   ]
  },
  {
   "cell_type": "code",
   "execution_count": null,
   "metadata": {},
   "outputs": [],
   "source": []
  }
 ],
 "metadata": {
  "kernelspec": {
   "display_name": "base",
   "language": "python",
   "name": "python3"
  },
  "language_info": {
   "codemirror_mode": {
    "name": "ipython",
    "version": 3
   },
   "file_extension": ".py",
   "mimetype": "text/x-python",
   "name": "python",
   "nbconvert_exporter": "python",
   "pygments_lexer": "ipython3",
   "version": "3.10.14"
  }
 },
 "nbformat": 4,
 "nbformat_minor": 2
}
